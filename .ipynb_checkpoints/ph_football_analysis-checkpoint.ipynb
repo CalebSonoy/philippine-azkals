{
 "cells": [
  {
   "cell_type": "markdown",
   "id": "c7f7793c",
   "metadata": {},
   "source": [
    "# Introduction \n",
    "\n",
    "<p>The Azkals, the Philippines Men's National Football Team, represents the Philippines in International Football tournamets. Since the Azkals' creation in 1913, the team has been unable to qualify for the FIFA World Cup, the pinnacle of International Football. With this, it would be interesting to see the Azkals' performance over time, especially in light of their initial qualification to the AFC Asian Cup in 2019.</p>"
   ]
  },
  {
   "cell_type": "markdown",
   "id": "6ac1d354",
   "metadata": {},
   "source": [
    "# 1. Import Libraries and Read in Data"
   ]
  },
  {
   "cell_type": "code",
   "execution_count": 1,
   "id": "a4685578",
   "metadata": {},
   "outputs": [],
   "source": [
    "import pandas as pd\n",
    "import numpy as np\n",
    "\n",
    "import requests\n",
    "from bs4 import BeautifulSoup\n",
    "\n",
    "import matplotlib.pyplot as plt\n",
    "import seaborn as sns"
   ]
  },
  {
   "cell_type": "code",
   "execution_count": 2,
   "id": "c88dcc66",
   "metadata": {
    "scrolled": true
   },
   "outputs": [],
   "source": [
    "# All the Philippine National Football Team Results Pages in Wikipedia\n",
    "azkals_results_urls = {\"unofficial\":r\"https://en.wikipedia.org/wiki/Philippines_national_football_team_results_(unofficial_matches)\",\n",
    "                       \"1913-1948\":r\"https://en.wikipedia.org/wiki/Philippines_national_football_team_results_(1913%E2%80%931948)\",\n",
    "                       \"1950-1979\":r\"https://en.wikipedia.org/wiki/Philippines_national_football_team_results_(1950%E2%80%931979)\",\n",
    "                       \"1980-1999\":r\"https://en.wikipedia.org/wiki/Philippines_national_football_team_results_(1980%E2%80%931999)\",\n",
    "                       \"2000-2009\":r\"https://en.wikipedia.org/wiki/Philippines_national_football_team_results_(2000%E2%80%932009)\",\n",
    "                       \"2010-2019\":r\"https://en.wikipedia.org/wiki/Philippines_national_football_team_results_(2010%E2%80%932019)\",\n",
    "                       \"2020-Present\":r\"https://en.wikipedia.org/wiki/Philippines_national_football_team_results_(2020%E2%80%93present)\"\n",
    "                      }"
   ]
  },
  {
   "cell_type": "code",
   "execution_count": 3,
   "id": "aee7fa75",
   "metadata": {
    "scrolled": false
   },
   "outputs": [],
   "source": [
    "num_df = 0\n",
    "\n",
    "# extract HTML data from the results websites\n",
    "for period in azkals_results_urls:\n",
    "        \n",
    "    # initialize temporary dataframes per period\n",
    "    temp_dfs = ['df_unofficial', 'df_1913_1948', 'df_1950_1979',\n",
    "            'df_1980_1999', 'df_2000_2009', 'df_2010_2019',\n",
    "            'df_2020_Present']    \n",
    "    \n",
    "    # initialize lists to be used in creating the dataframe\n",
    "    dates = []\n",
    "    competitions = []\n",
    "    home_teams = []\n",
    "    scores = []\n",
    "    away_teams = []\n",
    "    locations = []\n",
    "        \n",
    "    # create dictionary for making dataframes\n",
    "    azkals_results = {\"competition\": competitions,\n",
    "                  \"date\": dates,\n",
    "                  \"home_team\": home_teams,\n",
    "                  \"scores\": scores,\n",
    "                  \"away_team\": away_teams,\n",
    "                  \"location\":locations,\n",
    "                  }\n",
    "    \n",
    "    # extract the html from the websites\n",
    "    html_text = requests.get(azkals_results_urls[period]).text\n",
    "    soup = BeautifulSoup(html_text, 'lxml')\n",
    "    results = soup.select('h2,div.vevent')\n",
    "\n",
    "    # extract details for each match\n",
    "    for result in results:\n",
    "        if result.name == 'h2':\n",
    "            year = result.text.replace(\"[edit]\", \"\").replace(\"Results\", \"\")\n",
    "        elif result.name == 'div':\n",
    "            try:\n",
    "                date = result.table.tbody.tr.td.span.text.strip() + f\" {year}\" \n",
    "            except AttributeError:\n",
    "                date = None\n",
    "            competition = result.table.tbody.tr.td.small.text.strip()\n",
    "            home_team = result.table.tbody.tr.td.next_sibling.text.strip()\n",
    "            score = result.table.tbody.tr.td.next_sibling.next_sibling.text.strip()\n",
    "            away_team = result.table.tbody.tr.td.next_sibling.next_sibling.next_sibling.text.strip()\n",
    "            location = result.table.tbody.tr.td.next_sibling.next_sibling.next_sibling.next_sibling.text.strip()\n",
    "            \n",
    "            # input details into lists to be used in creating the dataframe\n",
    "            dates.append(date)\n",
    "            competitions.append(competition)\n",
    "            home_teams.append(home_team)\n",
    "            scores.append(score)\n",
    "            away_teams.append(away_team)\n",
    "            locations.append(location)\n",
    "\n",
    "    # create dataframe per webpage\n",
    "    # dates in each page have different formatting\n",
    "    df_name = temp_dfs[num_df]\n",
    "    globals()[df_name] = pd.DataFrame.from_dict(azkals_results, orient='index').transpose()\n",
    "    num_df += 1"
   ]
  },
  {
   "cell_type": "code",
   "execution_count": 4,
   "id": "68efc9d8",
   "metadata": {
    "scrolled": false
   },
   "outputs": [],
   "source": [
    "dfs = [df_unofficial, df_1913_1948, df_1950_1979, df_1980_1999,\n",
    "       df_2000_2009, df_2010_2019, df_2020_Present]\n",
    "\n",
    "# Cleaned dates that did not meet the correct format\n",
    "df_unofficial.iloc[52, 1] = \"26 July 2016\"\n",
    "df_unofficial.iloc[57, 1] = \"15 October 2023\"\n",
    "df_1913_1948.iloc[23, 1] = \"June 12 1940\"   # The game occurred between June 9 and June 16 in 1940 based on available data\n",
    "df_1950_1979.iloc[35:45, 1] = df_1950_1979.iloc[35:45, 1].str[0:-5]\n",
    "df_1950_1979.iloc[47:55, 1] = df_1950_1979.iloc[47:55, 1].str[0:-5]\n",
    "df_2010_2019.iloc[86, 1] = \"6 September 2016\"\n",
    "df_2010_2019.iloc[89, 1] = \"9 November 2016\"\n",
    "df_1980_1999[\"date\"] = pd.to_datetime(df_1980_1999[\"date\"], errors=\"raise\")\n",
    "df_2000_2009[\"date\"] = pd.to_datetime(df_2000_2009[\"date\"], errors=\"raise\")"
   ]
  },
  {
   "cell_type": "markdown",
   "id": "1f7de932",
   "metadata": {},
   "source": [
    "# 2. Data Understanding\n",
    "- Inspect Dataframes\n",
    "- Dtypes"
   ]
  },
  {
   "cell_type": "code",
   "execution_count": 5,
   "id": "368553c4",
   "metadata": {
    "scrolled": false
   },
   "outputs": [
    {
     "data": {
      "text/html": [
       "<div>\n",
       "<style scoped>\n",
       "    .dataframe tbody tr th:only-of-type {\n",
       "        vertical-align: middle;\n",
       "    }\n",
       "\n",
       "    .dataframe tbody tr th {\n",
       "        vertical-align: top;\n",
       "    }\n",
       "\n",
       "    .dataframe thead th {\n",
       "        text-align: right;\n",
       "    }\n",
       "</style>\n",
       "<table border=\"1\" class=\"dataframe\">\n",
       "  <thead>\n",
       "    <tr style=\"text-align: right;\">\n",
       "      <th></th>\n",
       "      <th>competition</th>\n",
       "      <th>date</th>\n",
       "      <th>home_team</th>\n",
       "      <th>scores</th>\n",
       "      <th>away_team</th>\n",
       "      <th>location</th>\n",
       "    </tr>\n",
       "  </thead>\n",
       "  <tbody>\n",
       "    <tr>\n",
       "      <th>0</th>\n",
       "      <td>Unofficial Friendly</td>\n",
       "      <td>1915</td>\n",
       "      <td>South China A.A.</td>\n",
       "      <td>3–1</td>\n",
       "      <td>Philippines</td>\n",
       "      <td>Shanghai, China</td>\n",
       "    </tr>\n",
       "    <tr>\n",
       "      <th>1</th>\n",
       "      <td>Friendly[1]</td>\n",
       "      <td>6 January 1968</td>\n",
       "      <td>Philippines</td>\n",
       "      <td>2–1</td>\n",
       "      <td>Dallas Tornado</td>\n",
       "      <td>Manila, Philippines</td>\n",
       "    </tr>\n",
       "    <tr>\n",
       "      <th>2</th>\n",
       "      <td>Friendly</td>\n",
       "      <td>12 February 1972</td>\n",
       "      <td>Philippines</td>\n",
       "      <td>0–6</td>\n",
       "      <td>Cruzeiro</td>\n",
       "      <td>Manila, Philippines</td>\n",
       "    </tr>\n",
       "    <tr>\n",
       "      <th>3</th>\n",
       "      <td>1972 Jakarta Anniversary Tournament</td>\n",
       "      <td>6 June 1972</td>\n",
       "      <td>South Korea B</td>\n",
       "      <td>1–1</td>\n",
       "      <td>Philippines</td>\n",
       "      <td>Jakarta</td>\n",
       "    </tr>\n",
       "    <tr>\n",
       "      <th>4</th>\n",
       "      <td>1972 Merdeka Tournament</td>\n",
       "      <td>23 July 1972</td>\n",
       "      <td>Philippines</td>\n",
       "      <td>1–1</td>\n",
       "      <td>Burma B</td>\n",
       "      <td>Ipoh, Malaysia</td>\n",
       "    </tr>\n",
       "    <tr>\n",
       "      <th>...</th>\n",
       "      <td>...</td>\n",
       "      <td>...</td>\n",
       "      <td>...</td>\n",
       "      <td>...</td>\n",
       "      <td>...</td>\n",
       "      <td>...</td>\n",
       "    </tr>\n",
       "    <tr>\n",
       "      <th>402</th>\n",
       "      <td>2026 FIFA World Cup qualification</td>\n",
       "      <td>November 21 2023</td>\n",
       "      <td>Philippines</td>\n",
       "      <td>1–1</td>\n",
       "      <td>Indonesia</td>\n",
       "      <td>Manila, Philippines</td>\n",
       "    </tr>\n",
       "    <tr>\n",
       "      <th>403</th>\n",
       "      <td>2026 FIFA World Cup qualification</td>\n",
       "      <td>March 21 2024</td>\n",
       "      <td>Iraq</td>\n",
       "      <td>v</td>\n",
       "      <td>Philippines</td>\n",
       "      <td>TBA</td>\n",
       "    </tr>\n",
       "    <tr>\n",
       "      <th>404</th>\n",
       "      <td>2026 FIFA World Cup qualification</td>\n",
       "      <td>March 26 2024</td>\n",
       "      <td>Philippines</td>\n",
       "      <td>v</td>\n",
       "      <td>Iraq</td>\n",
       "      <td>Manila, Philippines</td>\n",
       "    </tr>\n",
       "    <tr>\n",
       "      <th>405</th>\n",
       "      <td>2026 FIFA World Cup qualification</td>\n",
       "      <td>June 6 2024</td>\n",
       "      <td>Vietnam</td>\n",
       "      <td>v</td>\n",
       "      <td>Philippines</td>\n",
       "      <td>TBA</td>\n",
       "    </tr>\n",
       "    <tr>\n",
       "      <th>406</th>\n",
       "      <td>2026 FIFA World Cup qualification</td>\n",
       "      <td>June 11 2024</td>\n",
       "      <td>Indonesia</td>\n",
       "      <td>v</td>\n",
       "      <td>Philippines</td>\n",
       "      <td>TBA</td>\n",
       "    </tr>\n",
       "  </tbody>\n",
       "</table>\n",
       "<p>407 rows × 6 columns</p>\n",
       "</div>"
      ],
      "text/plain": [
       "                             competition               date         home_team  \\\n",
       "0                    Unofficial Friendly              1915   South China A.A.   \n",
       "1                            Friendly[1]    6 January 1968        Philippines   \n",
       "2                               Friendly  12 February 1972        Philippines   \n",
       "3    1972 Jakarta Anniversary Tournament       6 June 1972      South Korea B   \n",
       "4                1972 Merdeka Tournament      23 July 1972        Philippines   \n",
       "..                                   ...                ...               ...   \n",
       "402    2026 FIFA World Cup qualification   November 21 2023       Philippines   \n",
       "403    2026 FIFA World Cup qualification      March 21 2024              Iraq   \n",
       "404    2026 FIFA World Cup qualification      March 26 2024       Philippines   \n",
       "405    2026 FIFA World Cup qualification        June 6 2024           Vietnam   \n",
       "406    2026 FIFA World Cup qualification       June 11 2024         Indonesia   \n",
       "\n",
       "    scores       away_team             location  \n",
       "0      3–1     Philippines      Shanghai, China  \n",
       "1      2–1  Dallas Tornado  Manila, Philippines  \n",
       "2      0–6        Cruzeiro  Manila, Philippines  \n",
       "3      1–1     Philippines              Jakarta  \n",
       "4      1–1         Burma B       Ipoh, Malaysia  \n",
       "..     ...             ...                  ...  \n",
       "402    1–1       Indonesia  Manila, Philippines  \n",
       "403      v     Philippines                  TBA  \n",
       "404      v            Iraq  Manila, Philippines  \n",
       "405      v     Philippines                  TBA  \n",
       "406      v     Philippines                  TBA  \n",
       "\n",
       "[407 rows x 6 columns]"
      ]
     },
     "execution_count": 5,
     "metadata": {},
     "output_type": "execute_result"
    }
   ],
   "source": [
    "# Combine all dataframes together\n",
    "df_azkals = pd.concat(dfs)\n",
    "df_azkals.reset_index(inplace=True, drop=True)\n",
    "df_azkals"
   ]
  },
  {
   "cell_type": "code",
   "execution_count": 6,
   "id": "a4c0541b",
   "metadata": {
    "scrolled": false
   },
   "outputs": [
    {
     "name": "stdout",
     "output_type": "stream",
     "text": [
      "<class 'pandas.core.frame.DataFrame'>\n",
      "RangeIndex: 407 entries, 0 to 406\n",
      "Data columns (total 6 columns):\n",
      " #   Column       Non-Null Count  Dtype \n",
      "---  ------       --------------  ----- \n",
      " 0   competition  407 non-null    object\n",
      " 1   date         405 non-null    object\n",
      " 2   home_team    407 non-null    object\n",
      " 3   scores       407 non-null    object\n",
      " 4   away_team    407 non-null    object\n",
      " 5   location     407 non-null    object\n",
      "dtypes: object(6)\n",
      "memory usage: 19.2+ KB\n"
     ]
    }
   ],
   "source": [
    "df_azkals.info()"
   ]
  },
  {
   "cell_type": "markdown",
   "id": "013489f8",
   "metadata": {},
   "source": [
    "# 3. Data Preparation"
   ]
  },
  {
   "cell_type": "markdown",
   "id": "f6e39657",
   "metadata": {},
   "source": [
    "## Competition Column"
   ]
  },
  {
   "cell_type": "code",
   "execution_count": 7,
   "id": "b48ccc32",
   "metadata": {},
   "outputs": [],
   "source": [
    "df_azkals[\"competition\"] = df_azkals[\"competition\"].astype(\"string\")"
   ]
  },
  {
   "cell_type": "code",
   "execution_count": 8,
   "id": "44f1641b",
   "metadata": {
    "scrolled": true
   },
   "outputs": [
    {
     "data": {
      "text/plain": [
       "<StringArray>\n",
       "[                'Unofficial Friendly',                         'Friendly[1]',\n",
       "                            'Friendly', '1972 Jakarta Anniversary Tournament',\n",
       "             '1972 Merdeka Tournament',                         'Friendly[2]',\n",
       " '1981 Jakarta Anniversary Tournament',           '1986 President Aquino Cup',\n",
       "  '1991 Philippines International Cup',  '1993 Philippines International Cup',\n",
       " ...\n",
       "            '2018 AFF Championship GS',    '2018 AFF Championship SF 1st leg',\n",
       "    '2018 AFF Championship SF 2nd leg',               '2019 AFC Asian Cup GS',\n",
       "   '2022 FIFA World Cup qualification',            '2020 AFF Championship GS',\n",
       "         '2022 FAS Tri-Nations Series',    '2023 AFC Asian Cup qualification',\n",
       "            '2022 AFF Championship GS',   '2026 FIFA World Cup qualification']\n",
       "Length: 157, dtype: string"
      ]
     },
     "execution_count": 8,
     "metadata": {},
     "output_type": "execute_result"
    }
   ],
   "source": [
    "df_azkals[\"competition\"].unique()"
   ]
  },
  {
   "cell_type": "code",
   "execution_count": 9,
   "id": "d882c5f4",
   "metadata": {
    "scrolled": false
   },
   "outputs": [
    {
     "data": {
      "text/plain": [
       "<StringArray>\n",
       "['Friendly']\n",
       "Length: 1, dtype: string"
      ]
     },
     "execution_count": 9,
     "metadata": {},
     "output_type": "execute_result"
    }
   ],
   "source": [
    "# Filter in and standardize all friendly competitions\n",
    "friendlies = df_azkals[\"competition\"].str.lower().str.contains(\"friendly\")\n",
    "df_azkals.loc[friendlies, \"competition\"] = \"Friendly\"\n",
    "df_azkals[friendlies][\"competition\"].unique()"
   ]
  },
  {
   "cell_type": "code",
   "execution_count": 10,
   "id": "ebaeadb7",
   "metadata": {},
   "outputs": [],
   "source": [
    "# Almost all competitions have years at the start\n",
    "# Strip the years from competitions\n",
    "comps_with_year = (df_azkals[\"competition\"] != \"Friendly\") & (df_azkals[\"competition\"] != \"Aloha Soccer Festival[3][4]\")\n",
    "competition_col = df_azkals.columns.get_loc(\"competition\")\n",
    "for result_index in df_azkals[comps_with_year].index:\n",
    "    comp = df_azkals.iloc[result_index, competition_col]\n",
    "    df_azkals.iloc[result_index, competition_col] = comp[5:]"
   ]
  },
  {
   "cell_type": "code",
   "execution_count": 11,
   "id": "956d2e29",
   "metadata": {
    "scrolled": false
   },
   "outputs": [
    {
     "data": {
      "text/plain": [
       "<StringArray>\n",
       "[                               'Friendly',\n",
       "          'Jakarta Anniversary Tournament',\n",
       "                      'Merdeka Tournament',\n",
       "                    'President Aquino Cup',\n",
       "           'Philippines International Cup',\n",
       "                         \"President's Cup\",\n",
       "                      \"President's Cup SF\",\n",
       "              \"President's Centennial Cup\",\n",
       "           \"President's Centennial Cup SF\",\n",
       "    \"President's Centennial Cup 3rd place\",\n",
       "                    'AFC Challenge Cup GS',\n",
       "                           'Long Teng Cup',\n",
       "          'Far Eastern Championship Games',\n",
       "                        'East Asian Games',\n",
       "                'Southeast Asian Games GS',\n",
       "           'Summer Olympics qualification',\n",
       "             'Aloha Soccer Festival[3][4]',\n",
       "                          'Asian Games R1',\n",
       "                         'Pesta Sukan Cup',\n",
       "     \"President's Cup Football Tournament\",\n",
       "           'Merdeka Tournament 11th place',\n",
       "                                  'OQT[6]',\n",
       "                                     'OQT',\n",
       "             'AFC Asian Cup qualification',\n",
       "                             'Asian Games',\n",
       "                'Southeast Asian Games SF',\n",
       "         'Southeast Asian Games 3rd place',\n",
       " 'Philippines International Cup 3rd place',\n",
       "                     'AFF Championship GS',\n",
       "            'FIFA World Cup qualification',\n",
       "               \"President's Cup 3rd place\",\n",
       "          'AFF Championship qualification',\n",
       "                            'Tiger Cup GS',\n",
       "         'AFC Challenge Cup qualification',\n",
       "             'AFF Championship SF 1st leg',\n",
       "             'AFF Championship SF 2nd leg',\n",
       "                    'AFC Challenge Cup SF',\n",
       "             'AFC Challenge Cup 3rd place',\n",
       "                'Philippine Peace Cup[13]',\n",
       "                'Philippine Peace Cup[14]',\n",
       "                'Philippine Peace Cup[15]',\n",
       "                'Philippine Peace Cup[25]',\n",
       "                'Philippine Peace Cup[26]',\n",
       "                     'AFC Challenge Cup F',\n",
       "             'Philippine Peace Cup SF[38]',\n",
       "              'Philippine Peace Cup F[38]',\n",
       "           'CTFA International Tournament',\n",
       "                         'Bangabandhu Cup',\n",
       "                      'Bangabandhu Cup SF',\n",
       "                        'AFC Asian Cup GS',\n",
       "                  'FAS Tri-Nations Series']\n",
       "Length: 51, dtype: string"
      ]
     },
     "execution_count": 11,
     "metadata": {},
     "output_type": "execute_result"
    }
   ],
   "source": [
    "df_azkals[\"competition\"].unique()"
   ]
  },
  {
   "cell_type": "code",
   "execution_count": 12,
   "id": "3048f679",
   "metadata": {
    "scrolled": true
   },
   "outputs": [],
   "source": [
    "# Remove uneccesary suffixes\n",
    "df_azkals[\"competition\"] = df_azkals.loc[:, \"competition\"].str.replace(\" 1st leg\", \"\")\n",
    "df_azkals[\"competition\"] = df_azkals.loc[:, \"competition\"].str.replace(\" 2nd leg\", \"\")\n",
    "df_azkals[\"competition\"] = df_azkals.loc[:, \"competition\"].str.replace(\" 3rd place\", \"\")\n",
    "df_azkals[\"competition\"] = df_azkals.loc[:, \"competition\"].str.replace(\" 11th place\", \"\")\n",
    "df_azkals[\"competition\"] = df_azkals.loc[:, \"competition\"].str.replace(\" R1\", \"\")\n",
    "df_azkals[\"competition\"] = df_azkals.loc[:, \"competition\"].str.split(\"[\", n=1).str[0]\n",
    "df_azkals[\"competition\"] = df_azkals.loc[:, \"competition\"].str.replace(\" GS\", \"\")\n",
    "df_azkals[\"competition\"] = df_azkals.loc[:, \"competition\"].str.replace(\" SF\", \"\")\n",
    "df_azkals[\"competition\"] = df_azkals.loc[:, \"competition\"].str.rstrip(\"F\")\n",
    "df_azkals[\"competition\"] = df_azkals.loc[:, \"competition\"].str.strip()"
   ]
  },
  {
   "cell_type": "code",
   "execution_count": 13,
   "id": "f87576f6",
   "metadata": {},
   "outputs": [],
   "source": [
    "# rows with OQT were under the 1972 Summer Olympics football qualification\n",
    "summer_olympics_1972 = df_azkals[\"competition\"] == \"OQT\"\n",
    "df_azkals.loc[summer_olympics_1972, \"competition\"] = \"Summer Olympics qualification\""
   ]
  },
  {
   "cell_type": "code",
   "execution_count": 14,
   "id": "3fd75ce6",
   "metadata": {
    "scrolled": true
   },
   "outputs": [
    {
     "data": {
      "text/plain": [
       "array(['Friendly', 'Jakarta Anniversary Tournament', 'Merdeka Tournament',\n",
       "       'President Aquino Cup', 'Philippines International Cup',\n",
       "       \"President's Cup\", \"President's Centennial Cup\",\n",
       "       'AFC Challenge Cup', 'Long Teng Cup',\n",
       "       'Far Eastern Championship Games', 'East Asian Games',\n",
       "       'Southeast Asian Games', 'Summer Olympics qualification',\n",
       "       'Aloha Soccer Festival', 'Asian Games', 'Pesta Sukan Cup',\n",
       "       \"President's Cup Football Tournament\",\n",
       "       'AFC Asian Cup qualification', 'AFF Championship',\n",
       "       'FIFA World Cup qualification', 'AFF Championship qualification',\n",
       "       'Tiger Cup', 'AFC Challenge Cup qualification',\n",
       "       'Philippine Peace Cup', 'CTFA International Tournament',\n",
       "       'Bangabandhu Cup', 'AFC Asian Cup', 'FAS Tri-Nations Series'],\n",
       "      dtype=object)"
      ]
     },
     "execution_count": 14,
     "metadata": {},
     "output_type": "execute_result"
    }
   ],
   "source": [
    "df_azkals[\"competition\"].unique()"
   ]
  },
  {
   "cell_type": "markdown",
   "id": "f625d6d1",
   "metadata": {},
   "source": [
    "## Date Column"
   ]
  },
  {
   "cell_type": "code",
   "execution_count": 15,
   "id": "cb6e87c0",
   "metadata": {},
   "outputs": [],
   "source": [
    "# Convert date column from object to datetime\n",
    "df_azkals[\"date\"] = pd.to_datetime(df_azkals[\"date\"], errors=\"raise\")"
   ]
  },
  {
   "cell_type": "markdown",
   "id": "3b6b2bdf",
   "metadata": {},
   "source": [
    "## Home Team Column"
   ]
  },
  {
   "cell_type": "code",
   "execution_count": 16,
   "id": "2f334758",
   "metadata": {
    "scrolled": true
   },
   "outputs": [
    {
     "data": {
      "text/plain": [
       "array(['South China A.A.', 'Philippines', 'South Korea B',\n",
       "       'Universidad de Guadalajara', 'Guangdong', 'Malay Mail',\n",
       "       'Rattana Bundit', 'Bangkok Glass', 'Taipei PE College',\n",
       "       'Chinese Taipei U-23', 'Hong Kong U-23', 'Nakhon Pathom',\n",
       "       'Kanto Gakuin University', 'Aachen-Düren XI', 'Bonner U-19',\n",
       "       'Ingolstadt 04', 'Darmstadt 98', 'Bahrain U23', 'Al Ahli SC',\n",
       "       'Chicago Inferno', 'Cambodia', 'Laos', 'Al-Muharraq SC', 'Vietnam',\n",
       "       'Guangzhou Evergrande (RT)', 'Kyrgyzstan', 'China', 'Japan',\n",
       "       'Republic of China', 'Manchukuo', 'Malaysia', 'Israel',\n",
       "       'Singapore', 'Khmer Republic', 'Indonesia', 'Burma', 'Hong Kong',\n",
       "       'India', 'Thailand', 'South Korea', 'Lebanon', 'Taiwan',\n",
       "       'South Vietnam', 'Brunei', 'Syria', 'Bangladesh', 'Iran',\n",
       "       'Pakistan', 'Myanmar', 'Macau', 'Qatar', 'Guam', 'Oman',\n",
       "       'Chinese Taipei', 'Maldives', 'Turkmenistan', 'Timor-Leste',\n",
       "       'Mongolia', 'Sri Lanka', 'Kuwait', 'North Korea', 'Tajikistan',\n",
       "       'Bahrain', 'United Arab Emirates', 'Palestine', 'Yemen',\n",
       "       'Uzbekistan', 'Nepal', 'Al-Hadd', 'Jordan', 'Iraq'], dtype=object)"
      ]
     },
     "execution_count": 16,
     "metadata": {},
     "output_type": "execute_result"
    }
   ],
   "source": [
    "df_azkals[\"home_team\"].unique()"
   ]
  },
  {
   "cell_type": "code",
   "execution_count": 17,
   "id": "d5844d8c",
   "metadata": {},
   "outputs": [],
   "source": [
    "df_azkals[\"home_team\"] = df_azkals[\"home_team\"].astype(\"string\")"
   ]
  },
  {
   "cell_type": "markdown",
   "id": "acc59ade",
   "metadata": {},
   "source": [
    "## Away Team Column"
   ]
  },
  {
   "cell_type": "code",
   "execution_count": 18,
   "id": "a5cf3703",
   "metadata": {},
   "outputs": [],
   "source": [
    "df_azkals[\"away_team\"] = df_azkals[\"away_team\"].astype(\"string\")"
   ]
  },
  {
   "cell_type": "code",
   "execution_count": 19,
   "id": "6daffdfd",
   "metadata": {
    "scrolled": true
   },
   "outputs": [
    {
     "data": {
      "text/plain": [
       "<StringArray>\n",
       "[         'Philippines',       'Dallas Tornado',             'Cruzeiro',\n",
       "              'Burma B',             'Sabah FA',           'Malaysia B',\n",
       "         'Russian SFSR',          'South China',          'Taipei Bank',\n",
       "           'Malay Mail',             'Shanghai', 'Woodlands Wellington',\n",
       " 'Royal Thai Air Force',               'Tatung',    'Hong Kong Rangers',\n",
       "    'Sembawang Rangers',           'India U-20',        'UFL All Stars',\n",
       "            'LA Galaxy',      'Inter de Madrid',    'Icheon Citizen FC',\n",
       "      'Uzbekistan U-23',       'Australia U-23',               'Global',\n",
       "       'Perth Glory FC',             'Mongolia',     'Chainat Hornbill',\n",
       "                'China',                'Japan',    'Dutch East Indies',\n",
       "               'Brunei',            'Indonesia',               'Taiwan',\n",
       "             'Thailand',            'Sri Lanka',            'Australia',\n",
       "            'Hong Kong',          'South Korea',        'South Vietnam',\n",
       "             'Malaysia',              'Vietnam',            'Singapore',\n",
       "             'Cambodia',              'Estonia',                 'Laos',\n",
       "                'Syria',                 'Oman',              'Myanmar',\n",
       "          'Timor-Leste',          'Afghanistan',           'Tajikistan',\n",
       "               'Bhutan',                'Macau',            'Palestine',\n",
       "               'Kuwait',                'Nepal',                'India',\n",
       "                 'Guam',       'Chinese Taipei',         'Turkmenistan',\n",
       "             'Pakistan',           'Azerbaijan',     'Papua New Guinea',\n",
       "              'Bahrain',             'Maldives',           'Uzbekistan',\n",
       "                'Yemen',          'North Korea',           'Kyrgyzstan',\n",
       "                 'Fiji',        'PFL All-Stars',                 'Iraq']\n",
       "Length: 72, dtype: string"
      ]
     },
     "execution_count": 19,
     "metadata": {},
     "output_type": "execute_result"
    }
   ],
   "source": [
    "df_azkals[\"away_team\"].unique()"
   ]
  },
  {
   "cell_type": "markdown",
   "id": "3b66a283",
   "metadata": {},
   "source": [
    "## Scores Column"
   ]
  },
  {
   "cell_type": "code",
   "execution_count": 20,
   "id": "22b07172",
   "metadata": {
    "scrolled": true
   },
   "outputs": [
    {
     "data": {
      "text/plain": [
       "array(['3–1', '2–1', '0–6', '1–1', '2–3', '12–0', '2–0', '0–5', '1–5',\n",
       "       '1–0', '0–0', '1–2', '0–2', '0–1', '0–4', '1–3', '4–2[note 1]',\n",
       "       '8–0', '4–0', '8–1', '3–4', '1–4', '5–0', '1–6', '1–1 (2–4 p)',\n",
       "       '0–3', '0–0[note 2]', '2–1[note 3]', '4–2', '2–15', '3–0abandoned',\n",
       "       '3–0', '7–2', '4–3', '3–2', '4–1', '6–0', '11–0', '2–2', '5–1',\n",
       "       '?', '0–11', '4–4', '15–0', '11–1', '10–0', '0–7', '4–7', '5–2',\n",
       "       '6–1', '7–0', '10–1', '7–1', '0–9', '6–2', '1–1 (3–4 p)', '9–0',\n",
       "       '13–1', '0–1[note 1]', '3–3', 'Cancelled[note 2]', '0–8',\n",
       "       '2–3 (a.e.t.)', '2–5', 'Cancelled', 'v'], dtype=object)"
      ]
     },
     "execution_count": 20,
     "metadata": {},
     "output_type": "execute_result"
    }
   ],
   "source": [
    "df_azkals[\"scores\"].unique()"
   ]
  },
  {
   "cell_type": "code",
   "execution_count": 21,
   "id": "35491c5d",
   "metadata": {
    "scrolled": true
   },
   "outputs": [
    {
     "data": {
      "text/plain": [
       "['4–2[note 1]',\n",
       " '1–1 (2–4 p)',\n",
       " '0–0[note 2]',\n",
       " '2–1[note 3]',\n",
       " '3–0abandoned',\n",
       " '?',\n",
       " '1–1 (3–4 p)',\n",
       " '0–1[note 1]',\n",
       " 'Cancelled[note 2]',\n",
       " '2–3 (a.e.t.)',\n",
       " 'Cancelled',\n",
       " 'v']"
      ]
     },
     "execution_count": 21,
     "metadata": {},
     "output_type": "execute_result"
    }
   ],
   "source": [
    "# find scores that don't match the format\n",
    "faulty_scores = []\n",
    "for score in df_azkals[\"scores\"].unique():\n",
    "    if (len(score) > 4) | (len(score) < 3):\n",
    "        faulty_scores.append(score)\n",
    "\n",
    "# Two scores appear to also include penalty shootouts\n",
    "faulty_scores"
   ]
  },
  {
   "cell_type": "code",
   "execution_count": 22,
   "id": "22e88a70",
   "metadata": {},
   "outputs": [
    {
     "data": {
      "text/html": [
       "<div>\n",
       "<style scoped>\n",
       "    .dataframe tbody tr th:only-of-type {\n",
       "        vertical-align: middle;\n",
       "    }\n",
       "\n",
       "    .dataframe tbody tr th {\n",
       "        vertical-align: top;\n",
       "    }\n",
       "\n",
       "    .dataframe thead th {\n",
       "        text-align: right;\n",
       "    }\n",
       "</style>\n",
       "<table border=\"1\" class=\"dataframe\">\n",
       "  <thead>\n",
       "    <tr style=\"text-align: right;\">\n",
       "      <th></th>\n",
       "      <th>competition</th>\n",
       "      <th>date</th>\n",
       "      <th>home_team</th>\n",
       "      <th>scores</th>\n",
       "      <th>away_team</th>\n",
       "      <th>location</th>\n",
       "      <th>penalty_scores</th>\n",
       "    </tr>\n",
       "  </thead>\n",
       "  <tbody>\n",
       "    <tr>\n",
       "      <th>42</th>\n",
       "      <td>Friendly</td>\n",
       "      <td>2012-01-21</td>\n",
       "      <td>Philippines</td>\n",
       "      <td>1–1 (2–4 p)</td>\n",
       "      <td>Icheon Citizen FC</td>\n",
       "      <td>Manila, Philippines</td>\n",
       "      <td>2–4</td>\n",
       "    </tr>\n",
       "    <tr>\n",
       "      <th>190</th>\n",
       "      <td>President's Cup</td>\n",
       "      <td>1997-02-23</td>\n",
       "      <td>Philippines</td>\n",
       "      <td>1–1 (3–4 p)</td>\n",
       "      <td>Cambodia</td>\n",
       "      <td>Iloilo City, Philippines</td>\n",
       "      <td>3–4</td>\n",
       "    </tr>\n",
       "  </tbody>\n",
       "</table>\n",
       "</div>"
      ],
      "text/plain": [
       "         competition       date    home_team       scores          away_team  \\\n",
       "42          Friendly 2012-01-21  Philippines  1–1 (2–4 p)  Icheon Citizen FC   \n",
       "190  President's Cup 1997-02-23  Philippines  1–1 (3–4 p)           Cambodia   \n",
       "\n",
       "                     location penalty_scores  \n",
       "42        Manila, Philippines            2–4  \n",
       "190  Iloilo City, Philippines            3–4  "
      ]
     },
     "execution_count": 22,
     "metadata": {},
     "output_type": "execute_result"
    }
   ],
   "source": [
    "# Create a column for penalty scores to represent these matches\n",
    "df_azkals[\"penalty_scores\"] = np.nan\n",
    "\n",
    "# Enter data for penalties in games with penalties \n",
    "penalties = df_azkals[\"scores\"].str.contains(\"p\")\n",
    "penalty_results = df_azkals[df_azkals[\"scores\"].str.contains(\"p\")][\"scores\"].str[5:8]\n",
    "df_azkals.loc[penalties, \"penalty_scores\"] = penalty_results\n",
    "\n",
    "df_azkals[penalties]"
   ]
  },
  {
   "cell_type": "code",
   "execution_count": 23,
   "id": "a858561d",
   "metadata": {
    "scrolled": true
   },
   "outputs": [
    {
     "data": {
      "text/html": [
       "<div>\n",
       "<style scoped>\n",
       "    .dataframe tbody tr th:only-of-type {\n",
       "        vertical-align: middle;\n",
       "    }\n",
       "\n",
       "    .dataframe tbody tr th {\n",
       "        vertical-align: top;\n",
       "    }\n",
       "\n",
       "    .dataframe thead th {\n",
       "        text-align: right;\n",
       "    }\n",
       "</style>\n",
       "<table border=\"1\" class=\"dataframe\">\n",
       "  <thead>\n",
       "    <tr style=\"text-align: right;\">\n",
       "      <th></th>\n",
       "      <th>competition</th>\n",
       "      <th>date</th>\n",
       "      <th>home_team</th>\n",
       "      <th>scores</th>\n",
       "      <th>away_team</th>\n",
       "      <th>location</th>\n",
       "      <th>penalty_scores</th>\n",
       "    </tr>\n",
       "  </thead>\n",
       "  <tbody>\n",
       "    <tr>\n",
       "      <th>29</th>\n",
       "      <td>Long Teng Cup</td>\n",
       "      <td>2010-10-09</td>\n",
       "      <td>Hong Kong U-23</td>\n",
       "      <td>4–2[note 1]</td>\n",
       "      <td>Philippines</td>\n",
       "      <td>Kaohsiung, Taiwan</td>\n",
       "      <td>NaN</td>\n",
       "    </tr>\n",
       "    <tr>\n",
       "      <th>42</th>\n",
       "      <td>Friendly</td>\n",
       "      <td>2012-01-21</td>\n",
       "      <td>Philippines</td>\n",
       "      <td>1–1 (2–4 p)</td>\n",
       "      <td>Icheon Citizen FC</td>\n",
       "      <td>Manila, Philippines</td>\n",
       "      <td>2–4</td>\n",
       "    </tr>\n",
       "    <tr>\n",
       "      <th>47</th>\n",
       "      <td>Friendly</td>\n",
       "      <td>2012-09-05</td>\n",
       "      <td>Cambodia</td>\n",
       "      <td>0–0[note 2]</td>\n",
       "      <td>Philippines</td>\n",
       "      <td>Phnom Penh, Cambodia</td>\n",
       "      <td>NaN</td>\n",
       "    </tr>\n",
       "    <tr>\n",
       "      <th>48</th>\n",
       "      <td>Friendly</td>\n",
       "      <td>2012-09-10</td>\n",
       "      <td>Laos</td>\n",
       "      <td>2–1[note 3]</td>\n",
       "      <td>Philippines</td>\n",
       "      <td>Vientiane, Laos</td>\n",
       "      <td>NaN</td>\n",
       "    </tr>\n",
       "    <tr>\n",
       "      <th>63</th>\n",
       "      <td>Far Eastern Championship Games</td>\n",
       "      <td>1917-05-11</td>\n",
       "      <td>China</td>\n",
       "      <td>3–0abandoned</td>\n",
       "      <td>Philippines</td>\n",
       "      <td>Tokyo, Japan</td>\n",
       "      <td>NaN</td>\n",
       "    </tr>\n",
       "    <tr>\n",
       "      <th>101</th>\n",
       "      <td>Pesta Sukan Cup</td>\n",
       "      <td>1972-08-05</td>\n",
       "      <td>Khmer Republic</td>\n",
       "      <td>?</td>\n",
       "      <td>Philippines</td>\n",
       "      <td>Singapore</td>\n",
       "      <td>NaN</td>\n",
       "    </tr>\n",
       "    <tr>\n",
       "      <th>190</th>\n",
       "      <td>President's Cup</td>\n",
       "      <td>1997-02-23</td>\n",
       "      <td>Philippines</td>\n",
       "      <td>1–1 (3–4 p)</td>\n",
       "      <td>Cambodia</td>\n",
       "      <td>Iloilo City, Philippines</td>\n",
       "      <td>3–4</td>\n",
       "    </tr>\n",
       "    <tr>\n",
       "      <th>257</th>\n",
       "      <td>AFF Championship</td>\n",
       "      <td>2010-12-16</td>\n",
       "      <td>Philippines</td>\n",
       "      <td>0–1[note 1]</td>\n",
       "      <td>Indonesia</td>\n",
       "      <td>Jakarta, Indonesia</td>\n",
       "      <td>NaN</td>\n",
       "    </tr>\n",
       "    <tr>\n",
       "      <th>295</th>\n",
       "      <td>AFC Challenge Cup qualification</td>\n",
       "      <td>2013-03-22</td>\n",
       "      <td>Philippines</td>\n",
       "      <td>Cancelled[note 2]</td>\n",
       "      <td>Brunei</td>\n",
       "      <td>Manila, Philippines</td>\n",
       "      <td>NaN</td>\n",
       "    </tr>\n",
       "    <tr>\n",
       "      <th>311</th>\n",
       "      <td>AFC Challenge Cup</td>\n",
       "      <td>2014-05-27</td>\n",
       "      <td>Maldives</td>\n",
       "      <td>2–3 (a.e.t.)</td>\n",
       "      <td>Philippines</td>\n",
       "      <td>Malé, Maldives</td>\n",
       "      <td>NaN</td>\n",
       "    </tr>\n",
       "    <tr>\n",
       "      <th>314</th>\n",
       "      <td>Philippine Peace Cup</td>\n",
       "      <td>2014-09-06</td>\n",
       "      <td>Philippines</td>\n",
       "      <td>2–3 (a.e.t.)</td>\n",
       "      <td>Myanmar</td>\n",
       "      <td>Manila, Philippines</td>\n",
       "      <td>NaN</td>\n",
       "    </tr>\n",
       "    <tr>\n",
       "      <th>374</th>\n",
       "      <td>Friendly</td>\n",
       "      <td>2021-05-28</td>\n",
       "      <td>Philippines</td>\n",
       "      <td>Cancelled</td>\n",
       "      <td>India</td>\n",
       "      <td>Qatar</td>\n",
       "      <td>NaN</td>\n",
       "    </tr>\n",
       "    <tr>\n",
       "      <th>403</th>\n",
       "      <td>FIFA World Cup qualification</td>\n",
       "      <td>2024-03-21</td>\n",
       "      <td>Iraq</td>\n",
       "      <td>v</td>\n",
       "      <td>Philippines</td>\n",
       "      <td>TBA</td>\n",
       "      <td>NaN</td>\n",
       "    </tr>\n",
       "    <tr>\n",
       "      <th>404</th>\n",
       "      <td>FIFA World Cup qualification</td>\n",
       "      <td>2024-03-26</td>\n",
       "      <td>Philippines</td>\n",
       "      <td>v</td>\n",
       "      <td>Iraq</td>\n",
       "      <td>Manila, Philippines</td>\n",
       "      <td>NaN</td>\n",
       "    </tr>\n",
       "    <tr>\n",
       "      <th>405</th>\n",
       "      <td>FIFA World Cup qualification</td>\n",
       "      <td>2024-06-06</td>\n",
       "      <td>Vietnam</td>\n",
       "      <td>v</td>\n",
       "      <td>Philippines</td>\n",
       "      <td>TBA</td>\n",
       "      <td>NaN</td>\n",
       "    </tr>\n",
       "    <tr>\n",
       "      <th>406</th>\n",
       "      <td>FIFA World Cup qualification</td>\n",
       "      <td>2024-06-11</td>\n",
       "      <td>Indonesia</td>\n",
       "      <td>v</td>\n",
       "      <td>Philippines</td>\n",
       "      <td>TBA</td>\n",
       "      <td>NaN</td>\n",
       "    </tr>\n",
       "  </tbody>\n",
       "</table>\n",
       "</div>"
      ],
      "text/plain": [
       "                         competition       date       home_team  \\\n",
       "29                     Long Teng Cup 2010-10-09  Hong Kong U-23   \n",
       "42                          Friendly 2012-01-21     Philippines   \n",
       "47                          Friendly 2012-09-05        Cambodia   \n",
       "48                          Friendly 2012-09-10            Laos   \n",
       "63    Far Eastern Championship Games 1917-05-11           China   \n",
       "101                  Pesta Sukan Cup 1972-08-05  Khmer Republic   \n",
       "190                  President's Cup 1997-02-23     Philippines   \n",
       "257                 AFF Championship 2010-12-16     Philippines   \n",
       "295  AFC Challenge Cup qualification 2013-03-22     Philippines   \n",
       "311                AFC Challenge Cup 2014-05-27        Maldives   \n",
       "314             Philippine Peace Cup 2014-09-06     Philippines   \n",
       "374                         Friendly 2021-05-28     Philippines   \n",
       "403     FIFA World Cup qualification 2024-03-21            Iraq   \n",
       "404     FIFA World Cup qualification 2024-03-26     Philippines   \n",
       "405     FIFA World Cup qualification 2024-06-06         Vietnam   \n",
       "406     FIFA World Cup qualification 2024-06-11       Indonesia   \n",
       "\n",
       "                scores          away_team                  location  \\\n",
       "29         4–2[note 1]        Philippines         Kaohsiung, Taiwan   \n",
       "42         1–1 (2–4 p)  Icheon Citizen FC       Manila, Philippines   \n",
       "47         0–0[note 2]        Philippines      Phnom Penh, Cambodia   \n",
       "48         2–1[note 3]        Philippines           Vientiane, Laos   \n",
       "63        3–0abandoned        Philippines              Tokyo, Japan   \n",
       "101                  ?        Philippines                 Singapore   \n",
       "190        1–1 (3–4 p)           Cambodia  Iloilo City, Philippines   \n",
       "257        0–1[note 1]          Indonesia        Jakarta, Indonesia   \n",
       "295  Cancelled[note 2]             Brunei       Manila, Philippines   \n",
       "311       2–3 (a.e.t.)        Philippines            Malé, Maldives   \n",
       "314       2–3 (a.e.t.)            Myanmar       Manila, Philippines   \n",
       "374          Cancelled              India                     Qatar   \n",
       "403                  v        Philippines                       TBA   \n",
       "404                  v               Iraq       Manila, Philippines   \n",
       "405                  v        Philippines                       TBA   \n",
       "406                  v        Philippines                       TBA   \n",
       "\n",
       "    penalty_scores  \n",
       "29             NaN  \n",
       "42             2–4  \n",
       "47             NaN  \n",
       "48             NaN  \n",
       "63             NaN  \n",
       "101            NaN  \n",
       "190            3–4  \n",
       "257            NaN  \n",
       "295            NaN  \n",
       "311            NaN  \n",
       "314            NaN  \n",
       "374            NaN  \n",
       "403            NaN  \n",
       "404            NaN  \n",
       "405            NaN  \n",
       "406            NaN  "
      ]
     },
     "execution_count": 23,
     "metadata": {},
     "output_type": "execute_result"
    }
   ],
   "source": [
    "# Inspect faulty scores\n",
    "incorrect_scores = df_azkals[\"scores\"].isin(faulty_scores)\n",
    "df_azkals[incorrect_scores]"
   ]
  },
  {
   "cell_type": "code",
   "execution_count": 24,
   "id": "a11e8d14",
   "metadata": {},
   "outputs": [],
   "source": [
    "# Correct the faulty scores\n",
    "correct_scores =  [\"4–2\", \"1–1\", \"0–0\", \"2–1\", \"3–0\", \"0–0\", \"1–1\", \"0–1\",\n",
    "                   \"Cancelled\", \"2–3\", \"2–3\", \"Cancelled\", \"v\", \"v\", \"v\", \"v\"]\n",
    "df_azkals.loc[incorrect_scores, \"scores\"] = correct_scores"
   ]
  },
  {
   "cell_type": "code",
   "execution_count": 25,
   "id": "aec697e4",
   "metadata": {
    "scrolled": true
   },
   "outputs": [
    {
     "data": {
      "text/html": [
       "<div>\n",
       "<style scoped>\n",
       "    .dataframe tbody tr th:only-of-type {\n",
       "        vertical-align: middle;\n",
       "    }\n",
       "\n",
       "    .dataframe tbody tr th {\n",
       "        vertical-align: top;\n",
       "    }\n",
       "\n",
       "    .dataframe thead th {\n",
       "        text-align: right;\n",
       "    }\n",
       "</style>\n",
       "<table border=\"1\" class=\"dataframe\">\n",
       "  <thead>\n",
       "    <tr style=\"text-align: right;\">\n",
       "      <th></th>\n",
       "      <th>competition</th>\n",
       "      <th>date</th>\n",
       "      <th>home_team</th>\n",
       "      <th>scores</th>\n",
       "      <th>away_team</th>\n",
       "      <th>location</th>\n",
       "      <th>penalty_scores</th>\n",
       "    </tr>\n",
       "  </thead>\n",
       "  <tbody>\n",
       "    <tr>\n",
       "      <th>29</th>\n",
       "      <td>Long Teng Cup</td>\n",
       "      <td>2010-10-09</td>\n",
       "      <td>Hong Kong U-23</td>\n",
       "      <td>4–2</td>\n",
       "      <td>Philippines</td>\n",
       "      <td>Kaohsiung, Taiwan</td>\n",
       "      <td>NaN</td>\n",
       "    </tr>\n",
       "    <tr>\n",
       "      <th>42</th>\n",
       "      <td>Friendly</td>\n",
       "      <td>2012-01-21</td>\n",
       "      <td>Philippines</td>\n",
       "      <td>1–1</td>\n",
       "      <td>Icheon Citizen FC</td>\n",
       "      <td>Manila, Philippines</td>\n",
       "      <td>2–4</td>\n",
       "    </tr>\n",
       "    <tr>\n",
       "      <th>47</th>\n",
       "      <td>Friendly</td>\n",
       "      <td>2012-09-05</td>\n",
       "      <td>Cambodia</td>\n",
       "      <td>0–0</td>\n",
       "      <td>Philippines</td>\n",
       "      <td>Phnom Penh, Cambodia</td>\n",
       "      <td>NaN</td>\n",
       "    </tr>\n",
       "    <tr>\n",
       "      <th>48</th>\n",
       "      <td>Friendly</td>\n",
       "      <td>2012-09-10</td>\n",
       "      <td>Laos</td>\n",
       "      <td>2–1</td>\n",
       "      <td>Philippines</td>\n",
       "      <td>Vientiane, Laos</td>\n",
       "      <td>NaN</td>\n",
       "    </tr>\n",
       "    <tr>\n",
       "      <th>63</th>\n",
       "      <td>Far Eastern Championship Games</td>\n",
       "      <td>1917-05-11</td>\n",
       "      <td>China</td>\n",
       "      <td>3–0</td>\n",
       "      <td>Philippines</td>\n",
       "      <td>Tokyo, Japan</td>\n",
       "      <td>NaN</td>\n",
       "    </tr>\n",
       "    <tr>\n",
       "      <th>101</th>\n",
       "      <td>Pesta Sukan Cup</td>\n",
       "      <td>1972-08-05</td>\n",
       "      <td>Khmer Republic</td>\n",
       "      <td>0–0</td>\n",
       "      <td>Philippines</td>\n",
       "      <td>Singapore</td>\n",
       "      <td>NaN</td>\n",
       "    </tr>\n",
       "    <tr>\n",
       "      <th>190</th>\n",
       "      <td>President's Cup</td>\n",
       "      <td>1997-02-23</td>\n",
       "      <td>Philippines</td>\n",
       "      <td>1–1</td>\n",
       "      <td>Cambodia</td>\n",
       "      <td>Iloilo City, Philippines</td>\n",
       "      <td>3–4</td>\n",
       "    </tr>\n",
       "    <tr>\n",
       "      <th>257</th>\n",
       "      <td>AFF Championship</td>\n",
       "      <td>2010-12-16</td>\n",
       "      <td>Philippines</td>\n",
       "      <td>0–1</td>\n",
       "      <td>Indonesia</td>\n",
       "      <td>Jakarta, Indonesia</td>\n",
       "      <td>NaN</td>\n",
       "    </tr>\n",
       "    <tr>\n",
       "      <th>295</th>\n",
       "      <td>AFC Challenge Cup qualification</td>\n",
       "      <td>2013-03-22</td>\n",
       "      <td>Philippines</td>\n",
       "      <td>Cancelled</td>\n",
       "      <td>Brunei</td>\n",
       "      <td>Manila, Philippines</td>\n",
       "      <td>NaN</td>\n",
       "    </tr>\n",
       "    <tr>\n",
       "      <th>311</th>\n",
       "      <td>AFC Challenge Cup</td>\n",
       "      <td>2014-05-27</td>\n",
       "      <td>Maldives</td>\n",
       "      <td>2–3</td>\n",
       "      <td>Philippines</td>\n",
       "      <td>Malé, Maldives</td>\n",
       "      <td>NaN</td>\n",
       "    </tr>\n",
       "    <tr>\n",
       "      <th>314</th>\n",
       "      <td>Philippine Peace Cup</td>\n",
       "      <td>2014-09-06</td>\n",
       "      <td>Philippines</td>\n",
       "      <td>2–3</td>\n",
       "      <td>Myanmar</td>\n",
       "      <td>Manila, Philippines</td>\n",
       "      <td>NaN</td>\n",
       "    </tr>\n",
       "    <tr>\n",
       "      <th>374</th>\n",
       "      <td>Friendly</td>\n",
       "      <td>2021-05-28</td>\n",
       "      <td>Philippines</td>\n",
       "      <td>Cancelled</td>\n",
       "      <td>India</td>\n",
       "      <td>Qatar</td>\n",
       "      <td>NaN</td>\n",
       "    </tr>\n",
       "    <tr>\n",
       "      <th>403</th>\n",
       "      <td>FIFA World Cup qualification</td>\n",
       "      <td>2024-03-21</td>\n",
       "      <td>Iraq</td>\n",
       "      <td>v</td>\n",
       "      <td>Philippines</td>\n",
       "      <td>TBA</td>\n",
       "      <td>NaN</td>\n",
       "    </tr>\n",
       "    <tr>\n",
       "      <th>404</th>\n",
       "      <td>FIFA World Cup qualification</td>\n",
       "      <td>2024-03-26</td>\n",
       "      <td>Philippines</td>\n",
       "      <td>v</td>\n",
       "      <td>Iraq</td>\n",
       "      <td>Manila, Philippines</td>\n",
       "      <td>NaN</td>\n",
       "    </tr>\n",
       "    <tr>\n",
       "      <th>405</th>\n",
       "      <td>FIFA World Cup qualification</td>\n",
       "      <td>2024-06-06</td>\n",
       "      <td>Vietnam</td>\n",
       "      <td>v</td>\n",
       "      <td>Philippines</td>\n",
       "      <td>TBA</td>\n",
       "      <td>NaN</td>\n",
       "    </tr>\n",
       "    <tr>\n",
       "      <th>406</th>\n",
       "      <td>FIFA World Cup qualification</td>\n",
       "      <td>2024-06-11</td>\n",
       "      <td>Indonesia</td>\n",
       "      <td>v</td>\n",
       "      <td>Philippines</td>\n",
       "      <td>TBA</td>\n",
       "      <td>NaN</td>\n",
       "    </tr>\n",
       "  </tbody>\n",
       "</table>\n",
       "</div>"
      ],
      "text/plain": [
       "                         competition       date       home_team     scores  \\\n",
       "29                     Long Teng Cup 2010-10-09  Hong Kong U-23        4–2   \n",
       "42                          Friendly 2012-01-21     Philippines        1–1   \n",
       "47                          Friendly 2012-09-05        Cambodia        0–0   \n",
       "48                          Friendly 2012-09-10            Laos        2–1   \n",
       "63    Far Eastern Championship Games 1917-05-11           China        3–0   \n",
       "101                  Pesta Sukan Cup 1972-08-05  Khmer Republic        0–0   \n",
       "190                  President's Cup 1997-02-23     Philippines        1–1   \n",
       "257                 AFF Championship 2010-12-16     Philippines        0–1   \n",
       "295  AFC Challenge Cup qualification 2013-03-22     Philippines  Cancelled   \n",
       "311                AFC Challenge Cup 2014-05-27        Maldives        2–3   \n",
       "314             Philippine Peace Cup 2014-09-06     Philippines        2–3   \n",
       "374                         Friendly 2021-05-28     Philippines  Cancelled   \n",
       "403     FIFA World Cup qualification 2024-03-21            Iraq          v   \n",
       "404     FIFA World Cup qualification 2024-03-26     Philippines          v   \n",
       "405     FIFA World Cup qualification 2024-06-06         Vietnam          v   \n",
       "406     FIFA World Cup qualification 2024-06-11       Indonesia          v   \n",
       "\n",
       "             away_team                  location penalty_scores  \n",
       "29         Philippines         Kaohsiung, Taiwan            NaN  \n",
       "42   Icheon Citizen FC       Manila, Philippines            2–4  \n",
       "47         Philippines      Phnom Penh, Cambodia            NaN  \n",
       "48         Philippines           Vientiane, Laos            NaN  \n",
       "63         Philippines              Tokyo, Japan            NaN  \n",
       "101        Philippines                 Singapore            NaN  \n",
       "190           Cambodia  Iloilo City, Philippines            3–4  \n",
       "257          Indonesia        Jakarta, Indonesia            NaN  \n",
       "295             Brunei       Manila, Philippines            NaN  \n",
       "311        Philippines            Malé, Maldives            NaN  \n",
       "314            Myanmar       Manila, Philippines            NaN  \n",
       "374              India                     Qatar            NaN  \n",
       "403        Philippines                       TBA            NaN  \n",
       "404               Iraq       Manila, Philippines            NaN  \n",
       "405        Philippines                       TBA            NaN  \n",
       "406        Philippines                       TBA            NaN  "
      ]
     },
     "execution_count": 25,
     "metadata": {},
     "output_type": "execute_result"
    }
   ],
   "source": [
    "df_azkals.iloc[[29, 42, 47, 48, 63, 101, 190, 257, 295, 311, 314, 374, 403, 404, 405, 406]]"
   ]
  },
  {
   "cell_type": "code",
   "execution_count": 26,
   "id": "f270184b",
   "metadata": {},
   "outputs": [],
   "source": [
    "# drop unplayed matches as they are not needed to analyze azkals' performance\n",
    "unplayed_matches = df_azkals[\"scores\"].isin([\"Cancelled\", \"v\"])\n",
    "df_azkals[unplayed_matches]\n",
    "df_azkals.drop(df_azkals[unplayed_matches].index, inplace=True)\n",
    "df_azkals.reset_index(inplace=True, drop=True)"
   ]
  },
  {
   "cell_type": "markdown",
   "id": "599a100a",
   "metadata": {},
   "source": [
    "## Location Column"
   ]
  },
  {
   "cell_type": "code",
   "execution_count": 27,
   "id": "c75d8cf5",
   "metadata": {},
   "outputs": [],
   "source": [
    "df_azkals[\"location\"] = df_azkals[\"location\"].astype(\"string\")"
   ]
  },
  {
   "cell_type": "code",
   "execution_count": 28,
   "id": "3fa00e40",
   "metadata": {
    "scrolled": true
   },
   "outputs": [
    {
     "data": {
      "text/plain": [
       "<StringArray>\n",
       "[                'Shanghai, China',             'Manila, Philippines',\n",
       "                         'Jakarta',                  'Ipoh, Malaysia',\n",
       "              'Jakarta, Indonesia',            'Bacolod, Philippines',\n",
       "        'Iloilo City, Philippines',          'Chittagong, Bangladesh',\n",
       "               'Bangkok, Thailand',               'Kaohsiung, Taiwan',\n",
       "                  'Tainan, Taiwan',         'Nakhon Pathom, Thailand',\n",
       "                  'Gotemba, Japan',             'Makati, Philippines',\n",
       "                  'Düren, Germany',                 'Alfter, Germany',\n",
       "             'Ingolstadt, Germany',              'Darmstadt, Germany',\n",
       "                  'Riffa, Bahrain',                   'Arad, Bahrain',\n",
       "     'Dubai, United Arab Emirates',                     'Doha, Qatar',\n",
       "      'Wheaton, United States[26]',            'Phnom Penh, Cambodia',\n",
       "                 'Vientiane, Laos',             'Bantay, Philippines',\n",
       "               'Imus, Philippines',                'Guangzhou, China',\n",
       "                 'Manama, Bahrain',                    'Tokyo, Japan',\n",
       "                    'Osaka, Japan',                           'Japan',\n",
       "              'Nishinomiya, Japan',          'Kuala Lumpur, Malaysia',\n",
       "         'Honolulu, United States',                    'Tehran, Iran',\n",
       "              'Kallang, Singapore',                       'Singapore',\n",
       "              'Seoul, South Korea',                     'South Korea',\n",
       "      'Kuala Terengganu, Malaysia',               'British Hong Kong',\n",
       "                 'Solo, Indonesia',                       'Hong Kong',\n",
       "               'Lamphun, Thailand',            'Chiang Mai, Thailand',\n",
       "       'Ho Chi Minh City, Vietnam',     'Bandar Seri Begawan, Brunei',\n",
       "                 'Beirut, Lebanon',                   'Aleppo, Syria',\n",
       "                    'Muscat, Oman',              'Pasig, Philippines',\n",
       "              'Chonburi, Thailand',      'Barotac Nuevo, Philippines',\n",
       "                  'Malé, Maldives',                  'Hanoi, Vietnam',\n",
       "               'Nam Định, Vietnam',           'Ulan Baatar, Mongolia',\n",
       "                 'Yangon, Myanmar',              'Colombo, Sri Lanka',\n",
       "                 'Hawally, Kuwait',                'Kathmandu, Nepal',\n",
       "             'Shah Alam, Malaysia',             'Kuwait City, Kuwait',\n",
       "               'Cebu, Philippines',            'Surakarta, Indonesia',\n",
       " 'Abu Dhabi, United Arab Emirates',                 'Siliguri, India',\n",
       "              'Selayang, Malaysia',             'Addu City, Maldives',\n",
       "     'Nakhon Ratchasima, Thailand',             'Bocaue, Philippines',\n",
       "          'Pyongyang, North Korea',            'Tashkent, Uzbekistan',\n",
       "             'Bishkek, Kyrgyzstan',            'Dushanbe, Tajikistan',\n",
       "                'Al Wakrah, Qatar',                 'Lalitpur, Nepal',\n",
       "                  'Taipei, Taiwan',                         'Bahrain',\n",
       "              'Sylhet, Bangladesh',         \"Cox's Bazar, Bangladesh\",\n",
       "                'Al Rayyan, Qatar',                    'Dededo, Guam',\n",
       "   'Sharjah, United Arab Emirates',               'Bishan, Singapore',\n",
       "              'Biñan, Philippines',           'Ulaanbaatar, Mongolia',\n",
       "                 'Bali, Indonesia',          'Pathum Thani, Thailand']\n",
       "Length: 90, dtype: string"
      ]
     },
     "execution_count": 28,
     "metadata": {},
     "output_type": "execute_result"
    }
   ],
   "source": [
    "df_azkals[\"location\"].unique()"
   ]
  },
  {
   "cell_type": "code",
   "execution_count": 29,
   "id": "ce49589f",
   "metadata": {
    "scrolled": true
   },
   "outputs": [],
   "source": [
    "# Complete and correct a few different locations\n",
    "matches_jakarta = df_azkals[\"location\"] == \"Jakarta\"\n",
    "df_azkals.loc[matches_jakarta, \"location\"] = \"Jakarta, Indonesia\"\n",
    "\n",
    "matches_wheaton = df_azkals[\"location\"] == \"Wheaton, United States[26]\"\n",
    "df_azkals.loc[matches_wheaton, \"location\"] = \"Wheaton, United States\"\n",
    "\n",
    "matches_bahrain = df_azkals[\"location\"] == \"Bahrain\"\n",
    "df_azkals.loc[matches_bahrain, \"location\"] = \"Al-Hidd, Bahrain\"\n",
    "df_azkals.loc[matches_bahrain, \"home_team\"] = \"Al-Hidd Club\"        # Based on article, the team's actual name is Al-Hidd"
   ]
  },
  {
   "cell_type": "code",
   "execution_count": 30,
   "id": "0c397450",
   "metadata": {
    "scrolled": true
   },
   "outputs": [
    {
     "name": "stdout",
     "output_type": "stream",
     "text": [
      "<class 'pandas.core.frame.DataFrame'>\n",
      "RangeIndex: 401 entries, 0 to 400\n",
      "Data columns (total 7 columns):\n",
      " #   Column          Non-Null Count  Dtype         \n",
      "---  ------          --------------  -----         \n",
      " 0   competition     401 non-null    object        \n",
      " 1   date            399 non-null    datetime64[ns]\n",
      " 2   home_team       401 non-null    string        \n",
      " 3   scores          401 non-null    object        \n",
      " 4   away_team       401 non-null    string        \n",
      " 5   location        401 non-null    string        \n",
      " 6   penalty_scores  2 non-null      object        \n",
      "dtypes: datetime64[ns](1), object(3), string(3)\n",
      "memory usage: 22.1+ KB\n"
     ]
    }
   ],
   "source": [
    "df_azkals.info()"
   ]
  },
  {
   "cell_type": "markdown",
   "id": "46609612",
   "metadata": {},
   "source": [
    "## Feature Creation\n",
    "- Philippines Result Column to represent a win, loss, or draw\n",
    "- Philippines' Score and Opponent's Score Column to separate the scores of teams\n",
    "- Goal difference Column to see by how many goals the Philippines won or loss\n",
    "- Home Game Column to represent if a game is home or away (home meaning the game is played in the Philippines)"
   ]
  },
  {
   "cell_type": "code",
   "execution_count": 31,
   "id": "37c7870e",
   "metadata": {},
   "outputs": [],
   "source": [
    "# Initialize additional columns\n",
    "df_azkals[\"opponent\"] = np.nan\n",
    "df_azkals[\"opponent\"] = df_azkals[\"opponent\"].astype(\"string\")\n",
    "df_azkals[\"match_status\"] = np.nan\n",
    "df_azkals[\"match_status\"] = df_azkals[\"match_status\"].astype(\"string\")\n",
    "df_azkals[\"ph_goal\"] = 0\n",
    "df_azkals[\"opp_goal\"] = 0\n",
    "df_azkals[\"goal_difference\"] = 0\n",
    "df_azkals[\"ph_pen_goals\"] = 0\n",
    "df_azkals[\"opp_pen_goals\"] = 0\n",
    "df_azkals[\"home_game\"] = False\n",
    "df_azkals[\"home_game\"] = df_azkals[\"home_game\"].astype(\"bool\")"
   ]
  },
  {
   "cell_type": "code",
   "execution_count": 32,
   "id": "b7e47b8a",
   "metadata": {},
   "outputs": [
    {
     "name": "stdout",
     "output_type": "stream",
     "text": [
      "<class 'pandas.core.frame.DataFrame'>\n",
      "RangeIndex: 401 entries, 0 to 400\n",
      "Data columns (total 15 columns):\n",
      " #   Column           Non-Null Count  Dtype         \n",
      "---  ------           --------------  -----         \n",
      " 0   competition      401 non-null    object        \n",
      " 1   date             399 non-null    datetime64[ns]\n",
      " 2   home_team        401 non-null    string        \n",
      " 3   scores           401 non-null    object        \n",
      " 4   away_team        401 non-null    string        \n",
      " 5   location         401 non-null    string        \n",
      " 6   penalty_scores   2 non-null      object        \n",
      " 7   opponent         0 non-null      string        \n",
      " 8   match_status     0 non-null      string        \n",
      " 9   ph_goal          401 non-null    int64         \n",
      " 10  opp_goal         401 non-null    int64         \n",
      " 11  goal_difference  401 non-null    int64         \n",
      " 12  ph_pen_goals     401 non-null    int64         \n",
      " 13  opp_pen_goals    401 non-null    int64         \n",
      " 14  home_game        401 non-null    bool          \n",
      "dtypes: bool(1), datetime64[ns](1), int64(5), object(3), string(5)\n",
      "memory usage: 44.4+ KB\n"
     ]
    }
   ],
   "source": [
    "df_azkals.info()"
   ]
  },
  {
   "cell_type": "code",
   "execution_count": 33,
   "id": "0920c1a3",
   "metadata": {},
   "outputs": [],
   "source": [
    "# split the scores into separate goals per team as they are together in one column\n",
    "goals = df_azkals[\"scores\"].str.split(\"–\")\n",
    "\n",
    "# iterate through the dataframe and arrange \n",
    "for result_index in df_azkals.index:\n",
    "    \n",
    "    # Create variables for column indeces for easier readability when using iloc\n",
    "    home_team_col = df_azkals.columns.get_loc(\"home_team\")\n",
    "    away_team_col = df_azkals.columns.get_loc(\"away_team\")\n",
    "    match_status_col = df_azkals.columns.get_loc(\"match_status\")\n",
    "    opp_col = df_azkals.columns.get_loc(\"opponent\")\n",
    "    phil_goal_col = df_azkals.columns.get_loc(\"ph_goal\")\n",
    "    opp_goal_col = df_azkals.columns.get_loc(\"opp_goal\")\n",
    "    goal_diff_col = df_azkals.columns.get_loc(\"goal_difference\")\n",
    "    phil_pen_goals_col = df_azkals.columns.get_loc(\"ph_pen_goals\")\n",
    "    opp_pen_goals_col = df_azkals.columns.get_loc(\"opp_pen_goals\")\n",
    "\n",
    "    # Place teams and goals into their respective lists by the order they first appear in the dataframe\n",
    "    # From left to right, teams and their goals are shown sequentially\n",
    "    teams = [df_azkals.iloc[result_index, home_team_col], df_azkals.iloc[result_index, away_team_col]]\n",
    "    goals_per_team = [goals.iloc[result_index][0], goals.iloc[result_index][1]]\n",
    "    \n",
    "    # Place the opponents in one column and place the goals by team in their respective columns\n",
    "    if teams[0] == \"Philippines\":\n",
    "        df_azkals.iloc[result_index, opp_col] = teams[1]\n",
    "        df_azkals.iloc[result_index, opp_goal_col] = int(goals_per_team[1])\n",
    "        df_azkals.iloc[result_index, phil_goal_col] = int(goals_per_team[0])\n",
    "    else:\n",
    "        df_azkals.iloc[result_index, opp_col] = teams[0]\n",
    "        df_azkals.iloc[result_index, opp_goal_col] = int(goals_per_team[0])\n",
    "        df_azkals.iloc[result_index, phil_goal_col] = int(goals_per_team[1])\n",
    "        \n",
    "    # Determine the match status for the Philippines based on the number of goals\n",
    "    ph_score = df_azkals.iloc[result_index, phil_goal_col]\n",
    "    opp_score = df_azkals.iloc[result_index, opp_goal_col]\n",
    "    pen_score_col = df_azkals.columns.get_loc(\"penalty_scores\")\n",
    "    if ph_score > opp_score:\n",
    "        df_azkals.iloc[result_index, match_status_col] = \"Win\"\n",
    "    elif ph_score < opp_score:\n",
    "        df_azkals.iloc[result_index, match_status_col] = \"Loss\"\n",
    "    elif ph_score == opp_score:      \n",
    "        if pd.isnull(df_azkals.iloc[result_index, pen_score_col]):        \n",
    "            df_azkals.iloc[result_index, match_status_col] = \"Draw\"\n",
    "        else: #if ~pd.isnull(df_azkals.iloc[result_index, pen_score_col]):\n",
    "            pen_goals = df_azkals.iloc[result_index, pen_score_col].split(\"–\")\n",
    "            if teams[0] == \"Philippines\":\n",
    "                df_azkals.iloc[result_index, phil_pen_goals_col] = int(pen_goals[0])\n",
    "                df_azkals.iloc[result_index, opp_pen_goals_col] = int(pen_goals[1])\n",
    "            else:\n",
    "                df_azkals.iloc[result_index, phil_pen_goals_col] = int(pen_goals[1])\n",
    "                df_azkals.iloc[result_index, opp_pen_goals_col] = int(pen_goals[0])\n",
    "            # Determines match status based on the results of a penalty shootout \n",
    "            if df_azkals.iloc[result_index, phil_pen_goals_col] > df_azkals.iloc[result_index, opp_pen_goals_col]:\n",
    "                df_azkals.iloc[result_index, match_status_col] = \"Win\"\n",
    "            else:\n",
    "                df_azkals.iloc[result_index, match_status_col] = \"Loss\"\n",
    "\n",
    "    # Determine the goal difference per game\n",
    "    df_azkals.iloc[result_index, goal_diff_col] = int(ph_score) - int(opp_score)\n",
    "                "
   ]
  },
  {
   "cell_type": "code",
   "execution_count": 34,
   "id": "6036b416",
   "metadata": {
    "scrolled": true
   },
   "outputs": [
    {
     "data": {
      "text/plain": [
       "Loss    238\n",
       "Win     102\n",
       "Draw     61\n",
       "Name: match_status, dtype: Int64"
      ]
     },
     "execution_count": 34,
     "metadata": {},
     "output_type": "execute_result"
    }
   ],
   "source": [
    "df_azkals[\"match_status\"].value_counts()"
   ]
  },
  {
   "cell_type": "code",
   "execution_count": 48,
   "id": "86aebd5a",
   "metadata": {},
   "outputs": [
    {
     "data": {
      "text/plain": [
       "0.2543640897755611"
      ]
     },
     "execution_count": 48,
     "metadata": {},
     "output_type": "execute_result"
    }
   ],
   "source": [
    "102/(238+102+61)"
   ]
  },
  {
   "cell_type": "code",
   "execution_count": 44,
   "id": "4cdb56a9",
   "metadata": {
    "scrolled": true
   },
   "outputs": [
    {
     "data": {
      "text/plain": [
       "Loss    102\n",
       "Win      76\n",
       "Draw     46\n",
       "Name: match_status, dtype: int64"
      ]
     },
     "execution_count": 44,
     "metadata": {},
     "output_type": "execute_result"
    }
   ],
   "source": [
    "df_azkals[df_azkals[\"date\"].dt.year > 2000][\"match_status\"].value_counts()"
   ]
  },
  {
   "cell_type": "code",
   "execution_count": 46,
   "id": "8af787ce",
   "metadata": {},
   "outputs": [
    {
     "data": {
      "text/plain": [
       "0.3392857142857143"
      ]
     },
     "execution_count": 46,
     "metadata": {},
     "output_type": "execute_result"
    }
   ],
   "source": [
    "76/(102 + 76 + 46)"
   ]
  },
  {
   "cell_type": "code",
   "execution_count": 45,
   "id": "d59e82d2",
   "metadata": {},
   "outputs": [
    {
     "data": {
      "text/plain": [
       "Loss    88\n",
       "Win     75\n",
       "Draw    45\n",
       "Name: match_status, dtype: int64"
      ]
     },
     "execution_count": 45,
     "metadata": {},
     "output_type": "execute_result"
    }
   ],
   "source": [
    "df_azkals[df_azkals[\"date\"].dt.year > 2005][\"match_status\"].value_counts()"
   ]
  },
  {
   "cell_type": "code",
   "execution_count": 47,
   "id": "dfeeaf28",
   "metadata": {},
   "outputs": [
    {
     "data": {
      "text/plain": [
       "0.3605769230769231"
      ]
     },
     "execution_count": 47,
     "metadata": {},
     "output_type": "execute_result"
    }
   ],
   "source": [
    "75/(88+75+45)"
   ]
  },
  {
   "cell_type": "code",
   "execution_count": 42,
   "id": "f5c65304",
   "metadata": {},
   "outputs": [
    {
     "data": {
      "text/plain": [
       "0     1915-01-01\n",
       "1     1968-01-06\n",
       "2     1972-02-12\n",
       "3     1972-06-06\n",
       "4     1972-07-23\n",
       "         ...    \n",
       "396   2023-09-08\n",
       "397   2023-09-12\n",
       "398   2023-10-17\n",
       "399   2023-11-16\n",
       "400   2023-11-21\n",
       "Name: date, Length: 401, dtype: datetime64[ns]"
      ]
     },
     "execution_count": 42,
     "metadata": {},
     "output_type": "execute_result"
    }
   ],
   "source": [
    "df_azkals[\"date\"].year"
   ]
  },
  {
   "cell_type": "code",
   "execution_count": 35,
   "id": "d389e70f",
   "metadata": {},
   "outputs": [
    {
     "data": {
      "text/plain": [
       "Index(['competition', 'date', 'home_team', 'scores', 'away_team', 'location',\n",
       "       'penalty_scores', 'opponent', 'match_status', 'ph_goal', 'opp_goal',\n",
       "       'goal_difference', 'ph_pen_goals', 'opp_pen_goals', 'home_game'],\n",
       "      dtype='object')"
      ]
     },
     "execution_count": 35,
     "metadata": {},
     "output_type": "execute_result"
    }
   ],
   "source": [
    "df_azkals.columns"
   ]
  },
  {
   "cell_type": "code",
   "execution_count": 36,
   "id": "347aeb38",
   "metadata": {
    "scrolled": false
   },
   "outputs": [
    {
     "name": "stdout",
     "output_type": "stream",
     "text": [
      "<class 'pandas.core.frame.DataFrame'>\n",
      "RangeIndex: 401 entries, 0 to 400\n",
      "Data columns (total 15 columns):\n",
      " #   Column           Non-Null Count  Dtype         \n",
      "---  ------           --------------  -----         \n",
      " 0   competition      401 non-null    object        \n",
      " 1   date             399 non-null    datetime64[ns]\n",
      " 2   home_team        401 non-null    string        \n",
      " 3   scores           401 non-null    object        \n",
      " 4   away_team        401 non-null    string        \n",
      " 5   location         401 non-null    string        \n",
      " 6   penalty_scores   2 non-null      object        \n",
      " 7   opponent         401 non-null    string        \n",
      " 8   match_status     401 non-null    category      \n",
      " 9   ph_goal          401 non-null    int64         \n",
      " 10  opp_goal         401 non-null    int64         \n",
      " 11  goal_difference  401 non-null    int64         \n",
      " 12  ph_pen_goals     401 non-null    int64         \n",
      " 13  opp_pen_goals    401 non-null    int64         \n",
      " 14  home_game        401 non-null    bool          \n",
      "dtypes: bool(1), category(1), datetime64[ns](1), int64(5), object(3), string(4)\n",
      "memory usage: 41.8+ KB\n"
     ]
    }
   ],
   "source": [
    "df_azkals[\"match_status\"] = df_azkals[\"match_status\"].astype(\"category\")\n",
    "df_azkals.info()"
   ]
  },
  {
   "cell_type": "code",
   "execution_count": 37,
   "id": "47a3b91b",
   "metadata": {
    "scrolled": true
   },
   "outputs": [],
   "source": [
    "df_azkals = df_azkals[['date', 'opponent', 'match_status', 'ph_goal',\n",
    "                       'opp_goal', 'goal_difference', 'ph_pen_goals',\n",
    "                       'opp_pen_goals', 'competition', 'home_game', 'location',]]"
   ]
  },
  {
   "cell_type": "code",
   "execution_count": 38,
   "id": "34c02843",
   "metadata": {
    "scrolled": false
   },
   "outputs": [
    {
     "data": {
      "text/html": [
       "<div>\n",
       "<style scoped>\n",
       "    .dataframe tbody tr th:only-of-type {\n",
       "        vertical-align: middle;\n",
       "    }\n",
       "\n",
       "    .dataframe tbody tr th {\n",
       "        vertical-align: top;\n",
       "    }\n",
       "\n",
       "    .dataframe thead th {\n",
       "        text-align: right;\n",
       "    }\n",
       "</style>\n",
       "<table border=\"1\" class=\"dataframe\">\n",
       "  <thead>\n",
       "    <tr style=\"text-align: right;\">\n",
       "      <th></th>\n",
       "      <th>date</th>\n",
       "      <th>opponent</th>\n",
       "      <th>match_status</th>\n",
       "      <th>ph_goal</th>\n",
       "      <th>opp_goal</th>\n",
       "      <th>goal_difference</th>\n",
       "      <th>ph_pen_goals</th>\n",
       "      <th>opp_pen_goals</th>\n",
       "      <th>competition</th>\n",
       "      <th>home_game</th>\n",
       "      <th>location</th>\n",
       "    </tr>\n",
       "  </thead>\n",
       "  <tbody>\n",
       "    <tr>\n",
       "      <th>0</th>\n",
       "      <td>1915-01-01</td>\n",
       "      <td>South China A.A.</td>\n",
       "      <td>Loss</td>\n",
       "      <td>1</td>\n",
       "      <td>3</td>\n",
       "      <td>-2</td>\n",
       "      <td>0</td>\n",
       "      <td>0</td>\n",
       "      <td>Friendly</td>\n",
       "      <td>False</td>\n",
       "      <td>Shanghai, China</td>\n",
       "    </tr>\n",
       "    <tr>\n",
       "      <th>1</th>\n",
       "      <td>1968-01-06</td>\n",
       "      <td>Dallas Tornado</td>\n",
       "      <td>Win</td>\n",
       "      <td>2</td>\n",
       "      <td>1</td>\n",
       "      <td>1</td>\n",
       "      <td>0</td>\n",
       "      <td>0</td>\n",
       "      <td>Friendly</td>\n",
       "      <td>False</td>\n",
       "      <td>Manila, Philippines</td>\n",
       "    </tr>\n",
       "    <tr>\n",
       "      <th>2</th>\n",
       "      <td>1972-02-12</td>\n",
       "      <td>Cruzeiro</td>\n",
       "      <td>Loss</td>\n",
       "      <td>0</td>\n",
       "      <td>6</td>\n",
       "      <td>-6</td>\n",
       "      <td>0</td>\n",
       "      <td>0</td>\n",
       "      <td>Friendly</td>\n",
       "      <td>False</td>\n",
       "      <td>Manila, Philippines</td>\n",
       "    </tr>\n",
       "    <tr>\n",
       "      <th>3</th>\n",
       "      <td>1972-06-06</td>\n",
       "      <td>South Korea B</td>\n",
       "      <td>Draw</td>\n",
       "      <td>1</td>\n",
       "      <td>1</td>\n",
       "      <td>0</td>\n",
       "      <td>0</td>\n",
       "      <td>0</td>\n",
       "      <td>Jakarta Anniversary Tournament</td>\n",
       "      <td>False</td>\n",
       "      <td>Jakarta, Indonesia</td>\n",
       "    </tr>\n",
       "    <tr>\n",
       "      <th>4</th>\n",
       "      <td>1972-07-23</td>\n",
       "      <td>Burma B</td>\n",
       "      <td>Draw</td>\n",
       "      <td>1</td>\n",
       "      <td>1</td>\n",
       "      <td>0</td>\n",
       "      <td>0</td>\n",
       "      <td>0</td>\n",
       "      <td>Merdeka Tournament</td>\n",
       "      <td>False</td>\n",
       "      <td>Ipoh, Malaysia</td>\n",
       "    </tr>\n",
       "    <tr>\n",
       "      <th>...</th>\n",
       "      <td>...</td>\n",
       "      <td>...</td>\n",
       "      <td>...</td>\n",
       "      <td>...</td>\n",
       "      <td>...</td>\n",
       "      <td>...</td>\n",
       "      <td>...</td>\n",
       "      <td>...</td>\n",
       "      <td>...</td>\n",
       "      <td>...</td>\n",
       "      <td>...</td>\n",
       "    </tr>\n",
       "    <tr>\n",
       "      <th>396</th>\n",
       "      <td>2023-09-08</td>\n",
       "      <td>Chinese Taipei</td>\n",
       "      <td>Draw</td>\n",
       "      <td>1</td>\n",
       "      <td>1</td>\n",
       "      <td>0</td>\n",
       "      <td>0</td>\n",
       "      <td>0</td>\n",
       "      <td>Friendly</td>\n",
       "      <td>False</td>\n",
       "      <td>Kaohsiung, Taiwan</td>\n",
       "    </tr>\n",
       "    <tr>\n",
       "      <th>397</th>\n",
       "      <td>2023-09-12</td>\n",
       "      <td>Afghanistan</td>\n",
       "      <td>Win</td>\n",
       "      <td>2</td>\n",
       "      <td>1</td>\n",
       "      <td>1</td>\n",
       "      <td>0</td>\n",
       "      <td>0</td>\n",
       "      <td>Friendly</td>\n",
       "      <td>False</td>\n",
       "      <td>Manila, Philippines</td>\n",
       "    </tr>\n",
       "    <tr>\n",
       "      <th>398</th>\n",
       "      <td>2023-10-17</td>\n",
       "      <td>Bahrain</td>\n",
       "      <td>Loss</td>\n",
       "      <td>0</td>\n",
       "      <td>1</td>\n",
       "      <td>-1</td>\n",
       "      <td>0</td>\n",
       "      <td>0</td>\n",
       "      <td>Friendly</td>\n",
       "      <td>False</td>\n",
       "      <td>Arad, Bahrain</td>\n",
       "    </tr>\n",
       "    <tr>\n",
       "      <th>399</th>\n",
       "      <td>2023-11-16</td>\n",
       "      <td>Vietnam</td>\n",
       "      <td>Loss</td>\n",
       "      <td>0</td>\n",
       "      <td>2</td>\n",
       "      <td>-2</td>\n",
       "      <td>0</td>\n",
       "      <td>0</td>\n",
       "      <td>FIFA World Cup qualification</td>\n",
       "      <td>False</td>\n",
       "      <td>Manila, Philippines</td>\n",
       "    </tr>\n",
       "    <tr>\n",
       "      <th>400</th>\n",
       "      <td>2023-11-21</td>\n",
       "      <td>Indonesia</td>\n",
       "      <td>Draw</td>\n",
       "      <td>1</td>\n",
       "      <td>1</td>\n",
       "      <td>0</td>\n",
       "      <td>0</td>\n",
       "      <td>0</td>\n",
       "      <td>FIFA World Cup qualification</td>\n",
       "      <td>False</td>\n",
       "      <td>Manila, Philippines</td>\n",
       "    </tr>\n",
       "  </tbody>\n",
       "</table>\n",
       "<p>401 rows × 11 columns</p>\n",
       "</div>"
      ],
      "text/plain": [
       "          date          opponent match_status  ph_goal  opp_goal  \\\n",
       "0   1915-01-01  South China A.A.         Loss        1         3   \n",
       "1   1968-01-06    Dallas Tornado          Win        2         1   \n",
       "2   1972-02-12          Cruzeiro         Loss        0         6   \n",
       "3   1972-06-06     South Korea B         Draw        1         1   \n",
       "4   1972-07-23           Burma B         Draw        1         1   \n",
       "..         ...               ...          ...      ...       ...   \n",
       "396 2023-09-08    Chinese Taipei         Draw        1         1   \n",
       "397 2023-09-12       Afghanistan          Win        2         1   \n",
       "398 2023-10-17           Bahrain         Loss        0         1   \n",
       "399 2023-11-16           Vietnam         Loss        0         2   \n",
       "400 2023-11-21         Indonesia         Draw        1         1   \n",
       "\n",
       "     goal_difference  ph_pen_goals  opp_pen_goals  \\\n",
       "0                 -2             0              0   \n",
       "1                  1             0              0   \n",
       "2                 -6             0              0   \n",
       "3                  0             0              0   \n",
       "4                  0             0              0   \n",
       "..               ...           ...            ...   \n",
       "396                0             0              0   \n",
       "397                1             0              0   \n",
       "398               -1             0              0   \n",
       "399               -2             0              0   \n",
       "400                0             0              0   \n",
       "\n",
       "                        competition  home_game             location  \n",
       "0                          Friendly      False      Shanghai, China  \n",
       "1                          Friendly      False  Manila, Philippines  \n",
       "2                          Friendly      False  Manila, Philippines  \n",
       "3    Jakarta Anniversary Tournament      False   Jakarta, Indonesia  \n",
       "4                Merdeka Tournament      False       Ipoh, Malaysia  \n",
       "..                              ...        ...                  ...  \n",
       "396                        Friendly      False    Kaohsiung, Taiwan  \n",
       "397                        Friendly      False  Manila, Philippines  \n",
       "398                        Friendly      False        Arad, Bahrain  \n",
       "399    FIFA World Cup qualification      False  Manila, Philippines  \n",
       "400    FIFA World Cup qualification      False  Manila, Philippines  \n",
       "\n",
       "[401 rows x 11 columns]"
      ]
     },
     "execution_count": 38,
     "metadata": {},
     "output_type": "execute_result"
    }
   ],
   "source": [
    "df_azkals"
   ]
  },
  {
   "cell_type": "code",
   "execution_count": 39,
   "id": "d9701bb6",
   "metadata": {},
   "outputs": [],
   "source": [
    "# Download the dataframe as a csv file\n",
    "# df_azkals.to_csv('azkals_matches.csv', sep=\"|\")"
   ]
  },
  {
   "cell_type": "markdown",
   "id": "076446be",
   "metadata": {},
   "source": [
    "# 4. Feature Understanding\n",
    "- Univariate Analysis - use things like a histogram, KDE, boxplot, etc."
   ]
  },
  {
   "cell_type": "code",
   "execution_count": 40,
   "id": "1451b618",
   "metadata": {},
   "outputs": [
    {
     "data": {
      "image/png": "[encoded data removed]",
      "text/plain": [
       "<Figure size 1000x500 with 1 Axes>"
      ]
     },
     "metadata": {},
     "output_type": "display_data"
    }
   ],
   "source": [
    "plt.figure(figsize=(10, 5), dpi=100)\n",
    "ten_most_played = df_azkals[\"opponent\"].value_counts().head(15)\n",
    "plt.bar(ten_most_played.index, ten_most_played)\n",
    "plt.show()"
   ]
  },
  {
   "cell_type": "markdown",
   "id": "cca5dfb8",
   "metadata": {},
   "source": [
    "# 5. Feature Relationships\n",
    "- Multivariate Analysis - use things like a Scatterplot, Heatmap Correlation, Pairplot, Groupby Comparisons"
   ]
  },
  {
   "cell_type": "markdown",
   "id": "f2e1f922",
   "metadata": {},
   "source": [
    "# 6. Ask Questions about the Data\n",
    "- Questions:\n",
    "1. What is the win, loss, and draw ratio of the Azkals over the decades?\n",
    "2. Do the Azkals experience a higher win rate when playing at home?\n",
    "3. By how many goals do the Azkals tend to win or lose by?\n",
    "4. What are the competitions that the azkals most commonly plays in?\n",
    "5. What teams do the Azkals play against most often and what is their performance against them?"
   ]
  },
  {
   "cell_type": "markdown",
   "id": "2d5fca87",
   "metadata": {},
   "source": [
    "# 7. Geospatial Data (Optional)"
   ]
  },
  {
   "cell_type": "code",
   "execution_count": null,
   "id": "1965f60e",
   "metadata": {},
   "outputs": [],
   "source": []
  }
 ],
 "metadata": {
  "kernelspec": {
   "display_name": "Python 3 (ipykernel)",
   "language": "python",
   "name": "python3"
  },
  "language_info": {
   "codemirror_mode": {
    "name": "ipython",
    "version": 3
   },
   "file_extension": ".py",
   "mimetype": "text/x-python",
   "name": "python",
   "nbconvert_exporter": "python",
   "pygments_lexer": "ipython3",
   "version": "3.10.13"
  }
 },
 "nbformat": 4,
 "nbformat_minor": 5
}
