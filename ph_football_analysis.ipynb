{
 "cells": [
  {
   "cell_type": "markdown",
   "id": "438fdff0-1876-4e5e-8e83-ea15287034f1",
   "metadata": {},
   "source": [
    "<h1>Philippine Football Analysis</h1>"
   ]
  },
  {
   "cell_type": "markdown",
   "id": "6ac1d354",
   "metadata": {},
   "source": [
    "<h2>1. Import Libraries and Read in Data</h2>"
   ]
  },
  {
   "cell_type": "code",
   "execution_count": 1,
   "id": "a4685578",
   "metadata": {},
   "outputs": [],
   "source": [
    "# import the necessary libraries\n",
    "import pandas as pd\n",
    "import numpy as np\n",
    "import re\n",
    "\n",
    "import matplotlib.pyplot as plt\n",
    "import seaborn as sns"
   ]
  },
  {
   "cell_type": "code",
   "execution_count": 2,
   "id": "99e67f15-d06a-4396-be31-a2e986aded2c",
   "metadata": {},
   "outputs": [],
   "source": [
    "# import the dataset\n",
    "df_azkals = pd.read_csv(\"./ph_national_football_team_results.csv\")"
   ]
  },
  {
   "cell_type": "markdown",
   "id": "1f7de932",
   "metadata": {},
   "source": [
    "<h2>2. Data Understanding</h2>\n",
    "<p>In this section, a quick inspection of the dataset will be performed. As shown below:</p>\n",
    "<ul>\n",
    "    <li>The date column has different date formats.</li>\n",
    "    <li>There are matches that have not yet occurred (as of August 13, 2024).</li>\n",
    "    <li>The Philippines is both on the home_team and away_team columns.</li>\n",
    "    <li>Scores are in a single column separated by a dash and ordered by the home side and away side respectively.</li>\n",
    "    <li>The location column typically has the city and the country available with some rows possibly missing either one.</li>\n",
    "</ul>\n",
    "<p>Using the info method on the dataframe, it can be seen that:</p>\n",
    "<ul>\n",
    "    <li>On initial import, every column uses the object datatype.</li>\n",
    "    <li>The date column has 2 null values.</li>\n",
    "</ul>"
   ]
  },
  {
   "cell_type": "code",
   "execution_count": 3,
   "id": "c8390cf0-0f13-4876-8b0a-872d232419d7",
   "metadata": {},
   "outputs": [
    {
     "data": {
      "text/html": [
       "<div>\n",
       "<style scoped>\n",
       "    .dataframe tbody tr th:only-of-type {\n",
       "        vertical-align: middle;\n",
       "    }\n",
       "\n",
       "    .dataframe tbody tr th {\n",
       "        vertical-align: top;\n",
       "    }\n",
       "\n",
       "    .dataframe thead th {\n",
       "        text-align: right;\n",
       "    }\n",
       "</style>\n",
       "<table border=\"1\" class=\"dataframe\">\n",
       "  <thead>\n",
       "    <tr style=\"text-align: right;\">\n",
       "      <th></th>\n",
       "      <th>competition</th>\n",
       "      <th>date</th>\n",
       "      <th>home_team</th>\n",
       "      <th>scores</th>\n",
       "      <th>away_team</th>\n",
       "      <th>location</th>\n",
       "    </tr>\n",
       "  </thead>\n",
       "  <tbody>\n",
       "    <tr>\n",
       "      <th>0</th>\n",
       "      <td>Unofficial Friendly</td>\n",
       "      <td>1915</td>\n",
       "      <td>South China A.A.</td>\n",
       "      <td>3–1</td>\n",
       "      <td>Philippines</td>\n",
       "      <td>Shanghai, China</td>\n",
       "    </tr>\n",
       "    <tr>\n",
       "      <th>1</th>\n",
       "      <td>Friendly[1]</td>\n",
       "      <td>6 January 1968</td>\n",
       "      <td>Philippines</td>\n",
       "      <td>2–1</td>\n",
       "      <td>Dallas Tornado</td>\n",
       "      <td>Manila, Philippines</td>\n",
       "    </tr>\n",
       "    <tr>\n",
       "      <th>2</th>\n",
       "      <td>Friendly</td>\n",
       "      <td>12 February 1972</td>\n",
       "      <td>Philippines</td>\n",
       "      <td>0–6</td>\n",
       "      <td>Cruzeiro</td>\n",
       "      <td>Manila, Philippines</td>\n",
       "    </tr>\n",
       "    <tr>\n",
       "      <th>3</th>\n",
       "      <td>1972 Jakarta Anniversary Tournament</td>\n",
       "      <td>6 June 1972</td>\n",
       "      <td>South Korea B</td>\n",
       "      <td>1–1</td>\n",
       "      <td>Philippines</td>\n",
       "      <td>Jakarta</td>\n",
       "    </tr>\n",
       "    <tr>\n",
       "      <th>4</th>\n",
       "      <td>1972 Merdeka Tournament</td>\n",
       "      <td>23 July 1972</td>\n",
       "      <td>Philippines</td>\n",
       "      <td>1–1</td>\n",
       "      <td>Burma B</td>\n",
       "      <td>Ipoh, Malaysia</td>\n",
       "    </tr>\n",
       "  </tbody>\n",
       "</table>\n",
       "</div>"
      ],
      "text/plain": [
       "                           competition               date         home_team  \\\n",
       "0                  Unofficial Friendly              1915   South China A.A.   \n",
       "1                          Friendly[1]    6 January 1968        Philippines   \n",
       "2                             Friendly  12 February 1972        Philippines   \n",
       "3  1972 Jakarta Anniversary Tournament       6 June 1972      South Korea B   \n",
       "4              1972 Merdeka Tournament      23 July 1972        Philippines   \n",
       "\n",
       "  scores       away_team             location  \n",
       "0    3–1     Philippines      Shanghai, China  \n",
       "1    2–1  Dallas Tornado  Manila, Philippines  \n",
       "2    0–6        Cruzeiro  Manila, Philippines  \n",
       "3    1–1     Philippines              Jakarta  \n",
       "4    1–1         Burma B       Ipoh, Malaysia  "
      ]
     },
     "execution_count": 3,
     "metadata": {},
     "output_type": "execute_result"
    }
   ],
   "source": [
    "df_azkals.head()"
   ]
  },
  {
   "cell_type": "code",
   "execution_count": 4,
   "id": "47a2ae79-37ce-4b96-acba-c12b4c12e64e",
   "metadata": {},
   "outputs": [
    {
     "data": {
      "text/html": [
       "<div>\n",
       "<style scoped>\n",
       "    .dataframe tbody tr th:only-of-type {\n",
       "        vertical-align: middle;\n",
       "    }\n",
       "\n",
       "    .dataframe tbody tr th {\n",
       "        vertical-align: top;\n",
       "    }\n",
       "\n",
       "    .dataframe thead th {\n",
       "        text-align: right;\n",
       "    }\n",
       "</style>\n",
       "<table border=\"1\" class=\"dataframe\">\n",
       "  <thead>\n",
       "    <tr style=\"text-align: right;\">\n",
       "      <th></th>\n",
       "      <th>competition</th>\n",
       "      <th>date</th>\n",
       "      <th>home_team</th>\n",
       "      <th>scores</th>\n",
       "      <th>away_team</th>\n",
       "      <th>location</th>\n",
       "    </tr>\n",
       "  </thead>\n",
       "  <tbody>\n",
       "    <tr>\n",
       "      <th>406</th>\n",
       "      <td>2026 World Cup qualification</td>\n",
       "      <td>June 11 2024</td>\n",
       "      <td>Indonesia</td>\n",
       "      <td>2–0</td>\n",
       "      <td>Philippines</td>\n",
       "      <td>Jakarta, Indonesia</td>\n",
       "    </tr>\n",
       "    <tr>\n",
       "      <th>407</th>\n",
       "      <td>2024 ASEAN Championship</td>\n",
       "      <td>November 27 2024</td>\n",
       "      <td>Philippines</td>\n",
       "      <td>v</td>\n",
       "      <td>Myanmar</td>\n",
       "      <td>Manila, Philippines</td>\n",
       "    </tr>\n",
       "    <tr>\n",
       "      <th>408</th>\n",
       "      <td>2024 ASEAN Championship</td>\n",
       "      <td>November 30 2024</td>\n",
       "      <td>Laos</td>\n",
       "      <td>v</td>\n",
       "      <td>Philippines</td>\n",
       "      <td>Vientiane, Laos</td>\n",
       "    </tr>\n",
       "    <tr>\n",
       "      <th>409</th>\n",
       "      <td>2024 ASEAN Championship</td>\n",
       "      <td>December 3 2024</td>\n",
       "      <td>Philippines</td>\n",
       "      <td>v</td>\n",
       "      <td>Vietnam</td>\n",
       "      <td>Manila, Philippines</td>\n",
       "    </tr>\n",
       "    <tr>\n",
       "      <th>410</th>\n",
       "      <td>2024 ASEAN Championship</td>\n",
       "      <td>December 7 2024</td>\n",
       "      <td>Indonesia</td>\n",
       "      <td>v</td>\n",
       "      <td>Philippines</td>\n",
       "      <td>Jakarta, Indonesia</td>\n",
       "    </tr>\n",
       "  </tbody>\n",
       "</table>\n",
       "</div>"
      ],
      "text/plain": [
       "                      competition              date    home_team scores  \\\n",
       "406  2026 World Cup qualification      June 11 2024    Indonesia    2–0   \n",
       "407       2024 ASEAN Championship  November 27 2024  Philippines      v   \n",
       "408       2024 ASEAN Championship  November 30 2024         Laos      v   \n",
       "409       2024 ASEAN Championship   December 3 2024  Philippines      v   \n",
       "410       2024 ASEAN Championship   December 7 2024    Indonesia      v   \n",
       "\n",
       "       away_team             location  \n",
       "406  Philippines   Jakarta, Indonesia  \n",
       "407      Myanmar  Manila, Philippines  \n",
       "408  Philippines      Vientiane, Laos  \n",
       "409      Vietnam  Manila, Philippines  \n",
       "410  Philippines   Jakarta, Indonesia  "
      ]
     },
     "execution_count": 4,
     "metadata": {},
     "output_type": "execute_result"
    }
   ],
   "source": [
    "df_azkals.tail()"
   ]
  },
  {
   "cell_type": "code",
   "execution_count": 5,
   "id": "f9ae43fb-a1c2-4f81-a355-a8095796839b",
   "metadata": {},
   "outputs": [
    {
     "name": "stdout",
     "output_type": "stream",
     "text": [
      "<class 'pandas.core.frame.DataFrame'>\n",
      "RangeIndex: 411 entries, 0 to 410\n",
      "Data columns (total 6 columns):\n",
      " #   Column       Non-Null Count  Dtype \n",
      "---  ------       --------------  ----- \n",
      " 0   competition  411 non-null    object\n",
      " 1   date         409 non-null    object\n",
      " 2   home_team    411 non-null    object\n",
      " 3   scores       411 non-null    object\n",
      " 4   away_team    411 non-null    object\n",
      " 5   location     411 non-null    object\n",
      "dtypes: object(6)\n",
      "memory usage: 19.4+ KB\n"
     ]
    }
   ],
   "source": [
    "# Checks Null Values and Data Types\n",
    "df_azkals.info()"
   ]
  },
  {
   "cell_type": "markdown",
   "id": "013489f8",
   "metadata": {},
   "source": [
    "<h2>3. Data Preparation</h2>\n",
    "<h3>3.1 Date Column</h3>\n",
    "<p>As shown below, multiple formats are used for dates. There are a few anomalies in some dates such as having a few extra characters, having an incomplete date, etc. Majority would fall under the following formats:</p>\n",
    "<ul>\n",
    "    <li>dd mmmm yyyy</li>\n",
    "    <li>mmmm dd yyyy</li>\n",
    "</ul>\n",
    "<p>Given that there aren't that many rows (411 rows), anomalies in the dates can be individually handled as needed. The current goal is to turn all of these into the same format then convert the column into datetime.</p>"
   ]
  },
  {
   "cell_type": "code",
   "execution_count": 6,
   "id": "012c3efe-34ab-4a28-a44b-873c30fa8254",
   "metadata": {},
   "outputs": [
    {
     "data": {
      "text/plain": [
       "0                  1915 \n",
       "1        6 January 1968 \n",
       "2      12 February 1972 \n",
       "3           6 June 1972 \n",
       "4          23 July 1972 \n",
       "             ...        \n",
       "406         June 11 2024\n",
       "407     November 27 2024\n",
       "408     November 30 2024\n",
       "409      December 3 2024\n",
       "410      December 7 2024\n",
       "Name: date, Length: 411, dtype: object"
      ]
     },
     "execution_count": 6,
     "metadata": {},
     "output_type": "execute_result"
    }
   ],
   "source": [
    "df_azkals[\"date\"]"
   ]
  },
  {
   "cell_type": "code",
   "execution_count": 7,
   "id": "93bdc65f-b767-46ef-af33-e28486374b83",
   "metadata": {},
   "outputs": [],
   "source": [
    "# Remove whitespace outside the date\n",
    "df_azkals[\"date\"] = df_azkals[\"date\"].str.strip()"
   ]
  },
  {
   "cell_type": "code",
   "execution_count": 8,
   "id": "9b47abb9-7ed2-4372-bd85-b24c4af6d5a4",
   "metadata": {},
   "outputs": [
    {
     "data": {
      "text/plain": [
       "array(['1915', '6 January 1968', '12 February 1972', '6 June 1972',\n",
       "       '23 July 1972', '12 December 1975', '16 August 1981',\n",
       "       '18 August 1981', '6 August 1986', '8 August 1986',\n",
       "       '10 August 1986', '7 May 1991', '9 May 1991', '12 May 1993',\n",
       "       '13 May 1993', '14 May 1993', '15 February 1997',\n",
       "       '19 February 1997', '21 February 1997', '7 March 1998',\n",
       "       '9 March 1998', '11 March 1998', '14 March 1998', '15 March 1998',\n",
       "       '3 April 2006', '11 October 2008', '13 October 2008',\n",
       "       '17 January 2010', '3 October 2010', '9 October 2010',\n",
       "       '27 November 2010', '9 March 2011', '11 March 2011', '5 June 2011',\n",
       "       '15 June 2011', '17 June 2011', '22 June 2011', '24 June 2011',\n",
       "       '16 July 2011', '18 July 2011', '3 December 2011',\n",
       "       '7 January 2012', '21 January 2012', '11 February 2012',\n",
       "       '13 February 2012', '16 February 2012', '11 August 2012',\n",
       "       '5 September 2012', '10 September 2012', '14 April 2014',\n",
       "       '10 May 2014', '27 August 2014', '26 July 2016[35]',\n",
       "       '6 November 2018', '31 December 2018', '9 June 2019',\n",
       "       '10 October 2019', 'October 15, 2023', 'February 4 1913',\n",
       "       'May 17 1915', 'May 18 1915', 'May 20 1915', 'May 10 1917',\n",
       "       'May 11 1917', 'May 12 1919', 'May 13 1919', 'May 15 1919',\n",
       "       'May 30 1921', 'June 2 1921', 'May 22 1923', 'May 23 1923',\n",
       "       'May 18 1925', 'May 20 1925', 'August 29 1927', 'August 31 1927',\n",
       "       'May 25 1930', 'May 27 1930', 'May 12 1934', 'May 15 1934',\n",
       "       'May 19 1934', 'June 8 1940', 'June\\xa0? 1940', 'June 16 1940',\n",
       "       '20 November 1977', '21 November 1977', '23 November 1977',\n",
       "       '14 March 1976', '17 March 1976', '8 April 1976',\n",
       "       '3 September 1974', '6 September 1974', '7 September 1974',\n",
       "       '8 June 1972', '12 June 1972', '14 June 1972', '14 July 1972',\n",
       "       '16 July 1972', '18 July 1972', '20 July 1972', '2 August 1972',\n",
       "       '3 August 1972', '5 August 1972', '21 September 1972',\n",
       "       '23 September 1972', '29 October 1972', '9 August 1971',\n",
       "       '11 August 1971', '14 August 1971', '15 August 1971',\n",
       "       '16 August 1971', '17 August 1971', '24 August 1971',\n",
       "       '27 August 1971', '25 September 1971', '27 September 1971',\n",
       "       '29 September 1971', '2 October 1971', '27 September 1967 1967',\n",
       "       '28 September 1967 1967', '3 October 1967 1967',\n",
       "       '7 October 1967 1967', '10 October 1967 1967',\n",
       "       '29 March 1959 1959', '31 March 1959 1959', '25 May 1958 1958',\n",
       "       '26 May 1958 1958', '30 May 1958 1958', nan,\n",
       "       '25 February 1956 1956', '21 April 1956 1956', '3 May 1954 1954',\n",
       "       '6 May 1954 1954', '31 January 1953 1953', '20 June 1953 1953',\n",
       "       '19 February 1950 1950', '21 February 1948 1948', '22 March 1980',\n",
       "       '24 March 1980', '25 March 1980', '27 March 1980', '3 April 1980',\n",
       "       '14 August 1981', '9 December 1981', '11 December 1981',\n",
       "       '30 May 1983', '1 June 1983', '4 September 1983',\n",
       "       '7 September 1983', '7 August 1984', '9 August 1984',\n",
       "       '11 August 1984', '13 August 1984', '15 August 1984',\n",
       "       '10 December 1985', '12 December 1985', '3 April 1987',\n",
       "       '10 April 1987', '13 April 1987', '14 May 1987', '21 August 1989',\n",
       "       '23 August 1989', '25 August 1989', '6 May 1991', '20 May 1991',\n",
       "       '26 November 1991', '28 November 1991', '30 November 1991',\n",
       "       '2 December 1991', '4 December 1991', '15 May 1993', '17 May 1993',\n",
       "       '9 June 1993', '11 June 1993', '15 June 1993', '4 December 1995',\n",
       "       '6 December 1995', '8 December 1995', '12 December 1995',\n",
       "       '30 January 1996', '1 February 1996', '4 February 1996',\n",
       "       '2 September 1996', '4 September 1996', '6 September 1996',\n",
       "       '8 September 1996', '21 September 1996', '23 September 1996',\n",
       "       '26 September 1996', '23 February 1997', '7 October 1997',\n",
       "       '9 October 1997', '12 October 1997', '14 October 1997',\n",
       "       '27 November 1997', '24 March 1998', '26 March 1998',\n",
       "       '27 August 1998', '29 August 1998', '30 July 1999',\n",
       "       '1 August 1999', '3 August 1999', '8 August 1999',\n",
       "       '23 January 2000', '26 January 2000', '29 January 2000',\n",
       "       '6 November 2000', '8 November 2000', '12 November 2000',\n",
       "       '25 April 2001', '30 April 2001', '4 May 2001', '7 May 2001',\n",
       "       '11 May 2001', '19 May 2001', '26 May 2001', '11 December 2002',\n",
       "       '17 December 2002', '19 December 2002', '21 December 2002',\n",
       "       '23 December 2002', '8 December 2004', '10 December 2004',\n",
       "       '14 December 2004', '16 December 2004', '26 March 2006',\n",
       "       '1 April 2006', '5 April 2006', '12 November 2006',\n",
       "       '14 November 2006', '18 November 2006', '20 November 2006',\n",
       "       '7 January 2007', '12 January 2007', '13 May 2008', '15 May 2008',\n",
       "       '17 May 2008', '17 October 2008', '19 October 2008',\n",
       "       '21 October 2008', '23 October 2008', '14 April 2009',\n",
       "       '16 April 2009', '18 April 2009', '16 January 2010',\n",
       "       '10 October 2010', '12 October 2010', '22 October 2010',\n",
       "       '24 October 2010', '26 October 2010', '2 December 2010',\n",
       "       '5 December 2010', '8 December 2010', '16 December 2010',\n",
       "       '19 December 2010', '9 February 2011', '15 March 2011',\n",
       "       '21 March 2011', '23 March 2011', '25 March 2011', '29 June 2011',\n",
       "       '3 July 2011', '23 July 2011', '28 July 2011', '30 September 2011',\n",
       "       '2 October 2011', '4 October 2011', '7 October 2011',\n",
       "       '11 October 2011', '29 February 2012', '9 March 2012',\n",
       "       '11 March 2012', '13 March 2012', '16 March 2012', '19 March 2012',\n",
       "       '1 June 2012', '5 June 2012', '12 June 2012', '7 September 2012',\n",
       "       '25 September 2012', '27 September 2012', '29 September 2012',\n",
       "       '12 October 2012', '16 October 2012', '15 November 2012',\n",
       "       '24 November 2012', '27 November 2012', '30 November 2012',\n",
       "       '8 December 2012', '12 December 2012', '6 February 2013',\n",
       "       '22 March 2013', '24 March 2013', '26 March 2013', '4 June 2013',\n",
       "       '14 August 2013', '11 October 2013', '15 October 2013',\n",
       "       '9 November 2013', '15 November 2013', '1 March 2014',\n",
       "       '5 March 2014', '11 April 2014', '27 April 2014', '20 May 2014',\n",
       "       '22 May 2014', '24 May 2014', '27 May 2014', '30 May 2014',\n",
       "       '3 September 2014', '6 September 2014', '12 October 2014',\n",
       "       '31 October 2014', '9 November 2014', '14 November 2014',\n",
       "       '22 November 2014', '25 November 2014', '28 November 2014',\n",
       "       '6 December 2014', '10 December 2014', '30 March 2015',\n",
       "       '11 June 2015', '16 June 2015', '3 September 2015',\n",
       "       '8 September 2015', '8 October 2015', '13 October 2015',\n",
       "       '12 November 2015', '24 March 2016', '29 March 2016',\n",
       "       '6 September[46] 2016', '7 October 2016', '10 October 2016',\n",
       "       '9 November[46] 2016', '19 November 2016', '22 November 2016',\n",
       "       '25 November 2016', '22 March 2017', '28 March 2017',\n",
       "       '7 June 2017', '13 June 2017', '5 September 2017',\n",
       "       '10 October 2017', '14 November 2017', '1 December 2017',\n",
       "       '3 December 2017', '5 December 2017', '22 March 2018',\n",
       "       '27 March 2018', '6 September 2018', '9 September 2018',\n",
       "       '3 October 2018', '5 October 2018', '9 October 2018',\n",
       "       '13 October 2018', '13 November 2018', '17 November 2018',\n",
       "       '21 November 2018', '25 November 2018', '2 December 2018',\n",
       "       '6 December 2018', '7 January 2019', '11 January 2019',\n",
       "       '16 January 2019', '7 June 2019', '5 September 2019',\n",
       "       '10 September 2019', '15 October 2019', '14 November 2019',\n",
       "       '19 November 2019', 'May 28 2021', 'June 7 2021', 'June 11 2021',\n",
       "       'June 15 2021', 'December 8 2021', 'December 11 2021',\n",
       "       'December 14 2021', 'December 18 2021', 'March 23 2022',\n",
       "       'March 29 2022', 'June 3 2022', 'June 8 2022', 'June 11 2022',\n",
       "       'June 14 2022', 'July 16 2022', 'December 14 2022',\n",
       "       'December 20 2022', 'December 23 2022', 'December 26 2022',\n",
       "       'January 2 2023', 'March 24 2023', 'March 28 2023', 'June 15 2023',\n",
       "       'June 19 2023', 'September 8 2023', 'September 12 2023',\n",
       "       'October 17 2023', 'November 16 2023', 'November 21 2023',\n",
       "       'March 21 2024', 'March 26 2024', 'June 6 2024', 'June 11 2024',\n",
       "       'November 27 2024', 'November 30 2024', 'December 3 2024',\n",
       "       'December 7 2024'], dtype=object)"
      ]
     },
     "execution_count": 8,
     "metadata": {},
     "output_type": "execute_result"
    }
   ],
   "source": [
    "df_azkals[\"date\"].unique()"
   ]
  },
  {
   "cell_type": "markdown",
   "id": "033a61e5-5695-40ef-80d0-9b62a9da3272",
   "metadata": {},
   "source": [
    "<p>Regular expressions will be used to identify formats that do not match any of the two aforementioned common formats. There are dates with the 'dd mmmm yyyy yyyy' format. When making regex for the 'dd mmmm yyyy' format, exclude those rows.</p>"
   ]
  },
  {
   "cell_type": "code",
   "execution_count": 9,
   "id": "98f6d722-a5ae-4ff6-8b59-0682a12e2edc",
   "metadata": {},
   "outputs": [],
   "source": [
    "# define date format regex\n",
    "d_m_y_dates = df_azkals[\"date\"].str.contains('[0-9]{1,2}\\s[\\w]+\\s[0-9]{4}$', na=False)\n",
    "m_d_y_dates = df_azkals[\"date\"].str.contains('[\\w]+\\s[0-9]{1,2}\\s[0-9]{4}', na=False)\n",
    "d_m_y_y_dates = df_azkals[\"date\"].str.contains('[0-9]{1,2}\\s[\\w]+\\s[0-9]{4}\\s[0-9]{4}', na=False)"
   ]
  },
  {
   "cell_type": "code",
   "execution_count": 10,
   "id": "97da4908-78ed-41f7-9cf1-c7141419f9be",
   "metadata": {},
   "outputs": [
    {
     "name": "stdout",
     "output_type": "stream",
     "text": [
      "d_m_y_y: 18\n",
      "d_m_y: 324\n",
      "m_d_y: 61\n"
     ]
    }
   ],
   "source": [
    "# Check the count of values\n",
    "print(f\"d_m_y_y: {len(df_azkals[d_m_y_y_dates])}\")\n",
    "print(f\"d_m_y: {len(df_azkals[d_m_y_dates])}\")\n",
    "print(f\"m_d_y: {len(df_azkals[m_d_y_dates])}\")"
   ]
  },
  {
   "cell_type": "code",
   "execution_count": 11,
   "id": "d3ec4122-c008-4862-a929-1268e596aac1",
   "metadata": {
    "scrolled": true
   },
   "outputs": [],
   "source": [
    "# clean up dates with the dd mmmm yyyy yyyy format\n",
    "d_m_y_y_regex = '[0-9]{1,2}\\s[\\w]+\\s[0-9]{4}\\s[0-9]{4}'\n",
    "df_azkals[\"date\"] = df_azkals[\"date\"].apply(lambda date: str(date[:-5]) if re.search(d_m_y_y_regex, str(date)) else date)"
   ]
  },
  {
   "cell_type": "markdown",
   "id": "8279c31d-4905-4e85-8e3a-2de36abd0ade",
   "metadata": {},
   "source": [
    "<p>There are 6 dates with a different format and 2 null values. For most of these values, the actual date can be seen. These only need a little cleaning up.</p>\n",
    "<p>For the other less obvious dates and null values, the source of these rows in Wikipedia and their respective references will be investigated.</p>"
   ]
  },
  {
   "cell_type": "code",
   "execution_count": 12,
   "id": "51713d6a-b0dd-4663-85d4-0d3d77bd1c3e",
   "metadata": {},
   "outputs": [
    {
     "data": {
      "text/plain": [
       "array(['1915', '26 July 2016[35]', 'October 15, 2023', 'June\\xa0? 1940',\n",
       "       '27 September 1967', '28 September 1967', '3 October 1967',\n",
       "       '7 October 1967', '10 October 1967', '29 March 1959',\n",
       "       '31 March 1959', '25 May 1958', '26 May 1958', '30 May 1958', nan,\n",
       "       '25 February 1956', '21 April 1956', '3 May 1954', '6 May 1954',\n",
       "       '31 January 1953', '20 June 1953', '19 February 1950',\n",
       "       '21 February 1948', '6 September[46] 2016', '9 November[46] 2016'],\n",
       "      dtype=object)"
      ]
     },
     "execution_count": 12,
     "metadata": {},
     "output_type": "execute_result"
    }
   ],
   "source": [
    "# Anomaly Date Formats\n",
    "df_azkals[(~(d_m_y_dates | m_d_y_dates))][\"date\"].unique()"
   ]
  },
  {
   "cell_type": "code",
   "execution_count": 13,
   "id": "ba5e5f2d-f8b8-4618-81aa-73b42651e732",
   "metadata": {},
   "outputs": [],
   "source": [
    "# Clean up dates with extra characters\n",
    "df_azkals.loc[df_azkals[\"date\"] == \"26 July 2016[35]\", \"date\"] = \"26 July 2016\"\n",
    "df_azkals.loc[df_azkals[\"date\"] == \"October 15, 2023\", \"date\"] = \"15 October 2023\"\n",
    "df_azkals.loc[df_azkals[\"date\"] == \"6 September[46] 2016\", \"date\"] = \"6 September 2016\"\n",
    "df_azkals.loc[df_azkals[\"date\"] == \"9 November[46] 2016\", \"date\"] = \"9 November 2016\""
   ]
  },
  {
   "cell_type": "markdown",
   "id": "54d5e688-adfb-4ba1-85d6-76aef8ef59dc",
   "metadata": {},
   "source": [
    "<p>Based on the source of the data on Wikipedia, the unofficial friendly with South China A.A. in 1915 likely occurred after the countries other games between May 17-20, 1915 in the Far East Asian Games (Knight, 2023). The match will be assumed to have occurred on May 21, 1915 a day after the Philippines' last official game in the 1915 Far East Asian Games.</p>\n",
    "\n",
    "<p>Also based off of the match data's source on Wikipedia, the match with Manchukuo in the 1940 East Asian Games likely occurred between two other matches on June 8 and June 16, 1940 respectively (Veroeveren, 2017). The match will be assumed to have occurred on June 12, 1940.</p>\n",
    "\n",
    "<p>Regarding the null values, it appears doubtful that the matches occurred. The source of the data does not have any specific dates and the competition where the games allegedly occurred appear to not exist based on Research. The competition is the 1956 South East Asian Games of which any outside references cannot be found (Garin, 1999). It should be noted that the the first South East Asian Peninsular Games (a precursor to the modern SEA games) happened in 1959 which makes the competition less likely to have existed. Given this, the games with null values will be dropped.</p>"
   ]
  },
  {
   "cell_type": "code",
   "execution_count": 14,
   "id": "e0eac699-d2e7-486b-8b93-c337593c4b36",
   "metadata": {},
   "outputs": [
    {
     "data": {
      "text/html": [
       "<div>\n",
       "<style scoped>\n",
       "    .dataframe tbody tr th:only-of-type {\n",
       "        vertical-align: middle;\n",
       "    }\n",
       "\n",
       "    .dataframe tbody tr th {\n",
       "        vertical-align: top;\n",
       "    }\n",
       "\n",
       "    .dataframe thead th {\n",
       "        text-align: right;\n",
       "    }\n",
       "</style>\n",
       "<table border=\"1\" class=\"dataframe\">\n",
       "  <thead>\n",
       "    <tr style=\"text-align: right;\">\n",
       "      <th></th>\n",
       "      <th>competition</th>\n",
       "      <th>date</th>\n",
       "      <th>home_team</th>\n",
       "      <th>scores</th>\n",
       "      <th>away_team</th>\n",
       "      <th>location</th>\n",
       "    </tr>\n",
       "  </thead>\n",
       "  <tbody>\n",
       "    <tr>\n",
       "      <th>0</th>\n",
       "      <td>Unofficial Friendly</td>\n",
       "      <td>1915</td>\n",
       "      <td>South China A.A.</td>\n",
       "      <td>3–1</td>\n",
       "      <td>Philippines</td>\n",
       "      <td>Shanghai, China</td>\n",
       "    </tr>\n",
       "    <tr>\n",
       "      <th>81</th>\n",
       "      <td>1940 East Asian Games</td>\n",
       "      <td>June ? 1940</td>\n",
       "      <td>Manchukuo</td>\n",
       "      <td>1–1</td>\n",
       "      <td>Philippines</td>\n",
       "      <td>Japan</td>\n",
       "    </tr>\n",
       "    <tr>\n",
       "      <th>128</th>\n",
       "      <td>Unofficial friendly</td>\n",
       "      <td>NaN</td>\n",
       "      <td>Philippines</td>\n",
       "      <td>0–2</td>\n",
       "      <td>Japan</td>\n",
       "      <td>Manila, Philippines</td>\n",
       "    </tr>\n",
       "    <tr>\n",
       "      <th>129</th>\n",
       "      <td>Unofficial friendly</td>\n",
       "      <td>NaN</td>\n",
       "      <td>Philippines</td>\n",
       "      <td>0–3</td>\n",
       "      <td>Japan</td>\n",
       "      <td>Manila, Philippines</td>\n",
       "    </tr>\n",
       "  </tbody>\n",
       "</table>\n",
       "</div>"
      ],
      "text/plain": [
       "               competition         date         home_team scores    away_team  \\\n",
       "0      Unofficial Friendly         1915  South China A.A.    3–1  Philippines   \n",
       "81   1940 East Asian Games  June ? 1940         Manchukuo    1–1  Philippines   \n",
       "128    Unofficial friendly          NaN       Philippines    0–2        Japan   \n",
       "129    Unofficial friendly          NaN       Philippines    0–3        Japan   \n",
       "\n",
       "                location  \n",
       "0        Shanghai, China  \n",
       "81                 Japan  \n",
       "128  Manila, Philippines  \n",
       "129  Manila, Philippines  "
      ]
     },
     "execution_count": 14,
     "metadata": {},
     "output_type": "execute_result"
    }
   ],
   "source": [
    "df_azkals.loc[(df_azkals[\"date\"] == \"1915\") | (df_azkals[\"date\"] == \"June\\xa0? 1940\") | (df_azkals[\"date\"].isna())]"
   ]
  },
  {
   "cell_type": "code",
   "execution_count": 15,
   "id": "08dcb073-d3cd-4489-8818-546b67a9f02b",
   "metadata": {},
   "outputs": [],
   "source": [
    "# Impute the values\n",
    "df_azkals.iloc[0, 1] = \"21 May 1915\"\n",
    "df_azkals.iloc[81, 1] = \"12 June 1940\"\n",
    "df_azkals.drop([128,129], axis=0, inplace=True)\n",
    "df_azkals.reset_index(drop=True, inplace=True)"
   ]
  },
  {
   "cell_type": "code",
   "execution_count": 16,
   "id": "c16d1250-cebe-46a5-9afc-4143183c7657",
   "metadata": {
    "scrolled": true
   },
   "outputs": [],
   "source": [
    "# Convert all into datetime\n",
    "df_azkals[\"date\"] = pd.to_datetime(df_azkals[\"date\"], format=\"mixed\", errors=\"raise\")"
   ]
  },
  {
   "cell_type": "markdown",
   "id": "2a830d86-baaf-4d82-b931-8c37d16d74a8",
   "metadata": {},
   "source": [
    "<p>Some of the matches scraped have not yet occurred. These should be dropped. For documentation purposes, the date this was run is 2024-8-17.</p>"
   ]
  },
  {
   "cell_type": "code",
   "execution_count": 17,
   "id": "15fe7c97-1ab3-4f18-b707-10d7eb164ab8",
   "metadata": {},
   "outputs": [
    {
     "name": "stdout",
     "output_type": "stream",
     "text": [
      "Current Timestamp: 2024-08-19 10:00:08.152418\n"
     ]
    }
   ],
   "source": [
    "# Show current timestamp\n",
    "current_timestamp = pd.Timestamp.now()\n",
    "print(f\"Current Timestamp: {current_timestamp}\")\n",
    "\n",
    "# Drop future matches\n",
    "future_matches = df_azkals[\"date\"] > current_timestamp\n",
    "df_azkals.drop(df_azkals[future_matches].index, axis=0, inplace=True)"
   ]
  },
  {
   "cell_type": "markdown",
   "id": "f6e39657",
   "metadata": {},
   "source": [
    "<h3>3.2 Competition Column</h3>\n",
    "<p>As can be seen below, the competition data looks to be fairly clean. There may be differences in some competitions only due to capitalization or extra characters. This can be cleaned up by removing the extra characters and lowercasing all the characters.</p>\n",
    "<p>Some of the competitions also have suffixes indicating what stage of the competition the team is playing. For example 'gs' and 'sf', for 'group stage' and 'semi final' respectively. This may be meaningful so for now, these suffixes will be kept. They may be dropped later on if the suffixes are unavailable for most other competitions.</p>"
   ]
  },
  {
   "cell_type": "code",
   "execution_count": 18,
   "id": "f11c469a-dcfd-4063-afed-8c1a42c6a9df",
   "metadata": {},
   "outputs": [
    {
     "data": {
      "text/plain": [
       "0                      Unofficial Friendly\n",
       "1                              Friendly[1]\n",
       "2                                 Friendly\n",
       "3      1972 Jakarta Anniversary Tournament\n",
       "4                  1972 Merdeka Tournament\n",
       "                      ...                 \n",
       "400      2026 FIFA World Cup qualification\n",
       "401           2026 World Cup qualification\n",
       "402           2026 World Cup qualification\n",
       "403           2026 World Cup qualification\n",
       "404           2026 World Cup qualification\n",
       "Name: competition, Length: 405, dtype: object"
      ]
     },
     "execution_count": 18,
     "metadata": {},
     "output_type": "execute_result"
    }
   ],
   "source": [
    "df_azkals[\"competition\"]"
   ]
  },
  {
   "cell_type": "code",
   "execution_count": 19,
   "id": "b48ccc32",
   "metadata": {},
   "outputs": [],
   "source": [
    "# Convert the column into string\n",
    "df_azkals[\"competition\"] = df_azkals[\"competition\"].astype(\"string\")"
   ]
  },
  {
   "cell_type": "code",
   "execution_count": 20,
   "id": "9e1f20ab-595b-4e73-a3fd-2205ed8779bd",
   "metadata": {},
   "outputs": [
    {
     "name": "stdout",
     "output_type": "stream",
     "text": [
      "Count of Unique Values: 158\n"
     ]
    }
   ],
   "source": [
    "# Show the count of unique competitions\n",
    "print(f\"Count of Unique Values: {len(df_azkals['competition'].unique())}\")"
   ]
  },
  {
   "cell_type": "code",
   "execution_count": 21,
   "id": "44f1641b",
   "metadata": {},
   "outputs": [
    {
     "data": {
      "text/plain": [
       "<StringArray>\n",
       "[                'Unofficial Friendly',                         'Friendly[1]',\n",
       "                            'Friendly', '1972 Jakarta Anniversary Tournament',\n",
       "             '1972 Merdeka Tournament',                         'Friendly[2]',\n",
       " '1981 Jakarta Anniversary Tournament',           '1986 President Aquino Cup',\n",
       "  '1991 Philippines International Cup',  '1993 Philippines International Cup',\n",
       " ...\n",
       "    '2018 AFF Championship SF 1st leg',    '2018 AFF Championship SF 2nd leg',\n",
       "               '2019 AFC Asian Cup GS',   '2022 FIFA World Cup qualification',\n",
       "            '2020 AFF Championship GS',         '2022 FAS Tri-Nations Series',\n",
       "    '2023 AFC Asian Cup qualification',            '2022 AFF Championship GS',\n",
       "   '2026 FIFA World Cup qualification',        '2026 World Cup qualification']\n",
       "Length: 158, dtype: string"
      ]
     },
     "execution_count": 21,
     "metadata": {},
     "output_type": "execute_result"
    }
   ],
   "source": [
    "# Inspect the competitions participated in\n",
    "df_azkals[\"competition\"].unique()"
   ]
  },
  {
   "cell_type": "markdown",
   "id": "ad9029be-cf2e-4ebe-bfcd-12315624a1f5",
   "metadata": {},
   "source": [
    "<p>Lowercasing did not do much to reduce the number of unique values. </p>"
   ]
  },
  {
   "cell_type": "code",
   "execution_count": 22,
   "id": "febc16e1-abdd-412c-8e8d-45e6464237e9",
   "metadata": {},
   "outputs": [
    {
     "name": "stdout",
     "output_type": "stream",
     "text": [
      "Count of Unique Values: 157\n"
     ]
    }
   ],
   "source": [
    "df_azkals[\"competition\"] = df_azkals[\"competition\"].str.lower()\n",
    "print(f\"Count of Unique Values: {len(df_azkals['competition'].unique())}\")"
   ]
  },
  {
   "cell_type": "code",
   "execution_count": 23,
   "id": "258dea1e-9121-4fd3-9b25-0bfd808f485e",
   "metadata": {
    "scrolled": true
   },
   "outputs": [
    {
     "data": {
      "text/plain": [
       "<StringArray>\n",
       "[                     'friendly[1]',                      'friendly[2]',\n",
       "                      'friendly[3]',                      'friendly[4]',\n",
       "                      'friendly[5]',                      'friendly[6]',\n",
       "                      'friendly[8]',                      'friendly[9]',\n",
       "                     'friendly[10]',                     'friendly[11]',\n",
       "                     'friendly[12]',                     'friendly[13]',\n",
       "                     'friendly[14]',                     'friendly[15]',\n",
       "                     'friendly[16]',                     'friendly[17]',\n",
       "                     'friendly[18]',                     'friendly[19]',\n",
       "                     'friendly[20]',                     'friendly[21]',\n",
       "                     'friendly[22]',                     'friendly[24]',\n",
       "                     'friendly[25]',                     'friendly[27]',\n",
       "                     'friendly[29]',                     'friendly[31]',\n",
       "                 'friendly[32][33]',                     'friendly[34]',\n",
       "      'unofficial friendly[note 4]',      'unofficial friendly[note 5]',\n",
       "      'unofficial friendly[note 6]',      'aloha soccer festival[3][4]',\n",
       "                      '1972 oqt[6]',                   'friendly[5][6]',\n",
       "                      'friendly[7]',                   'friendly[3][4]',\n",
       "    '2012 philippine peace cup[13]',    '2012 philippine peace cup[14]',\n",
       "    '2012 philippine peace cup[15]',    '2013 philippine peace cup[25]',\n",
       "    '2013 philippine peace cup[26]',                     'friendly[28]',\n",
       "                     'friendly[36]', '2014 philippine peace cup sf[38]',\n",
       "  '2014 philippine peace cup f[38]',                     'friendly[39]',\n",
       "                     'friendly[41]',                     'friendly[42]',\n",
       "                     'friendly[44]']\n",
       "Length: 49, dtype: string"
      ]
     },
     "execution_count": 23,
     "metadata": {},
     "output_type": "execute_result"
    }
   ],
   "source": [
    "df_azkals[(df_azkals[\"competition\"].str.contains(\"\\[[a-zA-Z0-9]+\\]\")) | (df_azkals[\"competition\"].str.contains(\"\\[[a-z]+\\s[0-9]{1}\\]\"))][\"competition\"].unique()"
   ]
  },
  {
   "cell_type": "code",
   "execution_count": 24,
   "id": "87d7f74f-9b32-4e7c-80f0-e12e3b1c970c",
   "metadata": {},
   "outputs": [],
   "source": [
    "# Remove the brackets\n",
    "df_azkals[\"competition\"] = df_azkals[\"competition\"].replace(\"\\[[a-zA-Z0-9]+\\]\",\"\", regex=True)\n",
    "df_azkals[\"competition\"] = df_azkals[\"competition\"].replace(\"\\[[a-z]+\\s[0-9]{1}\\]\",\"\", regex=True)"
   ]
  },
  {
   "cell_type": "code",
   "execution_count": 25,
   "id": "cf834514-bcd2-4e0e-a482-dfb88fd093f2",
   "metadata": {
    "scrolled": true
   },
   "outputs": [
    {
     "data": {
      "text/plain": [
       "<StringArray>\n",
       "[                'unofficial friendly',                            'friendly',\n",
       " '1972 jakarta anniversary tournament',             '1972 merdeka tournament',\n",
       " '1981 jakarta anniversary tournament',           '1986 president aquino cup',\n",
       "  '1991 philippines international cup',  '1993 philippines international cup',\n",
       "                \"1997 president's cup\",             \"1997 president's cup sf\",\n",
       " ...\n",
       "    '2018 aff championship sf 1st leg',    '2018 aff championship sf 2nd leg',\n",
       "               '2019 afc asian cup gs',   '2022 fifa world cup qualification',\n",
       "            '2020 aff championship gs',         '2022 fas tri-nations series',\n",
       "    '2023 afc asian cup qualification',            '2022 aff championship gs',\n",
       "   '2026 fifa world cup qualification',        '2026 world cup qualification']\n",
       "Length: 113, dtype: string"
      ]
     },
     "execution_count": 25,
     "metadata": {},
     "output_type": "execute_result"
    }
   ],
   "source": [
    "df_azkals[\"competition\"].unique()"
   ]
  },
  {
   "cell_type": "markdown",
   "id": "1009138d-33db-4fff-a621-0dfd6f446517",
   "metadata": {},
   "source": [
    "<p>The suffixes discovered are:\n",
    "<ul>\n",
    "    <li>sf</li>\n",
    "    <li>3rd place</li>\n",
    "    <li>gs</li>\n",
    "    <li>r1</li>\n",
    "    <li>11th place</li>\n",
    "    <li>sf 1st leg</li>\n",
    "    <li>sf 2nd leg</li>\n",
    "</ul>"
   ]
  },
  {
   "cell_type": "code",
   "execution_count": 26,
   "id": "256f221d-cece-4170-8a07-dc01856a58dd",
   "metadata": {},
   "outputs": [
    {
     "data": {
      "text/plain": [
       "['unofficial friendly',\n",
       " 'friendly',\n",
       " '1972 jakarta anniversary tournament',\n",
       " '1972 merdeka tournament',\n",
       " '1981 jakarta anniversary tournament',\n",
       " '1986 president aquino cup',\n",
       " '1991 philippines international cup',\n",
       " '1993 philippines international cup',\n",
       " \"1997 president's cup\",\n",
       " \"1997 president's cup sf\",\n",
       " \"1998 president's centennial cup\",\n",
       " \"1998 president's centennial cup sf\",\n",
       " \"1998 president's centennial cup 3rd place\",\n",
       " '2006 afc challenge cup gs',\n",
       " '2010 long teng cup',\n",
       " '1913 far eastern championship games',\n",
       " '1915 far eastern championship games',\n",
       " '1917 far eastern championship games',\n",
       " '1919 far eastern championship games',\n",
       " '1921 far eastern championship games',\n",
       " '1923 far eastern championship games',\n",
       " '1925 far eastern championship games',\n",
       " '1927 far eastern championship games',\n",
       " '1930 far eastern championship games',\n",
       " '1934 far eastern championship games',\n",
       " '1940 east asian games',\n",
       " '1977 southeast asian games gs',\n",
       " '1976 summer olympics qualification',\n",
       " 'aloha soccer festival',\n",
       " '1974 asian games r1',\n",
       " '1972 pesta sukan cup',\n",
       " \"1972 president's cup football tournament\",\n",
       " '1971 merdeka tournament',\n",
       " '1971 merdeka tournament 11th place',\n",
       " '1971 pesta sukan cup',\n",
       " '1972 oqt',\n",
       " '1968 summer olympics qualification',\n",
       " '1960 afc asian cup qualification',\n",
       " '1958 asian games',\n",
       " '1956 afc asian cup qualification',\n",
       " '1954 asian games',\n",
       " '1980 summer olympics qualification',\n",
       " '1981 southeast asian games gs',\n",
       " '1983 southeast asian games gs',\n",
       " '1984 summer olympics qualification',\n",
       " '1984 afc asian cup qualification',\n",
       " '1985 southeast asian games gs',\n",
       " '1988 summer olympics qualification',\n",
       " '1989 southeast asian games gs',\n",
       " '1991 southeast asian games gs',\n",
       " '1991 southeast asian games sf',\n",
       " '1991 southeast asian games 3rd place',\n",
       " '1993 philippines international cup 3rd place',\n",
       " '1993 southeast asian games gs',\n",
       " '1995 southeast asian games gs',\n",
       " '1996 afc asian cup qualification',\n",
       " '1996 aff championship gs',\n",
       " '1998 fifa world cup qualification',\n",
       " \"1997 president's cup 3rd place\",\n",
       " '1997 southeast asian games gs',\n",
       " '1998 aff championship qualification',\n",
       " '1998 aff championship gs',\n",
       " '1999 southeast asian games gs',\n",
       " '2000 afc asian cup qualification',\n",
       " '2000 tiger cup gs',\n",
       " '2002 fifa world cup qualification',\n",
       " '2002 tiger cup gs',\n",
       " '2007 aff championship qualification',\n",
       " '2007 aff championship gs',\n",
       " '2008 afc challenge cup qualification',\n",
       " '2008 aff championship qualification',\n",
       " '2010 afc challenge cup qualification',\n",
       " '2010 aff championship qualification',\n",
       " '2010 aff championship gs',\n",
       " '2010 aff championship sf 1st leg',\n",
       " '2010 aff championship sf 2nd leg',\n",
       " '2012 afc challenge cup qualification',\n",
       " '2014 fifa world cup qualification',\n",
       " '2011 long teng cup',\n",
       " '2012 afc challenge cup gs',\n",
       " '2012 afc challenge cup sf',\n",
       " '2012 afc challenge cup 3rd place',\n",
       " '2012 philippine peace cup',\n",
       " '2012 aff championship gs',\n",
       " '2012 aff championship sf 1st leg',\n",
       " '2012 aff championship sf 2nd leg',\n",
       " '2014 afc challenge cup qualification',\n",
       " '2013 philippine peace cup',\n",
       " '2014 afc challenge cup gs',\n",
       " '2014 afc challenge cup sf',\n",
       " '2014 afc challenge cup f',\n",
       " '2014 philippine peace cup sf',\n",
       " '2014 philippine peace cup f',\n",
       " '2014 aff championship gs',\n",
       " '2014 aff championship sf 1st leg',\n",
       " '2014 aff championship sf 2nd leg',\n",
       " '2018 fifa world cup qualification',\n",
       " '2016 aff championship gs',\n",
       " '2019 afc asian cup qualification',\n",
       " '2017 ctfa international tournament',\n",
       " '2018 bangabandhu cup',\n",
       " '2018 bangabandhu cup sf',\n",
       " '2018 aff championship gs',\n",
       " '2018 aff championship sf 1st leg',\n",
       " '2018 aff championship sf 2nd leg',\n",
       " '2019 afc asian cup gs',\n",
       " '2022 fifa world cup qualification',\n",
       " '2020 aff championship gs',\n",
       " '2022 fas tri-nations series',\n",
       " '2023 afc asian cup qualification',\n",
       " '2022 aff championship gs',\n",
       " '2026 fifa world cup qualification',\n",
       " '2026 world cup qualification']"
      ]
     },
     "execution_count": 26,
     "metadata": {},
     "output_type": "execute_result"
    }
   ],
   "source": [
    "# Inspect the suffixes in the competitions\n",
    "list(df_azkals[\"competition\"].unique())"
   ]
  },
  {
   "cell_type": "markdown",
   "id": "07098c31-b474-424e-8612-2f51ddf00776",
   "metadata": {},
   "source": [
    "<p>One of the competitions found was the \"1972 oqt\" which is actually the 1972 Summer Olympics Football Qualifiers.</p>"
   ]
  },
  {
   "cell_type": "code",
   "execution_count": 27,
   "id": "f87576f6",
   "metadata": {},
   "outputs": [
    {
     "data": {
      "text/html": [
       "<div>\n",
       "<style scoped>\n",
       "    .dataframe tbody tr th:only-of-type {\n",
       "        vertical-align: middle;\n",
       "    }\n",
       "\n",
       "    .dataframe tbody tr th {\n",
       "        vertical-align: top;\n",
       "    }\n",
       "\n",
       "    .dataframe thead th {\n",
       "        text-align: right;\n",
       "    }\n",
       "</style>\n",
       "<table border=\"1\" class=\"dataframe\">\n",
       "  <thead>\n",
       "    <tr style=\"text-align: right;\">\n",
       "      <th></th>\n",
       "      <th>competition</th>\n",
       "      <th>date</th>\n",
       "      <th>home_team</th>\n",
       "      <th>scores</th>\n",
       "      <th>away_team</th>\n",
       "      <th>location</th>\n",
       "    </tr>\n",
       "  </thead>\n",
       "  <tbody>\n",
       "    <tr>\n",
       "      <th>114</th>\n",
       "      <td>Summer Olympics qualification</td>\n",
       "      <td>1971-09-25</td>\n",
       "      <td>Philippines</td>\n",
       "      <td>3–0</td>\n",
       "      <td>Taiwan</td>\n",
       "      <td>Seoul, South Korea</td>\n",
       "    </tr>\n",
       "    <tr>\n",
       "      <th>115</th>\n",
       "      <td>Summer Olympics qualification</td>\n",
       "      <td>1971-09-27</td>\n",
       "      <td>Japan</td>\n",
       "      <td>8–1</td>\n",
       "      <td>Philippines</td>\n",
       "      <td>Seoul, South Korea</td>\n",
       "    </tr>\n",
       "    <tr>\n",
       "      <th>116</th>\n",
       "      <td>Summer Olympics qualification</td>\n",
       "      <td>1971-09-29</td>\n",
       "      <td>South Korea</td>\n",
       "      <td>6–0</td>\n",
       "      <td>Philippines</td>\n",
       "      <td>Seoul, South Korea</td>\n",
       "    </tr>\n",
       "    <tr>\n",
       "      <th>117</th>\n",
       "      <td>Summer Olympics qualification</td>\n",
       "      <td>1971-10-02</td>\n",
       "      <td>Malaysia</td>\n",
       "      <td>5–0</td>\n",
       "      <td>Philippines</td>\n",
       "      <td>Seoul, South Korea</td>\n",
       "    </tr>\n",
       "  </tbody>\n",
       "</table>\n",
       "</div>"
      ],
      "text/plain": [
       "                       competition       date    home_team scores  \\\n",
       "114  Summer Olympics qualification 1971-09-25  Philippines    3–0   \n",
       "115  Summer Olympics qualification 1971-09-27        Japan    8–1   \n",
       "116  Summer Olympics qualification 1971-09-29  South Korea    6–0   \n",
       "117  Summer Olympics qualification 1971-10-02     Malaysia    5–0   \n",
       "\n",
       "       away_team            location  \n",
       "114       Taiwan  Seoul, South Korea  \n",
       "115  Philippines  Seoul, South Korea  \n",
       "116  Philippines  Seoul, South Korea  \n",
       "117  Philippines  Seoul, South Korea  "
      ]
     },
     "execution_count": 27,
     "metadata": {},
     "output_type": "execute_result"
    }
   ],
   "source": [
    "# rows with OQT were under the 1972 Summer Olympics football qualification\n",
    "summer_olympics_1972 = df_azkals[\"competition\"].str.contains(\"oqt\")\n",
    "df_azkals.loc[summer_olympics_1972, \"competition\"] = \"Summer Olympics qualification\"\n",
    "df_azkals[summer_olympics_1972]"
   ]
  },
  {
   "cell_type": "code",
   "execution_count": 28,
   "id": "ebaeadb7",
   "metadata": {},
   "outputs": [],
   "source": [
    "# Almost all competitions have years at the start\n",
    "# Strip the years from competitions\n",
    "# comps_with_year = (df_azkals[\"competition\"] != \"Friendly\") & (df_azkals[\"competition\"] != \"Aloha Soccer Festival[3][4]\")\n",
    "# competition_col = df_azkals.columns.get_loc(\"competition\")\n",
    "# for result_index in df_azkals[comps_with_year].index:\n",
    "#     comp = df_azkals.iloc[result_index, competition_col]\n",
    "#     df_azkals.iloc[result_index, competition_col] = comp[5:]"
   ]
  },
  {
   "cell_type": "code",
   "execution_count": 29,
   "id": "3048f679",
   "metadata": {
    "scrolled": true
   },
   "outputs": [],
   "source": [
    "# # Remove uneccesary suffixes\n",
    "# df_azkals[\"competition\"] = df_azkals.loc[:, \"competition\"].str.replace(\" 1st leg\", \"\")\n",
    "# df_azkals[\"competition\"] = df_azkals.loc[:, \"competition\"].str.replace(\" 2nd leg\", \"\")\n",
    "# df_azkals[\"competition\"] = df_azkals.loc[:, \"competition\"].str.replace(\" 3rd place\", \"\")\n",
    "# df_azkals[\"competition\"] = df_azkals.loc[:, \"competition\"].str.replace(\" 11th place\", \"\")\n",
    "# df_azkals[\"competition\"] = df_azkals.loc[:, \"competition\"].str.replace(\" R1\", \"\")\n",
    "# df_azkals[\"competition\"] = df_azkals.loc[:, \"competition\"].str.split(\"[\", n=1).str[0]\n",
    "# df_azkals[\"competition\"] = df_azkals.loc[:, \"competition\"].str.replace(\" GS\", \"\")\n",
    "# df_azkals[\"competition\"] = df_azkals.loc[:, \"competition\"].str.replace(\" SF\", \"\")\n",
    "# df_azkals[\"competition\"] = df_azkals.loc[:, \"competition\"].str.rstrip(\"F\")\n",
    "# df_azkals[\"competition\"] = df_azkals.loc[:, \"competition\"].str.strip()"
   ]
  },
  {
   "cell_type": "markdown",
   "id": "3b6b2bdf",
   "metadata": {},
   "source": [
    "<h3>3.3 Home Team Column</h3>\n",
    "<p>The home team column looks pretty clean with both clubs and national teams. Some teams are from younger age groups of their respective senior teams as shown in suffixes like \"U-23\" or \"U-19\".</p>\n",
    "<p>One specific area that appears to need cleaning are the different names used for Taiwan. As shown below, Taiwan, Republic of China, and Chinese Taipei all appear together. These will all be standardized to Chinese Taipei as that is the name used in international sporting events for political reasons.</p>"
   ]
  },
  {
   "cell_type": "code",
   "execution_count": 30,
   "id": "2f334758",
   "metadata": {
    "scrolled": true
   },
   "outputs": [
    {
     "data": {
      "text/plain": [
       "<StringArray>\n",
       "[          'South China A.A.',                'Philippines',\n",
       "              'South Korea B', 'Universidad de Guadalajara',\n",
       "                  'Guangdong',                 'Malay Mail',\n",
       "             'Rattana Bundit',              'Bangkok Glass',\n",
       "          'Taipei PE College',        'Chinese Taipei U-23',\n",
       "             'Hong Kong U-23',              'Nakhon Pathom',\n",
       "    'Kanto Gakuin University',            'Aachen-Düren XI',\n",
       "                'Bonner U-19',              'Ingolstadt 04',\n",
       "               'Darmstadt 98',                'Bahrain U23',\n",
       "                 'Al Ahli SC',            'Chicago Inferno',\n",
       "                   'Cambodia',                       'Laos',\n",
       "             'Al-Muharraq SC',                    'Vietnam',\n",
       "  'Guangzhou Evergrande (RT)',                 'Kyrgyzstan',\n",
       "                      'China',                      'Japan',\n",
       "          'Republic of China',                  'Manchukuo',\n",
       "                   'Malaysia',                     'Israel',\n",
       "                  'Singapore',             'Khmer Republic',\n",
       "                  'Indonesia',                      'Burma',\n",
       "                  'Hong Kong',                      'India',\n",
       "                   'Thailand',                'South Korea',\n",
       "                    'Lebanon',                     'Taiwan',\n",
       "              'South Vietnam',                     'Brunei',\n",
       "                      'Syria',                 'Bangladesh',\n",
       "                       'Iran',                   'Pakistan',\n",
       "                    'Myanmar',                      'Macau',\n",
       "                      'Qatar',                       'Guam',\n",
       "                       'Oman',             'Chinese Taipei',\n",
       "                   'Maldives',               'Turkmenistan',\n",
       "                 'East Timor',                   'Mongolia',\n",
       "                  'Sri Lanka',                     'Kuwait',\n",
       "                'North Korea',                 'Tajikistan',\n",
       "                    'Bahrain',       'United Arab Emirates',\n",
       "                  'Palestine',                      'Yemen',\n",
       "                 'Uzbekistan',                      'Nepal',\n",
       "                    'Al-Hadd',                     'Jordan',\n",
       "                       'Iraq']\n",
       "Length: 71, dtype: string"
      ]
     },
     "execution_count": 30,
     "metadata": {},
     "output_type": "execute_result"
    }
   ],
   "source": [
    "# Show the different home teams\n",
    "df_azkals[\"home_team\"] = df_azkals[\"home_team\"].astype(\"string\")\n",
    "df_azkals[\"home_team\"].unique()"
   ]
  },
  {
   "cell_type": "code",
   "execution_count": 31,
   "id": "653e09bf-62f1-45a3-9aeb-acdbc44f83b3",
   "metadata": {
    "scrolled": true
   },
   "outputs": [
    {
     "data": {
      "text/html": [
       "<div>\n",
       "<style scoped>\n",
       "    .dataframe tbody tr th:only-of-type {\n",
       "        vertical-align: middle;\n",
       "    }\n",
       "\n",
       "    .dataframe tbody tr th {\n",
       "        vertical-align: top;\n",
       "    }\n",
       "\n",
       "    .dataframe thead th {\n",
       "        text-align: right;\n",
       "    }\n",
       "</style>\n",
       "<table border=\"1\" class=\"dataframe\">\n",
       "  <thead>\n",
       "    <tr style=\"text-align: right;\">\n",
       "      <th></th>\n",
       "      <th>competition</th>\n",
       "      <th>date</th>\n",
       "      <th>home_team</th>\n",
       "      <th>scores</th>\n",
       "      <th>away_team</th>\n",
       "      <th>location</th>\n",
       "    </tr>\n",
       "  </thead>\n",
       "  <tbody>\n",
       "    <tr>\n",
       "      <th>28</th>\n",
       "      <td>friendly</td>\n",
       "      <td>2010-10-03</td>\n",
       "      <td>Chinese Taipei U-23</td>\n",
       "      <td>1–0</td>\n",
       "      <td>Philippines</td>\n",
       "      <td>Tainan, Taiwan</td>\n",
       "    </tr>\n",
       "    <tr>\n",
       "      <th>80</th>\n",
       "      <td>1940 east asian games</td>\n",
       "      <td>1940-06-08</td>\n",
       "      <td>Republic of China</td>\n",
       "      <td>2–1</td>\n",
       "      <td>Philippines</td>\n",
       "      <td>Tokyo, Japan</td>\n",
       "    </tr>\n",
       "    <tr>\n",
       "      <th>120</th>\n",
       "      <td>1968 summer olympics qualification</td>\n",
       "      <td>1967-10-03</td>\n",
       "      <td>Taiwan</td>\n",
       "      <td>7–2</td>\n",
       "      <td>Philippines</td>\n",
       "      <td>Tokyo, Japan</td>\n",
       "    </tr>\n",
       "    <tr>\n",
       "      <th>226</th>\n",
       "      <td>2006 afc challenge cup gs</td>\n",
       "      <td>2006-04-01</td>\n",
       "      <td>Chinese Taipei</td>\n",
       "      <td>1–0</td>\n",
       "      <td>Philippines</td>\n",
       "      <td>Chittagong, Bangladesh</td>\n",
       "    </tr>\n",
       "    <tr>\n",
       "      <th>246</th>\n",
       "      <td>friendly</td>\n",
       "      <td>2010-01-16</td>\n",
       "      <td>Chinese Taipei</td>\n",
       "      <td>0–0</td>\n",
       "      <td>Philippines</td>\n",
       "      <td>Kaohsiung, Taiwan</td>\n",
       "    </tr>\n",
       "    <tr>\n",
       "      <th>247</th>\n",
       "      <td>2010 long teng cup</td>\n",
       "      <td>2010-10-10</td>\n",
       "      <td>Chinese Taipei</td>\n",
       "      <td>1–1</td>\n",
       "      <td>Philippines</td>\n",
       "      <td>Kaohsiung, Taiwan</td>\n",
       "    </tr>\n",
       "    <tr>\n",
       "      <th>267</th>\n",
       "      <td>2011 long teng cup</td>\n",
       "      <td>2011-10-02</td>\n",
       "      <td>Chinese Taipei</td>\n",
       "      <td>0–0</td>\n",
       "      <td>Philippines</td>\n",
       "      <td>Kaohsiung, Taiwan</td>\n",
       "    </tr>\n",
       "    <tr>\n",
       "      <th>347</th>\n",
       "      <td>2017 ctfa international tournament</td>\n",
       "      <td>2017-12-03</td>\n",
       "      <td>Chinese Taipei</td>\n",
       "      <td>3–0</td>\n",
       "      <td>Philippines</td>\n",
       "      <td>Taipei, Taiwan</td>\n",
       "    </tr>\n",
       "    <tr>\n",
       "      <th>396</th>\n",
       "      <td>friendly</td>\n",
       "      <td>2023-09-08</td>\n",
       "      <td>Chinese Taipei</td>\n",
       "      <td>1–1</td>\n",
       "      <td>Philippines</td>\n",
       "      <td>Kaohsiung, Taiwan</td>\n",
       "    </tr>\n",
       "  </tbody>\n",
       "</table>\n",
       "</div>"
      ],
      "text/plain": [
       "                            competition       date            home_team  \\\n",
       "28                             friendly 2010-10-03  Chinese Taipei U-23   \n",
       "80                1940 east asian games 1940-06-08    Republic of China   \n",
       "120  1968 summer olympics qualification 1967-10-03               Taiwan   \n",
       "226           2006 afc challenge cup gs 2006-04-01       Chinese Taipei   \n",
       "246                            friendly 2010-01-16       Chinese Taipei   \n",
       "247                  2010 long teng cup 2010-10-10       Chinese Taipei   \n",
       "267                  2011 long teng cup 2011-10-02       Chinese Taipei   \n",
       "347  2017 ctfa international tournament 2017-12-03       Chinese Taipei   \n",
       "396                            friendly 2023-09-08       Chinese Taipei   \n",
       "\n",
       "    scores    away_team                location  \n",
       "28     1–0  Philippines          Tainan, Taiwan  \n",
       "80     2–1  Philippines            Tokyo, Japan  \n",
       "120    7–2  Philippines            Tokyo, Japan  \n",
       "226    1–0  Philippines  Chittagong, Bangladesh  \n",
       "246    0–0  Philippines       Kaohsiung, Taiwan  \n",
       "247    1–1  Philippines       Kaohsiung, Taiwan  \n",
       "267    0–0  Philippines       Kaohsiung, Taiwan  \n",
       "347    3–0  Philippines          Taipei, Taiwan  \n",
       "396    1–1  Philippines       Kaohsiung, Taiwan  "
      ]
     },
     "execution_count": 31,
     "metadata": {},
     "output_type": "execute_result"
    }
   ],
   "source": [
    "# Display the variations in home_team columns\n",
    "taiwan_home = df_azkals[\"home_team\"].str.contains(\"Taiwan\")\n",
    "roc_home = df_azkals[\"home_team\"].str.contains(\"Republic of China\")\n",
    "taipei_home = df_azkals[\"home_team\"].str.contains(\"Chinese Taipei\")\n",
    "df_azkals[taiwan_home | roc_home | taipei_home]"
   ]
  },
  {
   "cell_type": "code",
   "execution_count": 32,
   "id": "a85b7cbe-e112-4a1e-bade-276887a3768a",
   "metadata": {},
   "outputs": [],
   "source": [
    "# Standardize Chinese Taipei in home_team column\n",
    "df_azkals.loc[taiwan_home | roc_home, \"home_team\"] = \"Chinese Taipei\""
   ]
  },
  {
   "cell_type": "markdown",
   "id": "acc59ade",
   "metadata": {},
   "source": [
    "<h3>3.4 Away Team Column</h3>\n",
    "<p>The data in the away team column is of a similar nature to the home team column.</p>"
   ]
  },
  {
   "cell_type": "code",
   "execution_count": 33,
   "id": "6daffdfd",
   "metadata": {
    "scrolled": true
   },
   "outputs": [
    {
     "data": {
      "text/plain": [
       "<StringArray>\n",
       "[         'Philippines',       'Dallas Tornado',             'Cruzeiro',\n",
       "              'Burma B',             'Sabah FA',           'Malaysia B',\n",
       "         'Russian SFSR',          'South China',          'Taipei Bank',\n",
       "           'Malay Mail',             'Shanghai', 'Woodlands Wellington',\n",
       " 'Royal Thai Air Force',               'Tatung',    'Hong Kong Rangers',\n",
       "    'Sembawang Rangers',           'India U-20',        'UFL All Stars',\n",
       "            'LA Galaxy',      'Inter de Madrid',    'Icheon Citizen FC',\n",
       "      'Uzbekistan U-23',       'Australia U-23',               'Global',\n",
       "       'Perth Glory FC',             'Mongolia',     'Chainat Hornbill',\n",
       "                'China',                'Japan',    'Dutch East Indies',\n",
       "               'Brunei',            'Indonesia',               'Taiwan',\n",
       "             'Thailand',            'Sri Lanka',            'Australia',\n",
       "            'Hong Kong',          'South Korea',        'South Vietnam',\n",
       "             'Malaysia',              'Vietnam',            'Singapore',\n",
       "             'Cambodia',              'Estonia',                 'Laos',\n",
       "                'Syria',                 'Oman',              'Myanmar',\n",
       "           'East Timor',          'Afghanistan',           'Tajikistan',\n",
       "               'Bhutan',                'Macau',            'Palestine',\n",
       "               'Kuwait',                'Nepal',                'India',\n",
       "                 'Guam',       'Chinese Taipei',         'Turkmenistan',\n",
       "             'Pakistan',           'Azerbaijan',     'Papua New Guinea',\n",
       "              'Bahrain',             'Maldives',           'Uzbekistan',\n",
       "                'Yemen',          'North Korea',           'Kyrgyzstan',\n",
       "                 'Fiji',        'PFL All-Stars',                 'Iraq']\n",
       "Length: 72, dtype: string"
      ]
     },
     "execution_count": 33,
     "metadata": {},
     "output_type": "execute_result"
    }
   ],
   "source": [
    "df_azkals[\"away_team\"] = df_azkals[\"away_team\"].astype(\"string\")\n",
    "df_azkals[\"away_team\"].unique()"
   ]
  },
  {
   "cell_type": "code",
   "execution_count": 34,
   "id": "22e6a686-2320-408c-9018-24da46fd4950",
   "metadata": {
    "scrolled": true
   },
   "outputs": [
    {
     "data": {
      "text/html": [
       "<div>\n",
       "<style scoped>\n",
       "    .dataframe tbody tr th:only-of-type {\n",
       "        vertical-align: middle;\n",
       "    }\n",
       "\n",
       "    .dataframe tbody tr th {\n",
       "        vertical-align: top;\n",
       "    }\n",
       "\n",
       "    .dataframe thead th {\n",
       "        text-align: right;\n",
       "    }\n",
       "</style>\n",
       "<table border=\"1\" class=\"dataframe\">\n",
       "  <thead>\n",
       "    <tr style=\"text-align: right;\">\n",
       "      <th></th>\n",
       "      <th>competition</th>\n",
       "      <th>date</th>\n",
       "      <th>home_team</th>\n",
       "      <th>scores</th>\n",
       "      <th>away_team</th>\n",
       "      <th>location</th>\n",
       "    </tr>\n",
       "  </thead>\n",
       "  <tbody>\n",
       "    <tr>\n",
       "      <th>88</th>\n",
       "      <td>aloha soccer festival</td>\n",
       "      <td>1976-04-08</td>\n",
       "      <td>Philippines</td>\n",
       "      <td>1–0</td>\n",
       "      <td>Taiwan</td>\n",
       "      <td>Honolulu, United States</td>\n",
       "    </tr>\n",
       "    <tr>\n",
       "      <th>114</th>\n",
       "      <td>Summer Olympics qualification</td>\n",
       "      <td>1971-09-25</td>\n",
       "      <td>Philippines</td>\n",
       "      <td>3–0</td>\n",
       "      <td>Taiwan</td>\n",
       "      <td>Seoul, South Korea</td>\n",
       "    </tr>\n",
       "    <tr>\n",
       "      <th>124</th>\n",
       "      <td>1960 afc asian cup qualification</td>\n",
       "      <td>1959-03-31</td>\n",
       "      <td>Philippines</td>\n",
       "      <td>4–7</td>\n",
       "      <td>Taiwan</td>\n",
       "      <td>Manila, Philippines</td>\n",
       "    </tr>\n",
       "    <tr>\n",
       "      <th>131</th>\n",
       "      <td>1954 asian games</td>\n",
       "      <td>1954-05-06</td>\n",
       "      <td>Philippines</td>\n",
       "      <td>0–4</td>\n",
       "      <td>Taiwan</td>\n",
       "      <td>Manila, Philippines</td>\n",
       "    </tr>\n",
       "    <tr>\n",
       "      <th>283</th>\n",
       "      <td>2012 philippine peace cup</td>\n",
       "      <td>2012-09-29</td>\n",
       "      <td>Philippines</td>\n",
       "      <td>3–1</td>\n",
       "      <td>Chinese Taipei</td>\n",
       "      <td>Manila, Philippines</td>\n",
       "    </tr>\n",
       "    <tr>\n",
       "      <th>298</th>\n",
       "      <td>2013 philippine peace cup</td>\n",
       "      <td>2013-10-11</td>\n",
       "      <td>Philippines</td>\n",
       "      <td>1–2</td>\n",
       "      <td>Chinese Taipei</td>\n",
       "      <td>Bacolod, Philippines</td>\n",
       "    </tr>\n",
       "    <tr>\n",
       "      <th>311</th>\n",
       "      <td>2014 philippine peace cup sf</td>\n",
       "      <td>2014-09-03</td>\n",
       "      <td>Philippines</td>\n",
       "      <td>5–1</td>\n",
       "      <td>Chinese Taipei</td>\n",
       "      <td>Manila, Philippines</td>\n",
       "    </tr>\n",
       "    <tr>\n",
       "      <th>395</th>\n",
       "      <td>friendly</td>\n",
       "      <td>2023-06-19</td>\n",
       "      <td>Philippines</td>\n",
       "      <td>2–3</td>\n",
       "      <td>Chinese Taipei</td>\n",
       "      <td>Manila, Philippines</td>\n",
       "    </tr>\n",
       "  </tbody>\n",
       "</table>\n",
       "</div>"
      ],
      "text/plain": [
       "                          competition       date    home_team scores  \\\n",
       "88              aloha soccer festival 1976-04-08  Philippines    1–0   \n",
       "114     Summer Olympics qualification 1971-09-25  Philippines    3–0   \n",
       "124  1960 afc asian cup qualification 1959-03-31  Philippines    4–7   \n",
       "131                  1954 asian games 1954-05-06  Philippines    0–4   \n",
       "283         2012 philippine peace cup 2012-09-29  Philippines    3–1   \n",
       "298         2013 philippine peace cup 2013-10-11  Philippines    1–2   \n",
       "311      2014 philippine peace cup sf 2014-09-03  Philippines    5–1   \n",
       "395                          friendly 2023-06-19  Philippines    2–3   \n",
       "\n",
       "          away_team                 location  \n",
       "88           Taiwan  Honolulu, United States  \n",
       "114          Taiwan       Seoul, South Korea  \n",
       "124          Taiwan      Manila, Philippines  \n",
       "131          Taiwan      Manila, Philippines  \n",
       "283  Chinese Taipei      Manila, Philippines  \n",
       "298  Chinese Taipei     Bacolod, Philippines  \n",
       "311  Chinese Taipei      Manila, Philippines  \n",
       "395  Chinese Taipei      Manila, Philippines  "
      ]
     },
     "execution_count": 34,
     "metadata": {},
     "output_type": "execute_result"
    }
   ],
   "source": [
    "# Display the variations in the away_team column\n",
    "taiwan_away = df_azkals[\"away_team\"].str.contains(\"Taiwan\")\n",
    "roc_away = df_azkals[\"away_team\"].str.contains(\"Republic of China\")\n",
    "taipei_away = df_azkals[\"away_team\"].str.contains(\"Chinese Taipei\")\n",
    "df_azkals[taiwan_away | roc_away | taipei_away]"
   ]
  },
  {
   "cell_type": "code",
   "execution_count": 35,
   "id": "e50aca62-896b-4071-8b25-76350b80cdb0",
   "metadata": {},
   "outputs": [],
   "source": [
    "# Standardize Chinese Taipei in home_team column\n",
    "df_azkals.loc[taiwan_away | roc_away, \"away_team\"] = \"Chinese Taipei\""
   ]
  },
  {
   "cell_type": "markdown",
   "id": "3b66a283",
   "metadata": {},
   "source": [
    "<h3>3.5 Scores Column</h3>\n",
    "<p>The scores column is dirty with a extra characters, words, etc. Some scores are not even scores but are about match cancellations. Given that the home and away team goals are grouped together in the same column, aggregations cannot be performed on this column. The goal for this column in data preparation is about cleaning the column enough to easily separate the goals into separate columns in feature creation.</p>"
   ]
  },
  {
   "cell_type": "code",
   "execution_count": 36,
   "id": "22b07172",
   "metadata": {},
   "outputs": [
    {
     "data": {
      "text/plain": [
       "array(['3–1', '2–1', '0–6', '1–1', '2–3', '12–0', '2–0', '0–5', '1–5',\n",
       "       '1–0', '0–0', '1–2', '0–2', '0–1', '0–4', '1–3', '4–2[note 1]',\n",
       "       '8–0', '4–0', '8–1', '3–4', '1–4', '5–0', '1–6', '1–1 (2–4 p)',\n",
       "       '0–3', '0–0[note 2]', '2–1[note 3]', '4–2', '2–15', '3–0abandoned',\n",
       "       '3–0', '7–2', '4–3', '3–2', '4–1', '6–0', '11–0', '2–2', '5–1',\n",
       "       '?', '0–11', '4–4', '15–0', '11–1', '10–0', '0–7', '4–7', '5–2',\n",
       "       '6–1', '7–0', '10–1', '7–1', '0–9', '6–2', '1–1 (3–4 p)', '9–0',\n",
       "       '13–1', '0–1[note 1]', '3–3', 'Cancelled[note 2]', '0–8',\n",
       "       '2–3 (a.e.t.)', '2–5', 'Cancelled'], dtype=object)"
      ]
     },
     "execution_count": 36,
     "metadata": {},
     "output_type": "execute_result"
    }
   ],
   "source": [
    "df_azkals[\"scores\"].unique()"
   ]
  },
  {
   "cell_type": "code",
   "execution_count": 45,
   "id": "04d85f53-bd8e-4837-a7fb-c81fe37bbb83",
   "metadata": {},
   "outputs": [],
   "source": [
    "cancelled_games = df_azkals[\"scores\"].str.contains(\"Cancelled\")\n",
    "df_azkals.drop(df_azkals[cancelled_games].index, inplace=True)\n",
    "df_azkals.reset_index(inplace=True, drop=True)"
   ]
  },
  {
   "cell_type": "markdown",
   "id": "fdf7a723-5bbf-40bd-befd-657186e217c1",
   "metadata": {},
   "source": [
    "<p>Some scores contain penalty scores as well. The penalty scores will be moved to a separate column.</p>\n",
    "<p>The match between the Philippines and the Khmer Republic on August 5, 1972 in the Pesta Sukan Cup will be treated as a 0-0 draw. The match's source lists the score as unknown (Stokkermans & Cruickshank, 2008).</p>"
   ]
  },
  {
   "cell_type": "code",
   "execution_count": 47,
   "id": "5ebc875f-237a-4d3b-8e11-4e253806fb2a",
   "metadata": {},
   "outputs": [
    {
     "data": {
      "text/html": [
       "<div>\n",
       "<style scoped>\n",
       "    .dataframe tbody tr th:only-of-type {\n",
       "        vertical-align: middle;\n",
       "    }\n",
       "\n",
       "    .dataframe tbody tr th {\n",
       "        vertical-align: top;\n",
       "    }\n",
       "\n",
       "    .dataframe thead th {\n",
       "        text-align: right;\n",
       "    }\n",
       "</style>\n",
       "<table border=\"1\" class=\"dataframe\">\n",
       "  <thead>\n",
       "    <tr style=\"text-align: right;\">\n",
       "      <th></th>\n",
       "      <th>competition</th>\n",
       "      <th>date</th>\n",
       "      <th>home_team</th>\n",
       "      <th>scores</th>\n",
       "      <th>away_team</th>\n",
       "      <th>location</th>\n",
       "      <th>penalty_scores</th>\n",
       "    </tr>\n",
       "  </thead>\n",
       "  <tbody>\n",
       "    <tr>\n",
       "      <th>29</th>\n",
       "      <td>2010 long teng cup</td>\n",
       "      <td>2010-10-09</td>\n",
       "      <td>Hong Kong U-23</td>\n",
       "      <td>4–2[note 1]</td>\n",
       "      <td>Philippines</td>\n",
       "      <td>Kaohsiung, Taiwan</td>\n",
       "      <td>&lt;NA&gt;</td>\n",
       "    </tr>\n",
       "    <tr>\n",
       "      <th>42</th>\n",
       "      <td>friendly</td>\n",
       "      <td>2012-01-21</td>\n",
       "      <td>Philippines</td>\n",
       "      <td>1–1 (2–4 p)</td>\n",
       "      <td>Icheon Citizen FC</td>\n",
       "      <td>Manila, Philippines</td>\n",
       "      <td>2–4</td>\n",
       "    </tr>\n",
       "    <tr>\n",
       "      <th>47</th>\n",
       "      <td>friendly</td>\n",
       "      <td>2012-09-05</td>\n",
       "      <td>Cambodia</td>\n",
       "      <td>0–0[note 2]</td>\n",
       "      <td>Philippines</td>\n",
       "      <td>Phnom Penh, Cambodia</td>\n",
       "      <td>&lt;NA&gt;</td>\n",
       "    </tr>\n",
       "    <tr>\n",
       "      <th>48</th>\n",
       "      <td>friendly</td>\n",
       "      <td>2012-09-10</td>\n",
       "      <td>Laos</td>\n",
       "      <td>2–1[note 3]</td>\n",
       "      <td>Philippines</td>\n",
       "      <td>Vientiane, Laos</td>\n",
       "      <td>&lt;NA&gt;</td>\n",
       "    </tr>\n",
       "    <tr>\n",
       "      <th>63</th>\n",
       "      <td>1917 far eastern championship games</td>\n",
       "      <td>1917-05-11</td>\n",
       "      <td>China</td>\n",
       "      <td>3–0abandoned</td>\n",
       "      <td>Philippines</td>\n",
       "      <td>Tokyo, Japan</td>\n",
       "      <td>&lt;NA&gt;</td>\n",
       "    </tr>\n",
       "    <tr>\n",
       "      <th>101</th>\n",
       "      <td>1972 pesta sukan cup</td>\n",
       "      <td>1972-08-05</td>\n",
       "      <td>Khmer Republic</td>\n",
       "      <td>?</td>\n",
       "      <td>Philippines</td>\n",
       "      <td>Singapore</td>\n",
       "      <td>&lt;NA&gt;</td>\n",
       "    </tr>\n",
       "    <tr>\n",
       "      <th>188</th>\n",
       "      <td>1997 president's cup 3rd place</td>\n",
       "      <td>1997-02-23</td>\n",
       "      <td>Philippines</td>\n",
       "      <td>1–1 (3–4 p)</td>\n",
       "      <td>Cambodia</td>\n",
       "      <td>Iloilo City, Philippines</td>\n",
       "      <td>3–4</td>\n",
       "    </tr>\n",
       "    <tr>\n",
       "      <th>255</th>\n",
       "      <td>2010 aff championship sf 1st leg</td>\n",
       "      <td>2010-12-16</td>\n",
       "      <td>Philippines</td>\n",
       "      <td>0–1[note 1]</td>\n",
       "      <td>Indonesia</td>\n",
       "      <td>Jakarta, Indonesia</td>\n",
       "      <td>&lt;NA&gt;</td>\n",
       "    </tr>\n",
       "    <tr>\n",
       "      <th>308</th>\n",
       "      <td>2014 afc challenge cup sf</td>\n",
       "      <td>2014-05-27</td>\n",
       "      <td>Maldives</td>\n",
       "      <td>2–3 (a.e.t.)</td>\n",
       "      <td>Philippines</td>\n",
       "      <td>Malé, Maldives</td>\n",
       "      <td>&lt;NA&gt;</td>\n",
       "    </tr>\n",
       "    <tr>\n",
       "      <th>311</th>\n",
       "      <td>2014 philippine peace cup f</td>\n",
       "      <td>2014-09-06</td>\n",
       "      <td>Philippines</td>\n",
       "      <td>2–3 (a.e.t.)</td>\n",
       "      <td>Myanmar</td>\n",
       "      <td>Manila, Philippines</td>\n",
       "      <td>&lt;NA&gt;</td>\n",
       "    </tr>\n",
       "  </tbody>\n",
       "</table>\n",
       "</div>"
      ],
      "text/plain": [
       "                             competition       date       home_team  \\\n",
       "29                    2010 long teng cup 2010-10-09  Hong Kong U-23   \n",
       "42                              friendly 2012-01-21     Philippines   \n",
       "47                              friendly 2012-09-05        Cambodia   \n",
       "48                              friendly 2012-09-10            Laos   \n",
       "63   1917 far eastern championship games 1917-05-11           China   \n",
       "101                 1972 pesta sukan cup 1972-08-05  Khmer Republic   \n",
       "188       1997 president's cup 3rd place 1997-02-23     Philippines   \n",
       "255     2010 aff championship sf 1st leg 2010-12-16     Philippines   \n",
       "308            2014 afc challenge cup sf 2014-05-27        Maldives   \n",
       "311          2014 philippine peace cup f 2014-09-06     Philippines   \n",
       "\n",
       "           scores          away_team                  location penalty_scores  \n",
       "29    4–2[note 1]        Philippines         Kaohsiung, Taiwan           <NA>  \n",
       "42    1–1 (2–4 p)  Icheon Citizen FC       Manila, Philippines            2–4  \n",
       "47    0–0[note 2]        Philippines      Phnom Penh, Cambodia           <NA>  \n",
       "48    2–1[note 3]        Philippines           Vientiane, Laos           <NA>  \n",
       "63   3–0abandoned        Philippines              Tokyo, Japan           <NA>  \n",
       "101             ?        Philippines                 Singapore           <NA>  \n",
       "188   1–1 (3–4 p)           Cambodia  Iloilo City, Philippines            3–4  \n",
       "255   0–1[note 1]          Indonesia        Jakarta, Indonesia           <NA>  \n",
       "308  2–3 (a.e.t.)        Philippines            Malé, Maldives           <NA>  \n",
       "311  2–3 (a.e.t.)            Myanmar       Manila, Philippines           <NA>  "
      ]
     },
     "execution_count": 47,
     "metadata": {},
     "output_type": "execute_result"
    }
   ],
   "source": [
    "# Inspect faulty scores\n",
    "faulty_scores = (df_azkals[\"scores\"].str.len() > 4) | (df_azkals[\"scores\"].str.len() < 3)\n",
    "df_azkals[faulty_scores]"
   ]
  },
  {
   "cell_type": "code",
   "execution_count": 43,
   "id": "22e88a70",
   "metadata": {},
   "outputs": [
    {
     "data": {
      "text/html": [
       "<div>\n",
       "<style scoped>\n",
       "    .dataframe tbody tr th:only-of-type {\n",
       "        vertical-align: middle;\n",
       "    }\n",
       "\n",
       "    .dataframe tbody tr th {\n",
       "        vertical-align: top;\n",
       "    }\n",
       "\n",
       "    .dataframe thead th {\n",
       "        text-align: right;\n",
       "    }\n",
       "</style>\n",
       "<table border=\"1\" class=\"dataframe\">\n",
       "  <thead>\n",
       "    <tr style=\"text-align: right;\">\n",
       "      <th></th>\n",
       "      <th>competition</th>\n",
       "      <th>date</th>\n",
       "      <th>home_team</th>\n",
       "      <th>scores</th>\n",
       "      <th>away_team</th>\n",
       "      <th>location</th>\n",
       "      <th>penalty_scores</th>\n",
       "    </tr>\n",
       "  </thead>\n",
       "  <tbody>\n",
       "    <tr>\n",
       "      <th>42</th>\n",
       "      <td>friendly</td>\n",
       "      <td>2012-01-21</td>\n",
       "      <td>Philippines</td>\n",
       "      <td>1–1 (2–4 p)</td>\n",
       "      <td>Icheon Citizen FC</td>\n",
       "      <td>Manila, Philippines</td>\n",
       "      <td>2–4</td>\n",
       "    </tr>\n",
       "    <tr>\n",
       "      <th>188</th>\n",
       "      <td>1997 president's cup 3rd place</td>\n",
       "      <td>1997-02-23</td>\n",
       "      <td>Philippines</td>\n",
       "      <td>1–1 (3–4 p)</td>\n",
       "      <td>Cambodia</td>\n",
       "      <td>Iloilo City, Philippines</td>\n",
       "      <td>3–4</td>\n",
       "    </tr>\n",
       "  </tbody>\n",
       "</table>\n",
       "</div>"
      ],
      "text/plain": [
       "                        competition       date    home_team       scores  \\\n",
       "42                         friendly 2012-01-21  Philippines  1–1 (2–4 p)   \n",
       "188  1997 president's cup 3rd place 1997-02-23  Philippines  1–1 (3–4 p)   \n",
       "\n",
       "             away_team                  location penalty_scores  \n",
       "42   Icheon Citizen FC       Manila, Philippines            2–4  \n",
       "188           Cambodia  Iloilo City, Philippines            3–4  "
      ]
     },
     "execution_count": 43,
     "metadata": {},
     "output_type": "execute_result"
    }
   ],
   "source": [
    "# Create a column for penalty scores to represent these matches\n",
    "df_azkals[\"penalty_scores\"] = np.nan\n",
    "df_azkals[\"penalty_scores\"] = df_azkals[\"penalty_scores\"].astype(\"string\")\n",
    "\n",
    "# Move penalty scores to its own column\n",
    "penalties = df_azkals[\"scores\"].str.contains(\"p\")\n",
    "penalty_results = df_azkals[penalties][\"scores\"].str[5:8]\n",
    "df_azkals.loc[penalties, \"penalty_scores\"] = penalty_results\n",
    "df_azkals[penalties]"
   ]
  },
  {
   "cell_type": "code",
   "execution_count": 49,
   "id": "48bd3d6e-4ad3-46b1-88e0-6b79016fcda4",
   "metadata": {},
   "outputs": [
    {
     "data": {
      "text/html": [
       "<div>\n",
       "<style scoped>\n",
       "    .dataframe tbody tr th:only-of-type {\n",
       "        vertical-align: middle;\n",
       "    }\n",
       "\n",
       "    .dataframe tbody tr th {\n",
       "        vertical-align: top;\n",
       "    }\n",
       "\n",
       "    .dataframe thead th {\n",
       "        text-align: right;\n",
       "    }\n",
       "</style>\n",
       "<table border=\"1\" class=\"dataframe\">\n",
       "  <thead>\n",
       "    <tr style=\"text-align: right;\">\n",
       "      <th></th>\n",
       "      <th>competition</th>\n",
       "      <th>date</th>\n",
       "      <th>home_team</th>\n",
       "      <th>scores</th>\n",
       "      <th>away_team</th>\n",
       "      <th>location</th>\n",
       "      <th>penalty_scores</th>\n",
       "    </tr>\n",
       "  </thead>\n",
       "  <tbody>\n",
       "    <tr>\n",
       "      <th>29</th>\n",
       "      <td>2010 long teng cup</td>\n",
       "      <td>2010-10-09</td>\n",
       "      <td>Hong Kong U-23</td>\n",
       "      <td>4–2</td>\n",
       "      <td>Philippines</td>\n",
       "      <td>Kaohsiung, Taiwan</td>\n",
       "      <td>&lt;NA&gt;</td>\n",
       "    </tr>\n",
       "    <tr>\n",
       "      <th>42</th>\n",
       "      <td>friendly</td>\n",
       "      <td>2012-01-21</td>\n",
       "      <td>Philippines</td>\n",
       "      <td>1–1</td>\n",
       "      <td>Icheon Citizen FC</td>\n",
       "      <td>Manila, Philippines</td>\n",
       "      <td>2–4</td>\n",
       "    </tr>\n",
       "    <tr>\n",
       "      <th>47</th>\n",
       "      <td>friendly</td>\n",
       "      <td>2012-09-05</td>\n",
       "      <td>Cambodia</td>\n",
       "      <td>0–0</td>\n",
       "      <td>Philippines</td>\n",
       "      <td>Phnom Penh, Cambodia</td>\n",
       "      <td>&lt;NA&gt;</td>\n",
       "    </tr>\n",
       "    <tr>\n",
       "      <th>48</th>\n",
       "      <td>friendly</td>\n",
       "      <td>2012-09-10</td>\n",
       "      <td>Laos</td>\n",
       "      <td>2–1</td>\n",
       "      <td>Philippines</td>\n",
       "      <td>Vientiane, Laos</td>\n",
       "      <td>&lt;NA&gt;</td>\n",
       "    </tr>\n",
       "    <tr>\n",
       "      <th>63</th>\n",
       "      <td>1917 far eastern championship games</td>\n",
       "      <td>1917-05-11</td>\n",
       "      <td>China</td>\n",
       "      <td>3–0</td>\n",
       "      <td>Philippines</td>\n",
       "      <td>Tokyo, Japan</td>\n",
       "      <td>&lt;NA&gt;</td>\n",
       "    </tr>\n",
       "    <tr>\n",
       "      <th>101</th>\n",
       "      <td>1972 pesta sukan cup</td>\n",
       "      <td>1972-08-05</td>\n",
       "      <td>Khmer Republic</td>\n",
       "      <td>0–0</td>\n",
       "      <td>Philippines</td>\n",
       "      <td>Singapore</td>\n",
       "      <td>&lt;NA&gt;</td>\n",
       "    </tr>\n",
       "    <tr>\n",
       "      <th>188</th>\n",
       "      <td>1997 president's cup 3rd place</td>\n",
       "      <td>1997-02-23</td>\n",
       "      <td>Philippines</td>\n",
       "      <td>1–1</td>\n",
       "      <td>Cambodia</td>\n",
       "      <td>Iloilo City, Philippines</td>\n",
       "      <td>3–4</td>\n",
       "    </tr>\n",
       "    <tr>\n",
       "      <th>255</th>\n",
       "      <td>2010 aff championship sf 1st leg</td>\n",
       "      <td>2010-12-16</td>\n",
       "      <td>Philippines</td>\n",
       "      <td>0–1</td>\n",
       "      <td>Indonesia</td>\n",
       "      <td>Jakarta, Indonesia</td>\n",
       "      <td>&lt;NA&gt;</td>\n",
       "    </tr>\n",
       "    <tr>\n",
       "      <th>308</th>\n",
       "      <td>2014 afc challenge cup sf</td>\n",
       "      <td>2014-05-27</td>\n",
       "      <td>Maldives</td>\n",
       "      <td>2–3</td>\n",
       "      <td>Philippines</td>\n",
       "      <td>Malé, Maldives</td>\n",
       "      <td>&lt;NA&gt;</td>\n",
       "    </tr>\n",
       "    <tr>\n",
       "      <th>311</th>\n",
       "      <td>2014 philippine peace cup f</td>\n",
       "      <td>2014-09-06</td>\n",
       "      <td>Philippines</td>\n",
       "      <td>2–3</td>\n",
       "      <td>Myanmar</td>\n",
       "      <td>Manila, Philippines</td>\n",
       "      <td>&lt;NA&gt;</td>\n",
       "    </tr>\n",
       "  </tbody>\n",
       "</table>\n",
       "</div>"
      ],
      "text/plain": [
       "                             competition       date       home_team scores  \\\n",
       "29                    2010 long teng cup 2010-10-09  Hong Kong U-23    4–2   \n",
       "42                              friendly 2012-01-21     Philippines    1–1   \n",
       "47                              friendly 2012-09-05        Cambodia    0–0   \n",
       "48                              friendly 2012-09-10            Laos    2–1   \n",
       "63   1917 far eastern championship games 1917-05-11           China    3–0   \n",
       "101                 1972 pesta sukan cup 1972-08-05  Khmer Republic    0–0   \n",
       "188       1997 president's cup 3rd place 1997-02-23     Philippines    1–1   \n",
       "255     2010 aff championship sf 1st leg 2010-12-16     Philippines    0–1   \n",
       "308            2014 afc challenge cup sf 2014-05-27        Maldives    2–3   \n",
       "311          2014 philippine peace cup f 2014-09-06     Philippines    2–3   \n",
       "\n",
       "             away_team                  location penalty_scores  \n",
       "29         Philippines         Kaohsiung, Taiwan           <NA>  \n",
       "42   Icheon Citizen FC       Manila, Philippines            2–4  \n",
       "47         Philippines      Phnom Penh, Cambodia           <NA>  \n",
       "48         Philippines           Vientiane, Laos           <NA>  \n",
       "63         Philippines              Tokyo, Japan           <NA>  \n",
       "101        Philippines                 Singapore           <NA>  \n",
       "188           Cambodia  Iloilo City, Philippines            3–4  \n",
       "255          Indonesia        Jakarta, Indonesia           <NA>  \n",
       "308        Philippines            Malé, Maldives           <NA>  \n",
       "311            Myanmar       Manila, Philippines           <NA>  "
      ]
     },
     "execution_count": 49,
     "metadata": {},
     "output_type": "execute_result"
    }
   ],
   "source": [
    "# Correct the faulty scores\n",
    "correct_scores =  [\"4–2\", \"1–1\", \"0–0\", \"2–1\", \"3–0\", \"0–0\", \"1–1\", \"0–1\", \"2–3\", \"2–3\"]\n",
    "df_azkals.loc[faulty_scores, \"scores\"] = correct_scores\n",
    "df_azkals[faulty_scores]"
   ]
  },
  {
   "cell_type": "markdown",
   "id": "599a100a",
   "metadata": {},
   "source": [
    "## Location Column"
   ]
  },
  {
   "cell_type": "markdown",
   "id": "dc6537d7-3940-41a7-a939-dcf433fa37fd",
   "metadata": {},
   "source": [
    "<h3>3.6 Location Column</h3>\n",
    "The location column is mostly clean with a few small corrections."
   ]
  },
  {
   "cell_type": "code",
   "execution_count": 52,
   "id": "3fa00e40",
   "metadata": {
    "scrolled": true
   },
   "outputs": [
    {
     "data": {
      "text/plain": [
       "<StringArray>\n",
       "[                'Shanghai, China',             'Manila, Philippines',\n",
       "                         'Jakarta',                  'Ipoh, Malaysia',\n",
       "              'Jakarta, Indonesia',            'Bacolod, Philippines',\n",
       "        'Iloilo City, Philippines',          'Chittagong, Bangladesh',\n",
       "               'Bangkok, Thailand',               'Kaohsiung, Taiwan',\n",
       "                  'Tainan, Taiwan',         'Nakhon Pathom, Thailand',\n",
       "                  'Gotemba, Japan',             'Makati, Philippines',\n",
       "                  'Düren, Germany',                 'Alfter, Germany',\n",
       "             'Ingolstadt, Germany',              'Darmstadt, Germany',\n",
       "                  'Riffa, Bahrain',                   'Arad, Bahrain',\n",
       "     'Dubai, United Arab Emirates',                     'Doha, Qatar',\n",
       "      'Wheaton, United States[26]',            'Phnom Penh, Cambodia',\n",
       "                 'Vientiane, Laos',             'Bantay, Philippines',\n",
       "               'Imus, Philippines',                'Guangzhou, China',\n",
       "                 'Manama, Bahrain',                    'Tokyo, Japan',\n",
       "                    'Osaka, Japan',                           'Japan',\n",
       "              'Nishinomiya, Japan',          'Kuala Lumpur, Malaysia',\n",
       "         'Honolulu, United States',                    'Tehran, Iran',\n",
       "              'Kallang, Singapore',                       'Singapore',\n",
       "              'Seoul, South Korea',                     'South Korea',\n",
       "      'Kuala Terengganu, Malaysia',               'British Hong Kong',\n",
       "                 'Solo, Indonesia',                       'Hong Kong',\n",
       "               'Lamphun, Thailand',            'Chiang Mai, Thailand',\n",
       "       'Ho Chi Minh City, Vietnam',     'Bandar Seri Begawan, Brunei',\n",
       "                 'Beirut, Lebanon',                   'Aleppo, Syria',\n",
       "                    'Muscat, Oman',              'Pasig, Philippines',\n",
       "              'Chonburi, Thailand',      'Barotac Nuevo, Philippines',\n",
       "                  'Malé, Maldives',                  'Hanoi, Vietnam',\n",
       "               'Nam Định, Vietnam',           'Ulan Baatar, Mongolia',\n",
       "                 'Yangon, Myanmar',              'Colombo, Sri Lanka',\n",
       "                 'Hawally, Kuwait',                'Kathmandu, Nepal',\n",
       "             'Shah Alam, Malaysia',             'Kuwait City, Kuwait',\n",
       "               'Cebu, Philippines',            'Surakarta, Indonesia',\n",
       " 'Abu Dhabi, United Arab Emirates',                 'Siliguri, India',\n",
       "              'Selayang, Malaysia',             'Addu City, Maldives',\n",
       "     'Nakhon Ratchasima, Thailand',             'Bocaue, Philippines',\n",
       "          'Pyongyang, North Korea',            'Tashkent, Uzbekistan',\n",
       "             'Bishkek, Kyrgyzstan',            'Dushanbe, Tajikistan',\n",
       "                'Al Wakrah, Qatar',                 'Lalitpur, Nepal',\n",
       "                  'Taipei, Taiwan',                         'Bahrain',\n",
       "              'Sylhet, Bangladesh',         \"Cox's Bazar, Bangladesh\",\n",
       "                'Al Rayyan, Qatar',                    'Dededo, Guam',\n",
       "   'Sharjah, United Arab Emirates',               'Bishan, Singapore',\n",
       "              'Biñan, Philippines',           'Ulaanbaatar, Mongolia',\n",
       "                 'Bali, Indonesia',          'Pathum Thani, Thailand',\n",
       "                     'Basra, Iraq']\n",
       "Length: 91, dtype: string"
      ]
     },
     "execution_count": 52,
     "metadata": {},
     "output_type": "execute_result"
    }
   ],
   "source": [
    "df_azkals[\"location\"] = df_azkals[\"location\"].astype(\"string\")\n",
    "df_azkals[\"location\"].unique()"
   ]
  },
  {
   "cell_type": "code",
   "execution_count": 53,
   "id": "ce49589f",
   "metadata": {
    "scrolled": true
   },
   "outputs": [],
   "source": [
    "# Complete and correct a few different locations\n",
    "matches_jakarta = df_azkals[\"location\"] == \"Jakarta\"\n",
    "df_azkals.loc[matches_jakarta, \"location\"] = \"Jakarta, Indonesia\"\n",
    "\n",
    "matches_wheaton = df_azkals[\"location\"] == \"Wheaton, United States[26]\"\n",
    "df_azkals.loc[matches_wheaton, \"location\"] = \"Wheaton, United States\"\n",
    "\n",
    "matches_bahrain = df_azkals[\"location\"] == \"Bahrain\"\n",
    "df_azkals.loc[matches_bahrain, \"location\"] = \"Al-Hidd, Bahrain\"\n",
    "df_azkals.loc[matches_bahrain, \"home_team\"] = \"Al-Hidd Club\"        # Based on article, the team's actual name is Al-Hidd"
   ]
  },
  {
   "cell_type": "code",
   "execution_count": 55,
   "id": "e42b22b9-b2bd-423c-9ac7-759cb0bdae31",
   "metadata": {
    "scrolled": true
   },
   "outputs": [
    {
     "data": {
      "text/plain": [
       "<StringArray>\n",
       "[                'Shanghai, China',             'Manila, Philippines',\n",
       "              'Jakarta, Indonesia',                  'Ipoh, Malaysia',\n",
       "            'Bacolod, Philippines',        'Iloilo City, Philippines',\n",
       "          'Chittagong, Bangladesh',               'Bangkok, Thailand',\n",
       "               'Kaohsiung, Taiwan',                  'Tainan, Taiwan',\n",
       "         'Nakhon Pathom, Thailand',                  'Gotemba, Japan',\n",
       "             'Makati, Philippines',                  'Düren, Germany',\n",
       "                 'Alfter, Germany',             'Ingolstadt, Germany',\n",
       "              'Darmstadt, Germany',                  'Riffa, Bahrain',\n",
       "                   'Arad, Bahrain',     'Dubai, United Arab Emirates',\n",
       "                     'Doha, Qatar',          'Wheaton, United States',\n",
       "            'Phnom Penh, Cambodia',                 'Vientiane, Laos',\n",
       "             'Bantay, Philippines',               'Imus, Philippines',\n",
       "                'Guangzhou, China',                 'Manama, Bahrain',\n",
       "                    'Tokyo, Japan',                    'Osaka, Japan',\n",
       "                           'Japan',              'Nishinomiya, Japan',\n",
       "          'Kuala Lumpur, Malaysia',         'Honolulu, United States',\n",
       "                    'Tehran, Iran',              'Kallang, Singapore',\n",
       "                       'Singapore',              'Seoul, South Korea',\n",
       "                     'South Korea',      'Kuala Terengganu, Malaysia',\n",
       "               'British Hong Kong',                 'Solo, Indonesia',\n",
       "                       'Hong Kong',               'Lamphun, Thailand',\n",
       "            'Chiang Mai, Thailand',       'Ho Chi Minh City, Vietnam',\n",
       "     'Bandar Seri Begawan, Brunei',                 'Beirut, Lebanon',\n",
       "                   'Aleppo, Syria',                    'Muscat, Oman',\n",
       "              'Pasig, Philippines',              'Chonburi, Thailand',\n",
       "      'Barotac Nuevo, Philippines',                  'Malé, Maldives',\n",
       "                  'Hanoi, Vietnam',               'Nam Định, Vietnam',\n",
       "           'Ulan Baatar, Mongolia',                 'Yangon, Myanmar',\n",
       "              'Colombo, Sri Lanka',                 'Hawally, Kuwait',\n",
       "                'Kathmandu, Nepal',             'Shah Alam, Malaysia',\n",
       "             'Kuwait City, Kuwait',               'Cebu, Philippines',\n",
       "            'Surakarta, Indonesia', 'Abu Dhabi, United Arab Emirates',\n",
       "                 'Siliguri, India',              'Selayang, Malaysia',\n",
       "             'Addu City, Maldives',     'Nakhon Ratchasima, Thailand',\n",
       "             'Bocaue, Philippines',          'Pyongyang, North Korea',\n",
       "            'Tashkent, Uzbekistan',             'Bishkek, Kyrgyzstan',\n",
       "            'Dushanbe, Tajikistan',                'Al Wakrah, Qatar',\n",
       "                 'Lalitpur, Nepal',                  'Taipei, Taiwan',\n",
       "                'Al-Hidd, Bahrain',              'Sylhet, Bangladesh',\n",
       "         \"Cox's Bazar, Bangladesh\",                'Al Rayyan, Qatar',\n",
       "                    'Dededo, Guam',   'Sharjah, United Arab Emirates',\n",
       "               'Bishan, Singapore',              'Biñan, Philippines',\n",
       "           'Ulaanbaatar, Mongolia',                 'Bali, Indonesia',\n",
       "          'Pathum Thani, Thailand',                     'Basra, Iraq']\n",
       "Length: 90, dtype: string"
      ]
     },
     "execution_count": 55,
     "metadata": {},
     "output_type": "execute_result"
    }
   ],
   "source": [
    "df_azkals[\"location\"].unique()"
   ]
  },
  {
   "cell_type": "markdown",
   "id": "9f2623da-c31c-4527-b599-86dbb5c89a84",
   "metadata": {},
   "source": [
    "<h3>Summary</h3>\n",
    "<p>As shown below, most columns have been converted to another datatype. The prior section focused mostly on basic data cleaning. More features can be generated to better understand the Philippine Football Team's performance.</p>"
   ]
  },
  {
   "cell_type": "code",
   "execution_count": 56,
   "id": "0c397450",
   "metadata": {
    "scrolled": true
   },
   "outputs": [
    {
     "name": "stdout",
     "output_type": "stream",
     "text": [
      "<class 'pandas.core.frame.DataFrame'>\n",
      "RangeIndex: 403 entries, 0 to 402\n",
      "Data columns (total 7 columns):\n",
      " #   Column          Non-Null Count  Dtype         \n",
      "---  ------          --------------  -----         \n",
      " 0   competition     403 non-null    string        \n",
      " 1   date            403 non-null    datetime64[ns]\n",
      " 2   home_team       403 non-null    string        \n",
      " 3   scores          403 non-null    object        \n",
      " 4   away_team       403 non-null    string        \n",
      " 5   location        403 non-null    string        \n",
      " 6   penalty_scores  2 non-null      string        \n",
      "dtypes: datetime64[ns](1), object(1), string(5)\n",
      "memory usage: 22.2+ KB\n"
     ]
    }
   ],
   "source": [
    "# Show dataframe information after cleaning.\n",
    "df_azkals.info()"
   ]
  },
  {
   "cell_type": "markdown",
   "id": "fadca3e3-12e6-4f07-bdcd-3ce997b5eba2",
   "metadata": {},
   "source": [
    "<h1 style=\"fontweight: bold;\">CLEANED UP TO THIS POINT</h1>"
   ]
  },
  {
   "cell_type": "markdown",
   "id": "46609612",
   "metadata": {},
   "source": [
    "<h2>4. Feature Creation</h2>\n",
    "<ul>\n",
    "    <li>Philippines result column to represent a win, loss, or draw</li>\n",
    "    <li>Philippines' score and opponent's score Column to separate the scores of teams</li>\n",
    "    <li>Goal difference column to see by how many goals the Philippines won or loss</li>\n",
    "    <li>Home game column to represent if a game is home or away (home meaning the game is played in the Philippines)</li>\n",
    "    <li>Sporting event column to show a series of partiticpation in a particular competition</li>\n",
    "</ul>\n",
    "\n",
    "\n",
    "\n"
   ]
  },
  {
   "cell_type": "code",
   "execution_count": 31,
   "id": "37c7870e",
   "metadata": {},
   "outputs": [],
   "source": [
    "# Initialize additional columns\n",
    "df_azkals[\"opponent\"] = np.nan\n",
    "df_azkals[\"opponent\"] = df_azkals[\"opponent\"].astype(\"string\")\n",
    "\n",
    "df_azkals[\"match_status\"] = np.nan\n",
    "df_azkals[\"match_status\"] = df_azkals[\"match_status\"].astype(\"string\")\n",
    "\n",
    "df_azkals[\"ph_goal\"] = 0\n",
    "df_azkals[\"opp_goal\"] = 0\n",
    "\n",
    "df_azkals[\"goal_difference\"] = 0\n",
    "df_azkals[\"ph_pen_goals\"] = 0\n",
    "df_azkals[\"opp_pen_goals\"] = 0\n",
    "\n",
    "df_azkals[\"home_game\"] = False\n",
    "df_azkals[\"home_game\"] = df_azkals[\"home_game\"].astype(\"bool\")"
   ]
  },
  {
   "cell_type": "code",
   "execution_count": 32,
   "id": "b7e47b8a",
   "metadata": {},
   "outputs": [
    {
     "name": "stdout",
     "output_type": "stream",
     "text": [
      "<class 'pandas.core.frame.DataFrame'>\n",
      "RangeIndex: 401 entries, 0 to 400\n",
      "Data columns (total 15 columns):\n",
      " #   Column           Non-Null Count  Dtype         \n",
      "---  ------           --------------  -----         \n",
      " 0   competition      401 non-null    object        \n",
      " 1   date             399 non-null    datetime64[ns]\n",
      " 2   home_team        401 non-null    string        \n",
      " 3   scores           401 non-null    object        \n",
      " 4   away_team        401 non-null    string        \n",
      " 5   location         401 non-null    string        \n",
      " 6   penalty_scores   2 non-null      object        \n",
      " 7   opponent         0 non-null      string        \n",
      " 8   match_status     0 non-null      string        \n",
      " 9   ph_goal          401 non-null    int64         \n",
      " 10  opp_goal         401 non-null    int64         \n",
      " 11  goal_difference  401 non-null    int64         \n",
      " 12  ph_pen_goals     401 non-null    int64         \n",
      " 13  opp_pen_goals    401 non-null    int64         \n",
      " 14  home_game        401 non-null    bool          \n",
      "dtypes: bool(1), datetime64[ns](1), int64(5), object(3), string(5)\n",
      "memory usage: 44.4+ KB\n"
     ]
    }
   ],
   "source": [
    "df_azkals.info()"
   ]
  },
  {
   "cell_type": "code",
   "execution_count": 33,
   "id": "0920c1a3",
   "metadata": {},
   "outputs": [],
   "source": [
    "# split the scores into separate goals per team as they are together in one column\n",
    "goals = df_azkals[\"scores\"].str.split(\"–\")\n",
    "\n",
    "# iterate through the dataframe and arrange \n",
    "for result_index in df_azkals.index:\n",
    "    \n",
    "    # Create variables for column indeces for easier readability when using iloc\n",
    "    home_team_col = df_azkals.columns.get_loc(\"home_team\")\n",
    "    away_team_col = df_azkals.columns.get_loc(\"away_team\")\n",
    "    match_status_col = df_azkals.columns.get_loc(\"match_status\")\n",
    "    opp_col = df_azkals.columns.get_loc(\"opponent\")\n",
    "    phil_goal_col = df_azkals.columns.get_loc(\"ph_goal\")\n",
    "    opp_goal_col = df_azkals.columns.get_loc(\"opp_goal\")\n",
    "    goal_diff_col = df_azkals.columns.get_loc(\"goal_difference\")\n",
    "    phil_pen_goals_col = df_azkals.columns.get_loc(\"ph_pen_goals\")\n",
    "    opp_pen_goals_col = df_azkals.columns.get_loc(\"opp_pen_goals\")\n",
    "\n",
    "    # Place teams and goals into their respective lists by the order they first appear in the dataframe\n",
    "    # From left to right, teams and their goals are shown sequentially\n",
    "    teams = [df_azkals.iloc[result_index, home_team_col], df_azkals.iloc[result_index, away_team_col]]\n",
    "    goals_per_team = [goals.iloc[result_index][0], goals.iloc[result_index][1]]\n",
    "    \n",
    "    # Place the opponents in one column and place the goals by team in their respective columns\n",
    "    if teams[0] == \"Philippines\":\n",
    "        df_azkals.iloc[result_index, opp_col] = teams[1]\n",
    "        df_azkals.iloc[result_index, opp_goal_col] = int(goals_per_team[1])\n",
    "        df_azkals.iloc[result_index, phil_goal_col] = int(goals_per_team[0])\n",
    "    else:\n",
    "        df_azkals.iloc[result_index, opp_col] = teams[0]\n",
    "        df_azkals.iloc[result_index, opp_goal_col] = int(goals_per_team[0])\n",
    "        df_azkals.iloc[result_index, phil_goal_col] = int(goals_per_team[1])\n",
    "        \n",
    "    # Determine the match status for the Philippines based on the number of goals\n",
    "    ph_score = df_azkals.iloc[result_index, phil_goal_col]\n",
    "    opp_score = df_azkals.iloc[result_index, opp_goal_col]\n",
    "    pen_score_col = df_azkals.columns.get_loc(\"penalty_scores\")\n",
    "    if ph_score > opp_score:\n",
    "        df_azkals.iloc[result_index, match_status_col] = \"Win\"\n",
    "    elif ph_score < opp_score:\n",
    "        df_azkals.iloc[result_index, match_status_col] = \"Loss\"\n",
    "    elif ph_score == opp_score:      \n",
    "        if pd.isnull(df_azkals.iloc[result_index, pen_score_col]):        \n",
    "            df_azkals.iloc[result_index, match_status_col] = \"Draw\"\n",
    "        else: #if ~pd.isnull(df_azkals.iloc[result_index, pen_score_col]):\n",
    "            pen_goals = df_azkals.iloc[result_index, pen_score_col].split(\"–\")\n",
    "            if teams[0] == \"Philippines\":\n",
    "                df_azkals.iloc[result_index, phil_pen_goals_col] = int(pen_goals[0])\n",
    "                df_azkals.iloc[result_index, opp_pen_goals_col] = int(pen_goals[1])\n",
    "            else:\n",
    "                df_azkals.iloc[result_index, phil_pen_goals_col] = int(pen_goals[1])\n",
    "                df_azkals.iloc[result_index, opp_pen_goals_col] = int(pen_goals[0])\n",
    "            # Determines match status based on the results of a penalty shootout \n",
    "            if df_azkals.iloc[result_index, phil_pen_goals_col] > df_azkals.iloc[result_index, opp_pen_goals_col]:\n",
    "                df_azkals.iloc[result_index, match_status_col] = \"Win\"\n",
    "            else:\n",
    "                df_azkals.iloc[result_index, match_status_col] = \"Loss\"\n",
    "\n",
    "    # Determine the goal difference per game\n",
    "    df_azkals.iloc[result_index, goal_diff_col] = int(ph_score) - int(opp_score)\n",
    "                "
   ]
  },
  {
   "cell_type": "code",
   "execution_count": 34,
   "id": "6036b416",
   "metadata": {
    "scrolled": true
   },
   "outputs": [
    {
     "data": {
      "text/plain": [
       "Loss    238\n",
       "Win     102\n",
       "Draw     61\n",
       "Name: match_status, dtype: Int64"
      ]
     },
     "execution_count": 34,
     "metadata": {},
     "output_type": "execute_result"
    }
   ],
   "source": [
    "df_azkals[\"match_status\"].value_counts()"
   ]
  },
  {
   "cell_type": "code",
   "execution_count": 48,
   "id": "86aebd5a",
   "metadata": {},
   "outputs": [
    {
     "data": {
      "text/plain": [
       "0.2543640897755611"
      ]
     },
     "execution_count": 48,
     "metadata": {},
     "output_type": "execute_result"
    }
   ],
   "source": [
    "102/(238+102+61)"
   ]
  },
  {
   "cell_type": "code",
   "execution_count": 44,
   "id": "4cdb56a9",
   "metadata": {
    "scrolled": true
   },
   "outputs": [
    {
     "data": {
      "text/plain": [
       "Loss    102\n",
       "Win      76\n",
       "Draw     46\n",
       "Name: match_status, dtype: int64"
      ]
     },
     "execution_count": 44,
     "metadata": {},
     "output_type": "execute_result"
    }
   ],
   "source": [
    "df_azkals[df_azkals[\"date\"].dt.year > 2000][\"match_status\"].value_counts()"
   ]
  },
  {
   "cell_type": "code",
   "execution_count": 46,
   "id": "8af787ce",
   "metadata": {},
   "outputs": [
    {
     "data": {
      "text/plain": [
       "0.3392857142857143"
      ]
     },
     "execution_count": 46,
     "metadata": {},
     "output_type": "execute_result"
    }
   ],
   "source": [
    "76/(102 + 76 + 46)"
   ]
  },
  {
   "cell_type": "code",
   "execution_count": 45,
   "id": "d59e82d2",
   "metadata": {},
   "outputs": [
    {
     "data": {
      "text/plain": [
       "Loss    88\n",
       "Win     75\n",
       "Draw    45\n",
       "Name: match_status, dtype: int64"
      ]
     },
     "execution_count": 45,
     "metadata": {},
     "output_type": "execute_result"
    }
   ],
   "source": [
    "df_azkals[df_azkals[\"date\"].dt.year > 2005][\"match_status\"].value_counts()"
   ]
  },
  {
   "cell_type": "code",
   "execution_count": 47,
   "id": "dfeeaf28",
   "metadata": {},
   "outputs": [
    {
     "data": {
      "text/plain": [
       "0.3605769230769231"
      ]
     },
     "execution_count": 47,
     "metadata": {},
     "output_type": "execute_result"
    }
   ],
   "source": [
    "75/(88+75+45)"
   ]
  },
  {
   "cell_type": "code",
   "execution_count": 42,
   "id": "f5c65304",
   "metadata": {},
   "outputs": [
    {
     "data": {
      "text/plain": [
       "0     1915-01-01\n",
       "1     1968-01-06\n",
       "2     1972-02-12\n",
       "3     1972-06-06\n",
       "4     1972-07-23\n",
       "         ...    \n",
       "396   2023-09-08\n",
       "397   2023-09-12\n",
       "398   2023-10-17\n",
       "399   2023-11-16\n",
       "400   2023-11-21\n",
       "Name: date, Length: 401, dtype: datetime64[ns]"
      ]
     },
     "execution_count": 42,
     "metadata": {},
     "output_type": "execute_result"
    }
   ],
   "source": [
    "df_azkals[\"date\"].year"
   ]
  },
  {
   "cell_type": "code",
   "execution_count": 35,
   "id": "d389e70f",
   "metadata": {},
   "outputs": [
    {
     "data": {
      "text/plain": [
       "Index(['competition', 'date', 'home_team', 'scores', 'away_team', 'location',\n",
       "       'penalty_scores', 'opponent', 'match_status', 'ph_goal', 'opp_goal',\n",
       "       'goal_difference', 'ph_pen_goals', 'opp_pen_goals', 'home_game'],\n",
       "      dtype='object')"
      ]
     },
     "execution_count": 35,
     "metadata": {},
     "output_type": "execute_result"
    }
   ],
   "source": [
    "df_azkals.columns"
   ]
  },
  {
   "cell_type": "code",
   "execution_count": 36,
   "id": "347aeb38",
   "metadata": {},
   "outputs": [
    {
     "name": "stdout",
     "output_type": "stream",
     "text": [
      "<class 'pandas.core.frame.DataFrame'>\n",
      "RangeIndex: 401 entries, 0 to 400\n",
      "Data columns (total 15 columns):\n",
      " #   Column           Non-Null Count  Dtype         \n",
      "---  ------           --------------  -----         \n",
      " 0   competition      401 non-null    object        \n",
      " 1   date             399 non-null    datetime64[ns]\n",
      " 2   home_team        401 non-null    string        \n",
      " 3   scores           401 non-null    object        \n",
      " 4   away_team        401 non-null    string        \n",
      " 5   location         401 non-null    string        \n",
      " 6   penalty_scores   2 non-null      object        \n",
      " 7   opponent         401 non-null    string        \n",
      " 8   match_status     401 non-null    category      \n",
      " 9   ph_goal          401 non-null    int64         \n",
      " 10  opp_goal         401 non-null    int64         \n",
      " 11  goal_difference  401 non-null    int64         \n",
      " 12  ph_pen_goals     401 non-null    int64         \n",
      " 13  opp_pen_goals    401 non-null    int64         \n",
      " 14  home_game        401 non-null    bool          \n",
      "dtypes: bool(1), category(1), datetime64[ns](1), int64(5), object(3), string(4)\n",
      "memory usage: 41.8+ KB\n"
     ]
    }
   ],
   "source": [
    "df_azkals[\"match_status\"] = df_azkals[\"match_status\"].astype(\"category\")\n",
    "df_azkals.info()"
   ]
  },
  {
   "cell_type": "code",
   "execution_count": 37,
   "id": "47a3b91b",
   "metadata": {
    "scrolled": true
   },
   "outputs": [],
   "source": [
    "df_azkals = df_azkals[['date', 'opponent', 'match_status', 'ph_goal',\n",
    "                       'opp_goal', 'goal_difference', 'ph_pen_goals',\n",
    "                       'opp_pen_goals', 'competition', 'home_game', 'location',]]"
   ]
  },
  {
   "cell_type": "code",
   "execution_count": 38,
   "id": "34c02843",
   "metadata": {},
   "outputs": [
    {
     "data": {
      "text/html": [
       "<div>\n",
       "<style scoped>\n",
       "    .dataframe tbody tr th:only-of-type {\n",
       "        vertical-align: middle;\n",
       "    }\n",
       "\n",
       "    .dataframe tbody tr th {\n",
       "        vertical-align: top;\n",
       "    }\n",
       "\n",
       "    .dataframe thead th {\n",
       "        text-align: right;\n",
       "    }\n",
       "</style>\n",
       "<table border=\"1\" class=\"dataframe\">\n",
       "  <thead>\n",
       "    <tr style=\"text-align: right;\">\n",
       "      <th></th>\n",
       "      <th>date</th>\n",
       "      <th>opponent</th>\n",
       "      <th>match_status</th>\n",
       "      <th>ph_goal</th>\n",
       "      <th>opp_goal</th>\n",
       "      <th>goal_difference</th>\n",
       "      <th>ph_pen_goals</th>\n",
       "      <th>opp_pen_goals</th>\n",
       "      <th>competition</th>\n",
       "      <th>home_game</th>\n",
       "      <th>location</th>\n",
       "    </tr>\n",
       "  </thead>\n",
       "  <tbody>\n",
       "    <tr>\n",
       "      <th>0</th>\n",
       "      <td>1915-01-01</td>\n",
       "      <td>South China A.A.</td>\n",
       "      <td>Loss</td>\n",
       "      <td>1</td>\n",
       "      <td>3</td>\n",
       "      <td>-2</td>\n",
       "      <td>0</td>\n",
       "      <td>0</td>\n",
       "      <td>Friendly</td>\n",
       "      <td>False</td>\n",
       "      <td>Shanghai, China</td>\n",
       "    </tr>\n",
       "    <tr>\n",
       "      <th>1</th>\n",
       "      <td>1968-01-06</td>\n",
       "      <td>Dallas Tornado</td>\n",
       "      <td>Win</td>\n",
       "      <td>2</td>\n",
       "      <td>1</td>\n",
       "      <td>1</td>\n",
       "      <td>0</td>\n",
       "      <td>0</td>\n",
       "      <td>Friendly</td>\n",
       "      <td>False</td>\n",
       "      <td>Manila, Philippines</td>\n",
       "    </tr>\n",
       "    <tr>\n",
       "      <th>2</th>\n",
       "      <td>1972-02-12</td>\n",
       "      <td>Cruzeiro</td>\n",
       "      <td>Loss</td>\n",
       "      <td>0</td>\n",
       "      <td>6</td>\n",
       "      <td>-6</td>\n",
       "      <td>0</td>\n",
       "      <td>0</td>\n",
       "      <td>Friendly</td>\n",
       "      <td>False</td>\n",
       "      <td>Manila, Philippines</td>\n",
       "    </tr>\n",
       "    <tr>\n",
       "      <th>3</th>\n",
       "      <td>1972-06-06</td>\n",
       "      <td>South Korea B</td>\n",
       "      <td>Draw</td>\n",
       "      <td>1</td>\n",
       "      <td>1</td>\n",
       "      <td>0</td>\n",
       "      <td>0</td>\n",
       "      <td>0</td>\n",
       "      <td>Jakarta Anniversary Tournament</td>\n",
       "      <td>False</td>\n",
       "      <td>Jakarta, Indonesia</td>\n",
       "    </tr>\n",
       "    <tr>\n",
       "      <th>4</th>\n",
       "      <td>1972-07-23</td>\n",
       "      <td>Burma B</td>\n",
       "      <td>Draw</td>\n",
       "      <td>1</td>\n",
       "      <td>1</td>\n",
       "      <td>0</td>\n",
       "      <td>0</td>\n",
       "      <td>0</td>\n",
       "      <td>Merdeka Tournament</td>\n",
       "      <td>False</td>\n",
       "      <td>Ipoh, Malaysia</td>\n",
       "    </tr>\n",
       "    <tr>\n",
       "      <th>...</th>\n",
       "      <td>...</td>\n",
       "      <td>...</td>\n",
       "      <td>...</td>\n",
       "      <td>...</td>\n",
       "      <td>...</td>\n",
       "      <td>...</td>\n",
       "      <td>...</td>\n",
       "      <td>...</td>\n",
       "      <td>...</td>\n",
       "      <td>...</td>\n",
       "      <td>...</td>\n",
       "    </tr>\n",
       "    <tr>\n",
       "      <th>396</th>\n",
       "      <td>2023-09-08</td>\n",
       "      <td>Chinese Taipei</td>\n",
       "      <td>Draw</td>\n",
       "      <td>1</td>\n",
       "      <td>1</td>\n",
       "      <td>0</td>\n",
       "      <td>0</td>\n",
       "      <td>0</td>\n",
       "      <td>Friendly</td>\n",
       "      <td>False</td>\n",
       "      <td>Kaohsiung, Taiwan</td>\n",
       "    </tr>\n",
       "    <tr>\n",
       "      <th>397</th>\n",
       "      <td>2023-09-12</td>\n",
       "      <td>Afghanistan</td>\n",
       "      <td>Win</td>\n",
       "      <td>2</td>\n",
       "      <td>1</td>\n",
       "      <td>1</td>\n",
       "      <td>0</td>\n",
       "      <td>0</td>\n",
       "      <td>Friendly</td>\n",
       "      <td>False</td>\n",
       "      <td>Manila, Philippines</td>\n",
       "    </tr>\n",
       "    <tr>\n",
       "      <th>398</th>\n",
       "      <td>2023-10-17</td>\n",
       "      <td>Bahrain</td>\n",
       "      <td>Loss</td>\n",
       "      <td>0</td>\n",
       "      <td>1</td>\n",
       "      <td>-1</td>\n",
       "      <td>0</td>\n",
       "      <td>0</td>\n",
       "      <td>Friendly</td>\n",
       "      <td>False</td>\n",
       "      <td>Arad, Bahrain</td>\n",
       "    </tr>\n",
       "    <tr>\n",
       "      <th>399</th>\n",
       "      <td>2023-11-16</td>\n",
       "      <td>Vietnam</td>\n",
       "      <td>Loss</td>\n",
       "      <td>0</td>\n",
       "      <td>2</td>\n",
       "      <td>-2</td>\n",
       "      <td>0</td>\n",
       "      <td>0</td>\n",
       "      <td>FIFA World Cup qualification</td>\n",
       "      <td>False</td>\n",
       "      <td>Manila, Philippines</td>\n",
       "    </tr>\n",
       "    <tr>\n",
       "      <th>400</th>\n",
       "      <td>2023-11-21</td>\n",
       "      <td>Indonesia</td>\n",
       "      <td>Draw</td>\n",
       "      <td>1</td>\n",
       "      <td>1</td>\n",
       "      <td>0</td>\n",
       "      <td>0</td>\n",
       "      <td>0</td>\n",
       "      <td>FIFA World Cup qualification</td>\n",
       "      <td>False</td>\n",
       "      <td>Manila, Philippines</td>\n",
       "    </tr>\n",
       "  </tbody>\n",
       "</table>\n",
       "<p>401 rows × 11 columns</p>\n",
       "</div>"
      ],
      "text/plain": [
       "          date          opponent match_status  ph_goal  opp_goal  \\\n",
       "0   1915-01-01  South China A.A.         Loss        1         3   \n",
       "1   1968-01-06    Dallas Tornado          Win        2         1   \n",
       "2   1972-02-12          Cruzeiro         Loss        0         6   \n",
       "3   1972-06-06     South Korea B         Draw        1         1   \n",
       "4   1972-07-23           Burma B         Draw        1         1   \n",
       "..         ...               ...          ...      ...       ...   \n",
       "396 2023-09-08    Chinese Taipei         Draw        1         1   \n",
       "397 2023-09-12       Afghanistan          Win        2         1   \n",
       "398 2023-10-17           Bahrain         Loss        0         1   \n",
       "399 2023-11-16           Vietnam         Loss        0         2   \n",
       "400 2023-11-21         Indonesia         Draw        1         1   \n",
       "\n",
       "     goal_difference  ph_pen_goals  opp_pen_goals  \\\n",
       "0                 -2             0              0   \n",
       "1                  1             0              0   \n",
       "2                 -6             0              0   \n",
       "3                  0             0              0   \n",
       "4                  0             0              0   \n",
       "..               ...           ...            ...   \n",
       "396                0             0              0   \n",
       "397                1             0              0   \n",
       "398               -1             0              0   \n",
       "399               -2             0              0   \n",
       "400                0             0              0   \n",
       "\n",
       "                        competition  home_game             location  \n",
       "0                          Friendly      False      Shanghai, China  \n",
       "1                          Friendly      False  Manila, Philippines  \n",
       "2                          Friendly      False  Manila, Philippines  \n",
       "3    Jakarta Anniversary Tournament      False   Jakarta, Indonesia  \n",
       "4                Merdeka Tournament      False       Ipoh, Malaysia  \n",
       "..                              ...        ...                  ...  \n",
       "396                        Friendly      False    Kaohsiung, Taiwan  \n",
       "397                        Friendly      False  Manila, Philippines  \n",
       "398                        Friendly      False        Arad, Bahrain  \n",
       "399    FIFA World Cup qualification      False  Manila, Philippines  \n",
       "400    FIFA World Cup qualification      False  Manila, Philippines  \n",
       "\n",
       "[401 rows x 11 columns]"
      ]
     },
     "execution_count": 38,
     "metadata": {},
     "output_type": "execute_result"
    }
   ],
   "source": [
    "df_azkals"
   ]
  },
  {
   "cell_type": "code",
   "execution_count": 39,
   "id": "d9701bb6",
   "metadata": {},
   "outputs": [],
   "source": [
    "# Download the dataframe as a csv file\n",
    "# df_azkals.to_csv('azkals_matches.csv', sep=\"|\")"
   ]
  },
  {
   "cell_type": "markdown",
   "id": "076446be",
   "metadata": {},
   "source": [
    "# 4. Feature Understanding\n",
    "- Univariate Analysis - use things like a histogram, KDE, boxplot, etc."
   ]
  },
  {
   "cell_type": "code",
   "execution_count": 40,
   "id": "1451b618",
   "metadata": {},
   "outputs": [
    {
     "data": {
      "image/png": "[encoded data removed]",
      "text/plain": [
       "<Figure size 1000x500 with 1 Axes>"
      ]
     },
     "metadata": {},
     "output_type": "display_data"
    }
   ],
   "source": [
    "plt.figure(figsize=(10, 5), dpi=100)\n",
    "ten_most_played = df_azkals[\"opponent\"].value_counts().head(15)\n",
    "plt.bar(ten_most_played.index, ten_most_played)\n",
    "plt.show()"
   ]
  },
  {
   "cell_type": "markdown",
   "id": "cca5dfb8",
   "metadata": {},
   "source": [
    "# 5. Feature Relationships\n",
    "- Multivariate Analysis - use things like a Scatterplot, Heatmap Correlation, Pairplot, Groupby Comparisons"
   ]
  },
  {
   "cell_type": "markdown",
   "id": "f2e1f922",
   "metadata": {},
   "source": [
    "# 6. Ask Questions about the Data\n",
    "- Questions:\n",
    "1. What is the win, loss, and draw ratio of the Azkals over the decades?\n",
    "2. Do the Azkals experience a higher win rate when playing at home?\n",
    "3. By how many goals do the Azkals tend to win or lose by?\n",
    "4. What are the competitions that the azkals most commonly plays in?\n",
    "5. What teams do the Azkals play against most often and what is their performance against them?"
   ]
  },
  {
   "cell_type": "markdown",
   "id": "2d5fca87",
   "metadata": {},
   "source": [
    "# 7. Geospatial Data (Optional)"
   ]
  },
  {
   "cell_type": "code",
   "execution_count": null,
   "id": "1965f60e",
   "metadata": {},
   "outputs": [],
   "source": []
  },
  {
   "cell_type": "markdown",
   "id": "87e00f5f-eb86-437d-b0f4-4ebeebd7ea9f",
   "metadata": {},
   "source": [
    "<h2>References</h2>\n",
    "<ul>\n",
    "    <li>Garin, E. (1999, December 10). South East Asian Games 1956 (Manila, Philippines). Rec.Sport.Soccer Statistics Foundation. Retrieved August 14, 2024, from https://www.rsssf.org/tabless/sea56.html</li>\n",
    "    <li>Knight, K. (2023, October 27). Second Far Eastern Games 1915 (Shanghai). Rec.Sport.Soccer Statistics Foundation. Retrieved August 14, 2024, from https://www.rsssf.org/tablesf/fareastgames15.html#det</li>\n",
    "    <li>Stokkermans, K., & Cruickshank, M. (2008, April 18). Pesta Sukan Cup 1972. Rec.Sport.Soccer Statistics Foundation. Retrieved August 19, 2024, from https://www.rsssf.org/tablesp/pestasukan72.html</li>\n",
    "</ul>"
   ]
  }
 ],
 "metadata": {
  "kernelspec": {
   "display_name": "Python 3 (ipykernel)",
   "language": "python",
   "name": "python3"
  },
  "language_info": {
   "codemirror_mode": {
    "name": "ipython",
    "version": 3
   },
   "file_extension": ".py",
   "mimetype": "text/x-python",
   "name": "python",
   "nbconvert_exporter": "python",
   "pygments_lexer": "ipython3",
   "version": "3.10.13"
  }
 },
 "nbformat": 4,
 "nbformat_minor": 5
}
